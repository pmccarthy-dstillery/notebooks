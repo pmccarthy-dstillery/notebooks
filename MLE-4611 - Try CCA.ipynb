{
 "cells": [
  {
   "cell_type": "markdown",
   "id": "pressing-dependence",
   "metadata": {},
   "source": [
    "Build a canonical correlation analysis (CCA) model to cast fasttext and moti into the same latent space. \n",
    "\n",
    "* Self-search rank is improved against simple fasttext lookups using transformed descr-keywords and descr-moti\n",
    "* These improvements do not, however, move the majority of self-search queries below rank 50\n",
    "* CCA changes the fasttext space, causing relative distances to change and hampering overall embedding quality metrics"
   ]
  },
  {
   "cell_type": "markdown",
   "id": "conservative-administrator",
   "metadata": {},
   "source": [
    "## Imports, etc."
   ]
  },
  {
   "cell_type": "code",
   "execution_count": 1,
   "id": "molecular-colors",
   "metadata": {
    "ExecuteTime": {
     "end_time": "2021-04-29T16:25:27.022244Z",
     "start_time": "2021-04-29T16:25:27.016856Z"
    }
   },
   "outputs": [],
   "source": [
    "## Magic numbers\n",
    "FASTTEXT_WIDTH = 300\n",
    "MOTI_WIDTH = 128\n",
    "NUM_CONTENT_PER_INSIGHT = 40\n",
    "NUM_KEYWORDS_PER_CONTENT = 50"
   ]
  },
  {
   "cell_type": "code",
   "execution_count": 2,
   "id": "renewable-liechtenstein",
   "metadata": {
    "ExecuteTime": {
     "end_time": "2021-04-29T16:25:27.038169Z",
     "start_time": "2021-04-29T16:25:27.028249Z"
    }
   },
   "outputs": [],
   "source": [
    "FILES = {\n",
    "    # wiki-news-300d-1M.vec.zip: 1 million word vectors trained on Wikipedia 2017, UMBC webbase corpus and statmt.org news dataset (16B tokens).\n",
    "    'wiki.en.bin':                             '/home/pmccarthy/projects/audiencefinder/data/wiki.en.bin', \n",
    "    'cca_model_10.joblib':                     '/home/pmccarthy/projects/audiencefinder/MLE-4611/cca_model_10.joblib',\n",
    "    'cca_model_20.joblib':                     '/home/pmccarthy/projects/audiencefinder/MLE-4611/cca_model_20.joblib',\n",
    "    'cca_model_30.joblib':                     '/home/pmccarthy/projects/audiencefinder/MLE-4611/cca_model_30.joblib',\n",
    "    'interests.tsv':                           '/home/pmccarthy/projects/audiencefinder/interests.tsv',\n",
    "    'keywords.tsv':                            '/home/pmccarthy/projects/audiencefinder/keywords.tsv',\n",
    "    'mle4600_adv_contextual_keywords.parquet': '/home/pmccarthy/projects/audiencefinder/mle4600_adv_contextual_keywords.parquet',\n",
    "    'embeddings_20210426_153704.npy':          '/home/pmccarthy/projects/audiencefinder/data/embeddings_20210426_153704.npy',\n",
    "    'gensim_fasttext.bin':                     '/home/pmccarthy/projects/audiencefinder/data/gensim_fasttext.bin'\n",
    "}"
   ]
  },
  {
   "cell_type": "code",
   "execution_count": 3,
   "id": "packed-madness",
   "metadata": {
    "ExecuteTime": {
     "end_time": "2021-04-29T16:25:45.657966Z",
     "start_time": "2021-04-29T16:25:27.044805Z"
    }
   },
   "outputs": [],
   "source": [
    "import collections \n",
    "import fasttext\n",
    "import io\n",
    "import joblib\n",
    "import json\n",
    "import mmh3\n",
    "import numpy as np\n",
    "import os\n",
    "import pandas as pd\n",
    "from plotnine import *\n",
    "from scipy import stats\n",
    "import sys\n",
    "\n",
    "import gensim\n",
    "from gensim.test.utils import datapath\n",
    "from gensim.models import KeyedVectors\n",
    "\n",
    "from scipy.stats import rankdata\n",
    "\n",
    "from sklearn.base import BaseEstimator, TransformerMixin\n",
    "from sklearn.cross_decomposition import CCA\n",
    "from sklearn.metrics.pairwise import cosine_similarity\n",
    "\n",
    "from typing import Dict, List"
   ]
  },
  {
   "cell_type": "markdown",
   "id": "progressive-grant",
   "metadata": {},
   "source": [
    "## Helper Functions"
   ]
  },
  {
   "cell_type": "code",
   "execution_count": 4,
   "id": "partial-forty",
   "metadata": {
    "ExecuteTime": {
     "end_time": "2021-04-29T16:25:59.538111Z",
     "start_time": "2021-04-29T16:25:59.522071Z"
    },
    "code_folding": [
     0
    ]
   },
   "outputs": [],
   "source": [
    "class JsonReader(BaseEstimator, TransformerMixin):\n",
    "    \n",
    "    def __init__(self, stemming=False):\n",
    "        self.stemming = stemming\n",
    "        \n",
    "        super(JsonReader).__init__()\n",
    "    \n",
    "    \n",
    "    @staticmethod\n",
    "    def _stem_and_add(json_str):\n",
    "        \"\"\"\n",
    "        Transform each token into its stemmed substring,\n",
    "        and build the dict as {stem: (sum of counts of words with this stem)}\n",
    "        \"\"\"\n",
    "        stemmed_counts = collections.defaultdict(int)        \n",
    "        stem = nltk.stem.SnowballStemmer('english')\n",
    "        \n",
    "        json_dict = json.loads(json_str)\n",
    "        \n",
    "        for k in json_dict.keys():\n",
    "            stemmed_counts[stem.stem(k)] += json_dict[k]\n",
    "        \n",
    "        return stemmed_counts\n",
    "    \n",
    "    \n",
    "    def fit(self, X, y=None):\n",
    "        return self\n",
    "    \n",
    "    \n",
    "    def transform(self, X):        \n",
    "        if self.stemming:\n",
    "            return X.apply(self._stem_and_add)\n",
    "        else:\n",
    "            return X.apply(json.loads)"
   ]
  },
  {
   "cell_type": "code",
   "execution_count": 5,
   "id": "changing-segment",
   "metadata": {
    "ExecuteTime": {
     "end_time": "2021-04-29T16:26:00.838658Z",
     "start_time": "2021-04-29T16:26:00.826379Z"
    }
   },
   "outputs": [],
   "source": [
    "class TransformAndFasttext():\n",
    "    \n",
    "    def __init__(self, ft_model, sk_model):\n",
    "        \n",
    "        self.sk_model = sk_model\n",
    "        self.ft_model = ft_model\n",
    "    \n",
    "    def get_sentence_vector(self, X):\n",
    "        \n",
    "        return self.sk_model.transform(np.expand_dims(\n",
    "            self.ft_model.get_sentence_vector(X)\n",
    "            ,0))\n",
    "    \n",
    "    def get_content_vector(self, Y):\n",
    "    \n",
    "        dummy_vals = np.zeros((Y.shape[0], self.sk_model.x_rotations_.shape[0]))\n",
    "\n",
    "        _, y_transformed = self.sk_model.transform(dummy_vals, Y)\n",
    "\n",
    "        return np.mean(y_transformed, axis=0, keepdims=True)\n",
    "        "
   ]
  },
  {
   "cell_type": "code",
   "execution_count": 6,
   "id": "cheap-qualification",
   "metadata": {
    "ExecuteTime": {
     "end_time": "2021-04-29T16:26:06.739318Z",
     "start_time": "2021-04-29T16:26:06.714560Z"
    },
    "code_folding": []
   },
   "outputs": [],
   "source": [
    "class ColumnComparison():\n",
    "    \n",
    "    def __init__(self, basis_text: pd.Series, compare_text: pd.Series, model: fasttext.FastText):\n",
    "        \n",
    "        assert basis_text.shape[0] == compare_text.shape[0], \"basis text and compare text Series must have same length\"\n",
    "        \n",
    "        self.basis_text = basis_text\n",
    "        self.compare_text = compare_text\n",
    "        self.basis_vectors = basis_text.apply(model.get_sentence_vector)\n",
    "        self.compare_vectors = compare_text.apply(model.get_sentence_vector)\n",
    "        \n",
    "    @property\n",
    "    def distance(self) -> pd.Series:\n",
    "        \n",
    "        distance_arr = 1.0 - cosine_similarity(\n",
    "            np.vstack(self.basis_vectors),\n",
    "            np.vstack(self.compare_vectors)\n",
    "        )\n",
    "                \n",
    "        assert np.array_equal(distance_arr.shape, \n",
    "                              np.array([self.basis_text.shape[0], self.compare_text.shape[0]]))\n",
    "        \n",
    "        return distance_arr\n",
    "    \n",
    "    @property\n",
    "    def self_distance(self) -> np.ndarray:\n",
    "        \"\"\"\n",
    "        \"\"\"\n",
    "        \n",
    "        return np.diag(self.distance)\n",
    "    \n",
    "    @property\n",
    "    def best_basis_compare_distance(self) -> np.ndarray:\n",
    "        \"\"\"\n",
    "        Basis is X, Compare is Y, so for the Xth row\n",
    "        find the smallest element of Y\n",
    "        \"\"\"\n",
    "        \n",
    "        # min along axis 1\n",
    "        return np.min(self.distance, axis=1)\n",
    "    \n",
    "    @property\n",
    "    def best_compare_for_basis(self) -> pd.Series:\n",
    "        \"\"\"\n",
    "        Target is X, Compare is Y, so for the Xth row\n",
    "        find which element of Y is the smallest\n",
    "        \"\"\"\n",
    "        \n",
    "        # min along axis 1\n",
    "        min_indices = np.argmin(self.distance, axis=1)\n",
    "        return self.compare_text.values[tuple([min_indices])]\n",
    "        \n",
    "    @property\n",
    "    def basis_of_best_compare(self) -> pd.Series:\n",
    "        \"\"\"\n",
    "        For an entry of self.basis_text, first find the \n",
    "        self.compare_text that is nearest by cosine distance \n",
    "        and get the basis corresponding to that match.\n",
    "        \"\"\"\n",
    "        \n",
    "        min_indices = np.argmin(self.distance, axis=0)\n",
    "        return self.basis_text.values[tuple([min_indices])]\n",
    "    \n",
    "    @property\n",
    "    def basis_self_rank(self) -> np.ndarray:\n",
    "        \"\"\"\n",
    "        For a given value in self.compare_text, rank\n",
    "        self.basis_text in terms of closeness by cosine distance.\n",
    "        Return the rank of the basis corresponding to the compare_text.\n",
    "        \"\"\"\n",
    "        \n",
    "        # rank down the column, i.e. rank basis in terms of each compare\n",
    "        return np.diag(rankdata(self.distance, axis=0))"
   ]
  },
  {
   "cell_type": "code",
   "execution_count": 104,
   "id": "abandoned-sullivan",
   "metadata": {
    "ExecuteTime": {
     "end_time": "2021-04-29T17:26:04.790471Z",
     "start_time": "2021-04-29T17:26:04.781133Z"
    }
   },
   "outputs": [],
   "source": [
    "class MOTIColumnComparison(ColumnComparison):\n",
    "    \"\"\"\n",
    "    consider compare text to be a list of moti vectors instead of a list of keywords\n",
    "    \"\"\"\n",
    "    \n",
    "    def __init__(self, basis_text: pd.Series, compare_text: pd.Series, model):\n",
    "        \n",
    "        self.basis_text = basis_text\n",
    "        self.compare_text = compare_text\n",
    "        \n",
    "        self.basis_vectors = basis_text.apply(model.get_sentence_vector)\n",
    "        self.compare_vectors = compare_text.apply(model.get_content_vector)\n",
    "        "
   ]
  },
  {
   "cell_type": "markdown",
   "id": "hawaiian-formation",
   "metadata": {
    "heading_collapsed": true
   },
   "source": [
    "## Play with CCA"
   ]
  },
  {
   "cell_type": "markdown",
   "id": "fundamental-associate",
   "metadata": {
    "ExecuteTime": {
     "end_time": "2021-04-27T15:27:05.929068Z",
     "start_time": "2021-04-27T15:27:05.922885Z"
    },
    "heading_collapsed": true,
    "hidden": true
   },
   "source": [
    "### scikit-example: [link](https://scikit-learn.org/stable/modules/generated/sklearn.cross_decomposition.CCA.html?highlight=cca#sklearn.cross_decomposition.CCA)"
   ]
  },
  {
   "cell_type": "code",
   "execution_count": 8,
   "id": "corporate-acting",
   "metadata": {
    "ExecuteTime": {
     "end_time": "2021-04-29T16:26:53.176859Z",
     "start_time": "2021-04-29T16:26:52.785351Z"
    },
    "hidden": true
   },
   "outputs": [],
   "source": [
    "X = [[0., 0., 1.], [1.,0.,0.], [2.,2.,2.], [3.,5.,4.]]\n",
    "Y = [[0.1, -0.2], [0.9, 1.1], [6.2, 5.9], [11.9, 12.3]]\n",
    "\n",
    "sk_cca = CCA(n_components=1)\n",
    "sk_cca.fit(X, Y)\n",
    "X_c, Y_c = sk_cca.transform(X, Y)"
   ]
  },
  {
   "cell_type": "code",
   "execution_count": 9,
   "id": "graphic-flour",
   "metadata": {
    "ExecuteTime": {
     "end_time": "2021-04-29T16:26:53.965076Z",
     "start_time": "2021-04-29T16:26:53.950535Z"
    },
    "hidden": true
   },
   "outputs": [
    {
     "data": {
      "text/plain": [
       "True"
      ]
     },
     "execution_count": 9,
     "metadata": {},
     "output_type": "execute_result"
    }
   ],
   "source": [
    "# Transform without Y\n",
    "np.array_equal(\n",
    "    sk_cca.transform(X),\n",
    "    X_c)"
   ]
  },
  {
   "cell_type": "markdown",
   "id": "interior-glenn",
   "metadata": {
    "heading_collapsed": true,
    "hidden": true
   },
   "source": [
    "### PSU Example [link](https://online.stat.psu.edu/stat505/lesson/13)"
   ]
  },
  {
   "cell_type": "code",
   "execution_count": 10,
   "id": "inside-peace",
   "metadata": {
    "ExecuteTime": {
     "end_time": "2021-04-29T16:27:00.297838Z",
     "start_time": "2021-04-29T16:27:00.291698Z"
    },
    "hidden": true
   },
   "outputs": [],
   "source": [
    "dat = \"\"\"\n",
    "  93.0  96.0  97.8  9  12  9  20\n",
    "  88.8  91.8  96.8  7  10  10  15\n",
    "  95.0  100.3  99.0  8  12  9  26\n",
    "  101.3  103.8  106.8  13  14  12  29\n",
    "  102.0  107.8  103.0  10  15  12  32\n",
    "  95.8  97.5  99.3  10  14  11  21\n",
    "  95.5  99.5  99.0  9  12  9  25\n",
    "  110.8  122.0  115.3  18  20  15  51\n",
    "  102.8  108.3  103.8  10  17  13  31\n",
    "  106.8  120.5  102.0  14  18  11  39\n",
    "  103.3  109.8  104.0  12  17  12  32\n",
    "  99.5  111.8  100.3  10  18  8  31\n",
    "  103.5  112.5  107.0  16  17  11  34\n",
    "  99.5  105.5  102.3  8  10  11  34\n",
    "  100.0  107.0  102.8  13  10  8  34\n",
    "  81.5  93.5  95.0  7  9  5  16\n",
    "  101.3  105.3  102.8  11  12  11  32\n",
    "  103.3  110.8  103.5  11  14  11  35\n",
    "  95.3  104.3  103.0  5  14  13  30\n",
    "  99.5  105.3  106.3  17  17  11  27\n",
    "  88.5  95.3  95.8  10  12  7  15\n",
    "  99.3  115.0  104.3  5  11  11  42\n",
    "  87.5  92.5  95.8  9  9  7  16\n",
    "  105.3  114.0  105.3  12  15  12  37\n",
    "  107.0  121.0  109.0  16  19  12  39\n",
    "  93.3  102.0  97.8  10  15  7  23\n",
    "  106.8  118.0  107.3  14  16  12  39\n",
    "  106.8  120.0  104.8  10  16  11  49\n",
    "  92.3  90.8  99.8  8  10  13  17\n",
    "  106.3  121.0  104.5  9  17  11  44\n",
    "  106.0  119.5  110.5  18  15  10  43\n",
    "  88.3  92.8  96.8  13  11  8  10\n",
    "  96.0  103.3  100.5  7  15  11  27\n",
    "  94.3  94.5  99.0  10  12  11  19\n",
    "  106.5  121.5  110.5  18  17  10  42\n",
    "  106.5  115.5  107.0  8  13  14  47\n",
    "  92.0  99.5  103.5  18  16  8  18\n",
    "  102.0  99.8  103.3  13  12  14  28\n",
    "  108.3  122.3  108.5  15  19  12  41\n",
    "  106.8  119.0  106.8  14  20  12  37\n",
    "  102.5  109.3  103.8  9  17  13  32\n",
    "  92.5  102.5  99.3  13  15  6  23\n",
    "  102.8  113.8  106.8  17  20  10  32\n",
    "  83.3  87.3  96.3  1  5  9  15\n",
    "  94.8  101.8  99.8  7  16  11  24\n",
    "  103.5  112.0  110.8  18  13  12  37\n",
    "  89.5  96.0  97.3  7  15  11  14\n",
    "  84.3  89.8  94.3  8  8  8  9\n",
    "  104.3  109.5  106.5  14  12  12  36\n",
    "  106.0  118.5  105.0  12  16  11  39\n",
    "\"\"\""
   ]
  },
  {
   "cell_type": "markdown",
   "id": "extended-cross",
   "metadata": {
    "heading_collapsed": true,
    "hidden": true
   },
   "source": [
    "### Schools Example [link](https://towardsdatascience.com/understanding-how-schools-work-with-canonical-correlation-analysis-4c9a88c6b913)"
   ]
  },
  {
   "cell_type": "code",
   "execution_count": 11,
   "id": "considerable-bailey",
   "metadata": {
    "ExecuteTime": {
     "end_time": "2021-04-29T16:27:02.351166Z",
     "start_time": "2021-04-29T16:27:02.134481Z"
    },
    "hidden": true,
    "scrolled": true
   },
   "outputs": [],
   "source": [
    "df = pd.read_csv(\"cca/2016 School Explorer.csv\")"
   ]
  },
  {
   "cell_type": "code",
   "execution_count": 12,
   "id": "entertaining-panic",
   "metadata": {
    "ExecuteTime": {
     "end_time": "2021-04-29T16:27:03.770299Z",
     "start_time": "2021-04-29T16:27:03.745321Z"
    },
    "hidden": true
   },
   "outputs": [],
   "source": [
    "# choose relevant features\n",
    "df = df[['Rigorous Instruction %',\n",
    "      'Collaborative Teachers %',\n",
    "     'Supportive Environment %',\n",
    "       'Effective School Leadership %',\n",
    "   'Strong Family-Community Ties %',\n",
    "    'Trust %','Average ELA Proficiency',\n",
    "       'Average Math Proficiency']]\n",
    "# drop missing values\n",
    "df = df.dropna()\n",
    "# separate X and Y groups\n",
    "X = df[['Rigorous Instruction %',\n",
    "      'Collaborative Teachers %',\n",
    "     'Supportive Environment %',\n",
    "       'Effective School Leadership %',\n",
    "   'Strong Family-Community Ties %',\n",
    "    'Trust %'\n",
    "      ]]\n",
    "Y = df[['Average ELA Proficiency',\n",
    "       'Average Math Proficiency']]"
   ]
  },
  {
   "cell_type": "code",
   "execution_count": 13,
   "id": "distinguished-trunk",
   "metadata": {
    "ExecuteTime": {
     "end_time": "2021-04-29T16:27:04.962304Z",
     "start_time": "2021-04-29T16:27:04.899575Z"
    },
    "hidden": true
   },
   "outputs": [
    {
     "name": "stderr",
     "output_type": "stream",
     "text": [
      "/home/pmccarthy/opt/miniconda3/envs/mle4587/lib/python3.7/site-packages/ipykernel_launcher.py:2: SettingWithCopyWarning: \n",
      "A value is trying to be set on a copy of a slice from a DataFrame.\n",
      "Try using .loc[row_indexer,col_indexer] = value instead\n",
      "\n",
      "See the caveats in the documentation: https://pandas.pydata.org/pandas-docs/stable/user_guide/indexing.html#returning-a-view-versus-a-copy\n",
      "/home/pmccarthy/opt/miniconda3/envs/mle4587/lib/python3.7/site-packages/ipykernel_launcher.py:3: SettingWithCopyWarning: \n",
      "A value is trying to be set on a copy of a slice from a DataFrame.\n",
      "Try using .loc[row_indexer,col_indexer] = value instead\n",
      "\n",
      "See the caveats in the documentation: https://pandas.pydata.org/pandas-docs/stable/user_guide/indexing.html#returning-a-view-versus-a-copy\n"
     ]
    }
   ],
   "source": [
    "for col in X.columns:\n",
    "    X[col] = X[col].str.strip('%')\n",
    "    X[col] = X[col].astype('int')\n",
    "# Standardise the data\n",
    "from sklearn.preprocessing import StandardScaler\n",
    "sc = StandardScaler(with_mean=True, with_std=True)\n",
    "X_sc = sc.fit_transform(X)\n",
    "Y_sc = sc.fit_transform(Y)"
   ]
  },
  {
   "cell_type": "markdown",
   "id": "racial-texas",
   "metadata": {
    "heading_collapsed": true,
    "hidden": true
   },
   "source": [
    "### Penguins example"
   ]
  },
  {
   "cell_type": "code",
   "execution_count": 14,
   "id": "automotive-closure",
   "metadata": {
    "ExecuteTime": {
     "end_time": "2021-04-29T16:28:10.963937Z",
     "start_time": "2021-04-29T16:28:10.621482Z"
    },
    "hidden": true
   },
   "outputs": [
    {
     "data": {
      "text/html": [
       "<div>\n",
       "<style scoped>\n",
       "    .dataframe tbody tr th:only-of-type {\n",
       "        vertical-align: middle;\n",
       "    }\n",
       "\n",
       "    .dataframe tbody tr th {\n",
       "        vertical-align: top;\n",
       "    }\n",
       "\n",
       "    .dataframe thead th {\n",
       "        text-align: right;\n",
       "    }\n",
       "</style>\n",
       "<table border=\"1\" class=\"dataframe\">\n",
       "  <thead>\n",
       "    <tr style=\"text-align: right;\">\n",
       "      <th></th>\n",
       "      <th>species</th>\n",
       "      <th>island</th>\n",
       "      <th>bill_length_mm</th>\n",
       "      <th>bill_depth_mm</th>\n",
       "      <th>flipper_length_mm</th>\n",
       "      <th>body_mass_g</th>\n",
       "      <th>sex</th>\n",
       "    </tr>\n",
       "  </thead>\n",
       "  <tbody>\n",
       "    <tr>\n",
       "      <th>0</th>\n",
       "      <td>Adelie</td>\n",
       "      <td>Torgersen</td>\n",
       "      <td>39.1</td>\n",
       "      <td>18.7</td>\n",
       "      <td>181.0</td>\n",
       "      <td>3750.0</td>\n",
       "      <td>MALE</td>\n",
       "    </tr>\n",
       "    <tr>\n",
       "      <th>1</th>\n",
       "      <td>Adelie</td>\n",
       "      <td>Torgersen</td>\n",
       "      <td>39.5</td>\n",
       "      <td>17.4</td>\n",
       "      <td>186.0</td>\n",
       "      <td>3800.0</td>\n",
       "      <td>FEMALE</td>\n",
       "    </tr>\n",
       "    <tr>\n",
       "      <th>2</th>\n",
       "      <td>Adelie</td>\n",
       "      <td>Torgersen</td>\n",
       "      <td>40.3</td>\n",
       "      <td>18.0</td>\n",
       "      <td>195.0</td>\n",
       "      <td>3250.0</td>\n",
       "      <td>FEMALE</td>\n",
       "    </tr>\n",
       "    <tr>\n",
       "      <th>4</th>\n",
       "      <td>Adelie</td>\n",
       "      <td>Torgersen</td>\n",
       "      <td>36.7</td>\n",
       "      <td>19.3</td>\n",
       "      <td>193.0</td>\n",
       "      <td>3450.0</td>\n",
       "      <td>FEMALE</td>\n",
       "    </tr>\n",
       "    <tr>\n",
       "      <th>5</th>\n",
       "      <td>Adelie</td>\n",
       "      <td>Torgersen</td>\n",
       "      <td>39.3</td>\n",
       "      <td>20.6</td>\n",
       "      <td>190.0</td>\n",
       "      <td>3650.0</td>\n",
       "      <td>MALE</td>\n",
       "    </tr>\n",
       "  </tbody>\n",
       "</table>\n",
       "</div>"
      ],
      "text/plain": [
       "  species     island  bill_length_mm  bill_depth_mm  flipper_length_mm  \\\n",
       "0  Adelie  Torgersen            39.1           18.7              181.0   \n",
       "1  Adelie  Torgersen            39.5           17.4              186.0   \n",
       "2  Adelie  Torgersen            40.3           18.0              195.0   \n",
       "4  Adelie  Torgersen            36.7           19.3              193.0   \n",
       "5  Adelie  Torgersen            39.3           20.6              190.0   \n",
       "\n",
       "   body_mass_g     sex  \n",
       "0       3750.0    MALE  \n",
       "1       3800.0  FEMALE  \n",
       "2       3250.0  FEMALE  \n",
       "4       3450.0  FEMALE  \n",
       "5       3650.0    MALE  "
      ]
     },
     "execution_count": 14,
     "metadata": {},
     "output_type": "execute_result"
    }
   ],
   "source": [
    "# https://cmdlinetips.com/2020/12/canonical-correlation-analysis-in-python/\n",
    "\n",
    "link2data = \"https://raw.githubusercontent.com/mwaskom/seaborn-data/master/penguins.csv\"\n",
    "pengdf = pd.read_csv(link2data)\n",
    "pengdf = pengdf.dropna()\n",
    "pengdf.head()"
   ]
  },
  {
   "cell_type": "code",
   "execution_count": 15,
   "id": "virgin-acquisition",
   "metadata": {
    "ExecuteTime": {
     "end_time": "2021-04-29T16:28:12.588188Z",
     "start_time": "2021-04-29T16:28:12.565989Z"
    },
    "hidden": true
   },
   "outputs": [
    {
     "data": {
      "text/html": [
       "<div>\n",
       "<style scoped>\n",
       "    .dataframe tbody tr th:only-of-type {\n",
       "        vertical-align: middle;\n",
       "    }\n",
       "\n",
       "    .dataframe tbody tr th {\n",
       "        vertical-align: top;\n",
       "    }\n",
       "\n",
       "    .dataframe thead th {\n",
       "        text-align: right;\n",
       "    }\n",
       "</style>\n",
       "<table border=\"1\" class=\"dataframe\">\n",
       "  <thead>\n",
       "    <tr style=\"text-align: right;\">\n",
       "      <th></th>\n",
       "      <th>bill_length_mm</th>\n",
       "      <th>bill_depth_mm</th>\n",
       "    </tr>\n",
       "  </thead>\n",
       "  <tbody>\n",
       "    <tr>\n",
       "      <th>0</th>\n",
       "      <td>39.1</td>\n",
       "      <td>18.7</td>\n",
       "    </tr>\n",
       "    <tr>\n",
       "      <th>1</th>\n",
       "      <td>39.5</td>\n",
       "      <td>17.4</td>\n",
       "    </tr>\n",
       "    <tr>\n",
       "      <th>2</th>\n",
       "      <td>40.3</td>\n",
       "      <td>18.0</td>\n",
       "    </tr>\n",
       "    <tr>\n",
       "      <th>4</th>\n",
       "      <td>36.7</td>\n",
       "      <td>19.3</td>\n",
       "    </tr>\n",
       "    <tr>\n",
       "      <th>5</th>\n",
       "      <td>39.3</td>\n",
       "      <td>20.6</td>\n",
       "    </tr>\n",
       "  </tbody>\n",
       "</table>\n",
       "</div>"
      ],
      "text/plain": [
       "   bill_length_mm  bill_depth_mm\n",
       "0            39.1           18.7\n",
       "1            39.5           17.4\n",
       "2            40.3           18.0\n",
       "4            36.7           19.3\n",
       "5            39.3           20.6"
      ]
     },
     "execution_count": 15,
     "metadata": {},
     "output_type": "execute_result"
    }
   ],
   "source": [
    "X = pengdf[['bill_length_mm','bill_depth_mm']]\n",
    "X.head()"
   ]
  },
  {
   "cell_type": "code",
   "execution_count": 16,
   "id": "scientific-advisory",
   "metadata": {
    "ExecuteTime": {
     "end_time": "2021-04-29T16:28:13.145246Z",
     "start_time": "2021-04-29T16:28:13.120985Z"
    },
    "hidden": true
   },
   "outputs": [
    {
     "data": {
      "text/html": [
       "<div>\n",
       "<style scoped>\n",
       "    .dataframe tbody tr th:only-of-type {\n",
       "        vertical-align: middle;\n",
       "    }\n",
       "\n",
       "    .dataframe tbody tr th {\n",
       "        vertical-align: top;\n",
       "    }\n",
       "\n",
       "    .dataframe thead th {\n",
       "        text-align: right;\n",
       "    }\n",
       "</style>\n",
       "<table border=\"1\" class=\"dataframe\">\n",
       "  <thead>\n",
       "    <tr style=\"text-align: right;\">\n",
       "      <th></th>\n",
       "      <th>bill_length_mm</th>\n",
       "      <th>bill_depth_mm</th>\n",
       "    </tr>\n",
       "  </thead>\n",
       "  <tbody>\n",
       "    <tr>\n",
       "      <th>0</th>\n",
       "      <td>-0.894695</td>\n",
       "      <td>0.779559</td>\n",
       "    </tr>\n",
       "    <tr>\n",
       "      <th>1</th>\n",
       "      <td>-0.821552</td>\n",
       "      <td>0.119404</td>\n",
       "    </tr>\n",
       "    <tr>\n",
       "      <th>2</th>\n",
       "      <td>-0.675264</td>\n",
       "      <td>0.424091</td>\n",
       "    </tr>\n",
       "    <tr>\n",
       "      <th>4</th>\n",
       "      <td>-1.333559</td>\n",
       "      <td>1.084246</td>\n",
       "    </tr>\n",
       "    <tr>\n",
       "      <th>5</th>\n",
       "      <td>-0.858123</td>\n",
       "      <td>1.744400</td>\n",
       "    </tr>\n",
       "  </tbody>\n",
       "</table>\n",
       "</div>"
      ],
      "text/plain": [
       "   bill_length_mm  bill_depth_mm\n",
       "0       -0.894695       0.779559\n",
       "1       -0.821552       0.119404\n",
       "2       -0.675264       0.424091\n",
       "4       -1.333559       1.084246\n",
       "5       -0.858123       1.744400"
      ]
     },
     "execution_count": 16,
     "metadata": {},
     "output_type": "execute_result"
    }
   ],
   "source": [
    "X_mc = (X-X.mean())/(X.std())\n",
    "X_mc.head()"
   ]
  },
  {
   "cell_type": "code",
   "execution_count": 17,
   "id": "reflected-uganda",
   "metadata": {
    "ExecuteTime": {
     "end_time": "2021-04-29T16:28:13.641716Z",
     "start_time": "2021-04-29T16:28:13.619398Z"
    },
    "hidden": true
   },
   "outputs": [
    {
     "data": {
      "text/html": [
       "<div>\n",
       "<style scoped>\n",
       "    .dataframe tbody tr th:only-of-type {\n",
       "        vertical-align: middle;\n",
       "    }\n",
       "\n",
       "    .dataframe tbody tr th {\n",
       "        vertical-align: top;\n",
       "    }\n",
       "\n",
       "    .dataframe thead th {\n",
       "        text-align: right;\n",
       "    }\n",
       "</style>\n",
       "<table border=\"1\" class=\"dataframe\">\n",
       "  <thead>\n",
       "    <tr style=\"text-align: right;\">\n",
       "      <th></th>\n",
       "      <th>flipper_length_mm</th>\n",
       "      <th>body_mass_g</th>\n",
       "    </tr>\n",
       "  </thead>\n",
       "  <tbody>\n",
       "    <tr>\n",
       "      <th>0</th>\n",
       "      <td>181.0</td>\n",
       "      <td>3750.0</td>\n",
       "    </tr>\n",
       "    <tr>\n",
       "      <th>1</th>\n",
       "      <td>186.0</td>\n",
       "      <td>3800.0</td>\n",
       "    </tr>\n",
       "    <tr>\n",
       "      <th>2</th>\n",
       "      <td>195.0</td>\n",
       "      <td>3250.0</td>\n",
       "    </tr>\n",
       "    <tr>\n",
       "      <th>4</th>\n",
       "      <td>193.0</td>\n",
       "      <td>3450.0</td>\n",
       "    </tr>\n",
       "    <tr>\n",
       "      <th>5</th>\n",
       "      <td>190.0</td>\n",
       "      <td>3650.0</td>\n",
       "    </tr>\n",
       "  </tbody>\n",
       "</table>\n",
       "</div>"
      ],
      "text/plain": [
       "   flipper_length_mm  body_mass_g\n",
       "0              181.0       3750.0\n",
       "1              186.0       3800.0\n",
       "2              195.0       3250.0\n",
       "4              193.0       3450.0\n",
       "5              190.0       3650.0"
      ]
     },
     "execution_count": 17,
     "metadata": {},
     "output_type": "execute_result"
    }
   ],
   "source": [
    "Y = pengdf[['flipper_length_mm','body_mass_g']]\n",
    "Y.head()"
   ]
  },
  {
   "cell_type": "code",
   "execution_count": 18,
   "id": "twenty-roots",
   "metadata": {
    "ExecuteTime": {
     "end_time": "2021-04-29T16:28:16.857822Z",
     "start_time": "2021-04-29T16:28:16.832083Z"
    },
    "hidden": true
   },
   "outputs": [
    {
     "data": {
      "text/html": [
       "<div>\n",
       "<style scoped>\n",
       "    .dataframe tbody tr th:only-of-type {\n",
       "        vertical-align: middle;\n",
       "    }\n",
       "\n",
       "    .dataframe tbody tr th {\n",
       "        vertical-align: top;\n",
       "    }\n",
       "\n",
       "    .dataframe thead th {\n",
       "        text-align: right;\n",
       "    }\n",
       "</style>\n",
       "<table border=\"1\" class=\"dataframe\">\n",
       "  <thead>\n",
       "    <tr style=\"text-align: right;\">\n",
       "      <th></th>\n",
       "      <th>flipper_length_mm</th>\n",
       "      <th>body_mass_g</th>\n",
       "    </tr>\n",
       "  </thead>\n",
       "  <tbody>\n",
       "    <tr>\n",
       "      <th>0</th>\n",
       "      <td>-1.424608</td>\n",
       "      <td>-0.567621</td>\n",
       "    </tr>\n",
       "    <tr>\n",
       "      <th>1</th>\n",
       "      <td>-1.067867</td>\n",
       "      <td>-0.505525</td>\n",
       "    </tr>\n",
       "    <tr>\n",
       "      <th>2</th>\n",
       "      <td>-0.425733</td>\n",
       "      <td>-1.188572</td>\n",
       "    </tr>\n",
       "    <tr>\n",
       "      <th>4</th>\n",
       "      <td>-0.568429</td>\n",
       "      <td>-0.940192</td>\n",
       "    </tr>\n",
       "    <tr>\n",
       "      <th>5</th>\n",
       "      <td>-0.782474</td>\n",
       "      <td>-0.691811</td>\n",
       "    </tr>\n",
       "  </tbody>\n",
       "</table>\n",
       "</div>"
      ],
      "text/plain": [
       "   flipper_length_mm  body_mass_g\n",
       "0          -1.424608    -0.567621\n",
       "1          -1.067867    -0.505525\n",
       "2          -0.425733    -1.188572\n",
       "4          -0.568429    -0.940192\n",
       "5          -0.782474    -0.691811"
      ]
     },
     "execution_count": 18,
     "metadata": {},
     "output_type": "execute_result"
    }
   ],
   "source": [
    "Y_mc = (Y-Y.mean())/(Y.std())\n",
    "Y_mc.head()"
   ]
  },
  {
   "cell_type": "code",
   "execution_count": 19,
   "id": "brave-league",
   "metadata": {
    "ExecuteTime": {
     "end_time": "2021-04-29T16:28:17.225567Z",
     "start_time": "2021-04-29T16:28:17.074670Z"
    },
    "hidden": true
   },
   "outputs": [],
   "source": [
    "peng_cca = CCA(n_components=2)\n",
    "peng_cca.fit(X_mc, Y_mc)\n",
    "X_c, Y_c = peng_cca.transform(X_mc, Y_mc)"
   ]
  },
  {
   "cell_type": "code",
   "execution_count": 20,
   "id": "minimal-weekly",
   "metadata": {
    "ExecuteTime": {
     "end_time": "2021-04-29T16:28:17.321442Z",
     "start_time": "2021-04-29T16:28:17.315692Z"
    },
    "hidden": true
   },
   "outputs": [
    {
     "name": "stdout",
     "output_type": "stream",
     "text": [
      "(333, 2)\n",
      "(333, 2)\n"
     ]
    }
   ],
   "source": [
    "print(X_c.shape)\n",
    "print(Y_c.shape)\n"
   ]
  },
  {
   "cell_type": "code",
   "execution_count": 21,
   "id": "developed-sudan",
   "metadata": {
    "ExecuteTime": {
     "end_time": "2021-04-29T16:28:21.518785Z",
     "start_time": "2021-04-29T16:28:21.505996Z"
    },
    "hidden": true
   },
   "outputs": [],
   "source": [
    "cc_res = pd.DataFrame({\"CCX_1\":X_c[:, 0],\n",
    "                       \"CCY_1\":Y_c[:, 0],\n",
    "                       \"CCX_2\":X_c[:, 1],\n",
    "                       \"CCY_2\":Y_c[:, 1],\n",
    "                       \"Species\":pengdf.species.tolist(),\n",
    "                       \"Island\":pengdf.island.tolist(),\n",
    "                       \"sex\":pengdf.sex.tolist()})"
   ]
  },
  {
   "cell_type": "code",
   "execution_count": 22,
   "id": "continued-official",
   "metadata": {
    "ExecuteTime": {
     "end_time": "2021-04-29T16:28:21.714327Z",
     "start_time": "2021-04-29T16:28:21.686006Z"
    },
    "hidden": true
   },
   "outputs": [
    {
     "data": {
      "text/html": [
       "<div>\n",
       "<style scoped>\n",
       "    .dataframe tbody tr th:only-of-type {\n",
       "        vertical-align: middle;\n",
       "    }\n",
       "\n",
       "    .dataframe tbody tr th {\n",
       "        vertical-align: top;\n",
       "    }\n",
       "\n",
       "    .dataframe thead th {\n",
       "        text-align: right;\n",
       "    }\n",
       "</style>\n",
       "<table border=\"1\" class=\"dataframe\">\n",
       "  <thead>\n",
       "    <tr style=\"text-align: right;\">\n",
       "      <th></th>\n",
       "      <th>CCX_1</th>\n",
       "      <th>CCY_1</th>\n",
       "      <th>CCX_2</th>\n",
       "      <th>CCY_2</th>\n",
       "      <th>Species</th>\n",
       "      <th>Island</th>\n",
       "      <th>sex</th>\n",
       "    </tr>\n",
       "  </thead>\n",
       "  <tbody>\n",
       "    <tr>\n",
       "      <th>0</th>\n",
       "      <td>-1.186252</td>\n",
       "      <td>-1.408795</td>\n",
       "      <td>-0.010367</td>\n",
       "      <td>0.682866</td>\n",
       "      <td>Adelie</td>\n",
       "      <td>Torgersen</td>\n",
       "      <td>MALE</td>\n",
       "    </tr>\n",
       "    <tr>\n",
       "      <th>1</th>\n",
       "      <td>-0.709573</td>\n",
       "      <td>-1.053857</td>\n",
       "      <td>-0.456036</td>\n",
       "      <td>0.429879</td>\n",
       "      <td>Adelie</td>\n",
       "      <td>Torgersen</td>\n",
       "      <td>FEMALE</td>\n",
       "    </tr>\n",
       "    <tr>\n",
       "      <th>2</th>\n",
       "      <td>-0.790732</td>\n",
       "      <td>-0.393550</td>\n",
       "      <td>-0.130809</td>\n",
       "      <td>-0.839620</td>\n",
       "      <td>Adelie</td>\n",
       "      <td>Torgersen</td>\n",
       "      <td>FEMALE</td>\n",
       "    </tr>\n",
       "    <tr>\n",
       "      <th>3</th>\n",
       "      <td>-1.718663</td>\n",
       "      <td>-0.542888</td>\n",
       "      <td>-0.073623</td>\n",
       "      <td>-0.458571</td>\n",
       "      <td>Adelie</td>\n",
       "      <td>Torgersen</td>\n",
       "      <td>FEMALE</td>\n",
       "    </tr>\n",
       "    <tr>\n",
       "      <th>4</th>\n",
       "      <td>-1.772295</td>\n",
       "      <td>-0.763548</td>\n",
       "      <td>0.736248</td>\n",
       "      <td>-0.014204</td>\n",
       "      <td>Adelie</td>\n",
       "      <td>Torgersen</td>\n",
       "      <td>MALE</td>\n",
       "    </tr>\n",
       "  </tbody>\n",
       "</table>\n",
       "</div>"
      ],
      "text/plain": [
       "      CCX_1     CCY_1     CCX_2     CCY_2 Species     Island     sex\n",
       "0 -1.186252 -1.408795 -0.010367  0.682866  Adelie  Torgersen    MALE\n",
       "1 -0.709573 -1.053857 -0.456036  0.429879  Adelie  Torgersen  FEMALE\n",
       "2 -0.790732 -0.393550 -0.130809 -0.839620  Adelie  Torgersen  FEMALE\n",
       "3 -1.718663 -0.542888 -0.073623 -0.458571  Adelie  Torgersen  FEMALE\n",
       "4 -1.772295 -0.763548  0.736248 -0.014204  Adelie  Torgersen    MALE"
      ]
     },
     "execution_count": 22,
     "metadata": {},
     "output_type": "execute_result"
    }
   ],
   "source": [
    "cc_res.head()"
   ]
  },
  {
   "cell_type": "code",
   "execution_count": 23,
   "id": "weighted-irrigation",
   "metadata": {
    "ExecuteTime": {
     "end_time": "2021-04-29T16:28:21.957089Z",
     "start_time": "2021-04-29T16:28:21.925717Z"
    },
    "hidden": true
   },
   "outputs": [
    {
     "data": {
      "text/html": [
       "<div>\n",
       "<style scoped>\n",
       "    .dataframe tbody tr th:only-of-type {\n",
       "        vertical-align: middle;\n",
       "    }\n",
       "\n",
       "    .dataframe tbody tr th {\n",
       "        vertical-align: top;\n",
       "    }\n",
       "\n",
       "    .dataframe thead th {\n",
       "        text-align: right;\n",
       "    }\n",
       "</style>\n",
       "<table border=\"1\" class=\"dataframe\">\n",
       "  <thead>\n",
       "    <tr style=\"text-align: right;\">\n",
       "      <th></th>\n",
       "      <th>species</th>\n",
       "      <th>island</th>\n",
       "      <th>bill_length_mm</th>\n",
       "      <th>bill_depth_mm</th>\n",
       "      <th>flipper_length_mm</th>\n",
       "      <th>body_mass_g</th>\n",
       "      <th>sex</th>\n",
       "    </tr>\n",
       "  </thead>\n",
       "  <tbody>\n",
       "    <tr>\n",
       "      <th>0</th>\n",
       "      <td>Adelie</td>\n",
       "      <td>Torgersen</td>\n",
       "      <td>39.1</td>\n",
       "      <td>18.7</td>\n",
       "      <td>181.0</td>\n",
       "      <td>3750.0</td>\n",
       "      <td>MALE</td>\n",
       "    </tr>\n",
       "    <tr>\n",
       "      <th>1</th>\n",
       "      <td>Adelie</td>\n",
       "      <td>Torgersen</td>\n",
       "      <td>39.5</td>\n",
       "      <td>17.4</td>\n",
       "      <td>186.0</td>\n",
       "      <td>3800.0</td>\n",
       "      <td>FEMALE</td>\n",
       "    </tr>\n",
       "    <tr>\n",
       "      <th>2</th>\n",
       "      <td>Adelie</td>\n",
       "      <td>Torgersen</td>\n",
       "      <td>40.3</td>\n",
       "      <td>18.0</td>\n",
       "      <td>195.0</td>\n",
       "      <td>3250.0</td>\n",
       "      <td>FEMALE</td>\n",
       "    </tr>\n",
       "    <tr>\n",
       "      <th>4</th>\n",
       "      <td>Adelie</td>\n",
       "      <td>Torgersen</td>\n",
       "      <td>36.7</td>\n",
       "      <td>19.3</td>\n",
       "      <td>193.0</td>\n",
       "      <td>3450.0</td>\n",
       "      <td>FEMALE</td>\n",
       "    </tr>\n",
       "    <tr>\n",
       "      <th>5</th>\n",
       "      <td>Adelie</td>\n",
       "      <td>Torgersen</td>\n",
       "      <td>39.3</td>\n",
       "      <td>20.6</td>\n",
       "      <td>190.0</td>\n",
       "      <td>3650.0</td>\n",
       "      <td>MALE</td>\n",
       "    </tr>\n",
       "  </tbody>\n",
       "</table>\n",
       "</div>"
      ],
      "text/plain": [
       "  species     island  bill_length_mm  bill_depth_mm  flipper_length_mm  \\\n",
       "0  Adelie  Torgersen            39.1           18.7              181.0   \n",
       "1  Adelie  Torgersen            39.5           17.4              186.0   \n",
       "2  Adelie  Torgersen            40.3           18.0              195.0   \n",
       "4  Adelie  Torgersen            36.7           19.3              193.0   \n",
       "5  Adelie  Torgersen            39.3           20.6              190.0   \n",
       "\n",
       "   body_mass_g     sex  \n",
       "0       3750.0    MALE  \n",
       "1       3800.0  FEMALE  \n",
       "2       3250.0  FEMALE  \n",
       "4       3450.0  FEMALE  \n",
       "5       3650.0    MALE  "
      ]
     },
     "execution_count": 23,
     "metadata": {},
     "output_type": "execute_result"
    }
   ],
   "source": [
    "pengdf.head()"
   ]
  },
  {
   "cell_type": "code",
   "execution_count": 24,
   "id": "signed-advertising",
   "metadata": {
    "ExecuteTime": {
     "end_time": "2021-04-29T16:28:22.077287Z",
     "start_time": "2021-04-29T16:28:22.066854Z"
    },
    "hidden": true
   },
   "outputs": [
    {
     "data": {
      "text/plain": [
       "array([[1.        , 0.78763151],\n",
       "       [0.78763151, 1.        ]])"
      ]
     },
     "execution_count": 24,
     "metadata": {},
     "output_type": "execute_result"
    }
   ],
   "source": [
    "np.corrcoef(X_c[:, 0], Y_c[:, 0])\n",
    "# array([[1.        , 0.78763151],\n",
    "#        [0.78763151, 1.        ]])"
   ]
  },
  {
   "cell_type": "code",
   "execution_count": 25,
   "id": "hired-diary",
   "metadata": {
    "ExecuteTime": {
     "end_time": "2021-04-29T16:28:22.625723Z",
     "start_time": "2021-04-29T16:28:22.615642Z"
    },
    "hidden": true
   },
   "outputs": [
    {
     "data": {
      "text/plain": [
       "array([[1.        , 0.08638695],\n",
       "       [0.08638695, 1.        ]])"
      ]
     },
     "execution_count": 25,
     "metadata": {},
     "output_type": "execute_result"
    }
   ],
   "source": [
    "np.corrcoef(X_c[:, 1], Y_c[:, 1])"
   ]
  },
  {
   "cell_type": "code",
   "execution_count": 26,
   "id": "generic-reform",
   "metadata": {
    "ExecuteTime": {
     "end_time": "2021-04-29T16:28:24.213471Z",
     "start_time": "2021-04-29T16:28:22.920908Z"
    },
    "hidden": true
   },
   "outputs": [
    {
     "data": {
      "image/png": "[encoded data removed]",
      "text/plain": [
       "<Figure size 640x480 with 1 Axes>"
      ]
     },
     "metadata": {},
     "output_type": "display_data"
    },
    {
     "data": {
      "text/plain": [
       "<ggplot: (8750040063445)>"
      ]
     },
     "execution_count": 26,
     "metadata": {},
     "output_type": "execute_result"
    }
   ],
   "source": [
    "ggplot(cc_res, aes(x='Species',y='CCX_1',fill='Species')) + geom_boxplot()"
   ]
  },
  {
   "cell_type": "code",
   "execution_count": 27,
   "id": "hawaiian-deputy",
   "metadata": {
    "ExecuteTime": {
     "end_time": "2021-04-29T16:28:25.103759Z",
     "start_time": "2021-04-29T16:28:24.216663Z"
    },
    "hidden": true
   },
   "outputs": [
    {
     "data": {
      "image/png": "[encoded data removed]",
      "text/plain": [
       "<Figure size 640x480 with 1 Axes>"
      ]
     },
     "metadata": {},
     "output_type": "display_data"
    },
    {
     "data": {
      "text/plain": [
       "<ggplot: (8750040179465)>"
      ]
     },
     "execution_count": 27,
     "metadata": {},
     "output_type": "execute_result"
    }
   ],
   "source": [
    "ggplot(cc_res, aes(x='Species',y='CCY_1',fill='Species')) + geom_boxplot()"
   ]
  },
  {
   "cell_type": "code",
   "execution_count": 28,
   "id": "romance-yellow",
   "metadata": {
    "ExecuteTime": {
     "end_time": "2021-04-29T16:28:25.755317Z",
     "start_time": "2021-04-29T16:28:25.107400Z"
    },
    "hidden": true
   },
   "outputs": [
    {
     "data": {
      "image/png": "[encoded data removed]",
      "text/plain": [
       "<Figure size 640x480 with 1 Axes>"
      ]
     },
     "metadata": {},
     "output_type": "display_data"
    },
    {
     "data": {
      "text/plain": [
       "<ggplot: (8750040107733)>"
      ]
     },
     "execution_count": 28,
     "metadata": {},
     "output_type": "execute_result"
    }
   ],
   "source": [
    "ggplot(cc_res, aes(x='sex',y='CCX_1', fill='sex')) + geom_boxplot()"
   ]
  },
  {
   "cell_type": "code",
   "execution_count": 29,
   "id": "governing-supervision",
   "metadata": {
    "ExecuteTime": {
     "end_time": "2021-04-29T16:28:25.779509Z",
     "start_time": "2021-04-29T16:28:25.758307Z"
    },
    "hidden": true
   },
   "outputs": [
    {
     "data": {
      "text/html": [
       "<div>\n",
       "<style scoped>\n",
       "    .dataframe tbody tr th:only-of-type {\n",
       "        vertical-align: middle;\n",
       "    }\n",
       "\n",
       "    .dataframe tbody tr th {\n",
       "        vertical-align: top;\n",
       "    }\n",
       "\n",
       "    .dataframe thead th {\n",
       "        text-align: right;\n",
       "    }\n",
       "</style>\n",
       "<table border=\"1\" class=\"dataframe\">\n",
       "  <thead>\n",
       "    <tr style=\"text-align: right;\">\n",
       "      <th></th>\n",
       "      <th>CCX_1</th>\n",
       "      <th>CCY_1</th>\n",
       "      <th>CCX_2</th>\n",
       "      <th>CCY_2</th>\n",
       "      <th>Species</th>\n",
       "      <th>Island</th>\n",
       "      <th>sex</th>\n",
       "    </tr>\n",
       "  </thead>\n",
       "  <tbody>\n",
       "    <tr>\n",
       "      <th>0</th>\n",
       "      <td>-1.186252</td>\n",
       "      <td>-1.408795</td>\n",
       "      <td>-0.010367</td>\n",
       "      <td>0.682866</td>\n",
       "      <td>Adelie</td>\n",
       "      <td>Torgersen</td>\n",
       "      <td>MALE</td>\n",
       "    </tr>\n",
       "    <tr>\n",
       "      <th>1</th>\n",
       "      <td>-0.709573</td>\n",
       "      <td>-1.053857</td>\n",
       "      <td>-0.456036</td>\n",
       "      <td>0.429879</td>\n",
       "      <td>Adelie</td>\n",
       "      <td>Torgersen</td>\n",
       "      <td>FEMALE</td>\n",
       "    </tr>\n",
       "    <tr>\n",
       "      <th>2</th>\n",
       "      <td>-0.790732</td>\n",
       "      <td>-0.393550</td>\n",
       "      <td>-0.130809</td>\n",
       "      <td>-0.839620</td>\n",
       "      <td>Adelie</td>\n",
       "      <td>Torgersen</td>\n",
       "      <td>FEMALE</td>\n",
       "    </tr>\n",
       "    <tr>\n",
       "      <th>3</th>\n",
       "      <td>-1.718663</td>\n",
       "      <td>-0.542888</td>\n",
       "      <td>-0.073623</td>\n",
       "      <td>-0.458571</td>\n",
       "      <td>Adelie</td>\n",
       "      <td>Torgersen</td>\n",
       "      <td>FEMALE</td>\n",
       "    </tr>\n",
       "    <tr>\n",
       "      <th>4</th>\n",
       "      <td>-1.772295</td>\n",
       "      <td>-0.763548</td>\n",
       "      <td>0.736248</td>\n",
       "      <td>-0.014204</td>\n",
       "      <td>Adelie</td>\n",
       "      <td>Torgersen</td>\n",
       "      <td>MALE</td>\n",
       "    </tr>\n",
       "    <tr>\n",
       "      <th>...</th>\n",
       "      <td>...</td>\n",
       "      <td>...</td>\n",
       "      <td>...</td>\n",
       "      <td>...</td>\n",
       "      <td>...</td>\n",
       "      <td>...</td>\n",
       "      <td>...</td>\n",
       "    </tr>\n",
       "    <tr>\n",
       "      <th>328</th>\n",
       "      <td>1.572414</td>\n",
       "      <td>0.905520</td>\n",
       "      <td>-0.927902</td>\n",
       "      <td>0.088041</td>\n",
       "      <td>Gentoo</td>\n",
       "      <td>Biscoe</td>\n",
       "      <td>FEMALE</td>\n",
       "    </tr>\n",
       "    <tr>\n",
       "      <th>329</th>\n",
       "      <td>1.322035</td>\n",
       "      <td>0.979352</td>\n",
       "      <td>-0.748356</td>\n",
       "      <td>-0.070682</td>\n",
       "      <td>Gentoo</td>\n",
       "      <td>Biscoe</td>\n",
       "      <td>FEMALE</td>\n",
       "    </tr>\n",
       "    <tr>\n",
       "      <th>330</th>\n",
       "      <td>1.377092</td>\n",
       "      <td>1.448490</td>\n",
       "      <td>0.220933</td>\n",
       "      <td>0.630948</td>\n",
       "      <td>Gentoo</td>\n",
       "      <td>Biscoe</td>\n",
       "      <td>MALE</td>\n",
       "    </tr>\n",
       "    <tr>\n",
       "      <th>331</th>\n",
       "      <td>0.934766</td>\n",
       "      <td>0.753673</td>\n",
       "      <td>-0.752510</td>\n",
       "      <td>0.564495</td>\n",
       "      <td>Gentoo</td>\n",
       "      <td>Biscoe</td>\n",
       "      <td>FEMALE</td>\n",
       "    </tr>\n",
       "    <tr>\n",
       "      <th>332</th>\n",
       "      <td>1.177269</td>\n",
       "      <td>0.818302</td>\n",
       "      <td>0.312303</td>\n",
       "      <td>0.755590</td>\n",
       "      <td>Gentoo</td>\n",
       "      <td>Biscoe</td>\n",
       "      <td>MALE</td>\n",
       "    </tr>\n",
       "  </tbody>\n",
       "</table>\n",
       "<p>333 rows × 7 columns</p>\n",
       "</div>"
      ],
      "text/plain": [
       "        CCX_1     CCY_1     CCX_2     CCY_2 Species     Island     sex\n",
       "0   -1.186252 -1.408795 -0.010367  0.682866  Adelie  Torgersen    MALE\n",
       "1   -0.709573 -1.053857 -0.456036  0.429879  Adelie  Torgersen  FEMALE\n",
       "2   -0.790732 -0.393550 -0.130809 -0.839620  Adelie  Torgersen  FEMALE\n",
       "3   -1.718663 -0.542888 -0.073623 -0.458571  Adelie  Torgersen  FEMALE\n",
       "4   -1.772295 -0.763548  0.736248 -0.014204  Adelie  Torgersen    MALE\n",
       "..        ...       ...       ...       ...     ...        ...     ...\n",
       "328  1.572414  0.905520 -0.927902  0.088041  Gentoo     Biscoe  FEMALE\n",
       "329  1.322035  0.979352 -0.748356 -0.070682  Gentoo     Biscoe  FEMALE\n",
       "330  1.377092  1.448490  0.220933  0.630948  Gentoo     Biscoe    MALE\n",
       "331  0.934766  0.753673 -0.752510  0.564495  Gentoo     Biscoe  FEMALE\n",
       "332  1.177269  0.818302  0.312303  0.755590  Gentoo     Biscoe    MALE\n",
       "\n",
       "[333 rows x 7 columns]"
      ]
     },
     "execution_count": 29,
     "metadata": {},
     "output_type": "execute_result"
    }
   ],
   "source": [
    "cc_res"
   ]
  },
  {
   "cell_type": "code",
   "execution_count": 30,
   "id": "refined-tract",
   "metadata": {
    "ExecuteTime": {
     "end_time": "2021-04-29T16:28:30.412186Z",
     "start_time": "2021-04-29T16:28:29.880306Z"
    },
    "hidden": true
   },
   "outputs": [
    {
     "data": {
      "image/png": "[encoded data removed]",
      "text/plain": [
       "<Figure size 640x480 with 1 Axes>"
      ]
     },
     "metadata": {},
     "output_type": "display_data"
    },
    {
     "data": {
      "text/plain": [
       "<ggplot: (8750035837465)>"
      ]
     },
     "execution_count": 30,
     "metadata": {},
     "output_type": "execute_result"
    }
   ],
   "source": [
    "ggplot(cc_res, aes(x='CCX_1',y='CCY_1')) + geom_point(color='blue')"
   ]
  },
  {
   "cell_type": "code",
   "execution_count": 31,
   "id": "defensive-measure",
   "metadata": {
    "ExecuteTime": {
     "end_time": "2021-04-29T16:28:30.809163Z",
     "start_time": "2021-04-29T16:28:30.415334Z"
    },
    "hidden": true
   },
   "outputs": [
    {
     "data": {
      "image/png": "[encoded data removed]",
      "text/plain": [
       "<Figure size 640x480 with 1 Axes>"
      ]
     },
     "metadata": {},
     "output_type": "display_data"
    },
    {
     "data": {
      "text/plain": [
       "<ggplot: (8750035812997)>"
      ]
     },
     "execution_count": 31,
     "metadata": {},
     "output_type": "execute_result"
    }
   ],
   "source": [
    "ggplot(cc_res, aes(x='CCX_2',y='CCY_2')) + geom_point(color='red')"
   ]
  },
  {
   "cell_type": "markdown",
   "id": "occupied-cheat",
   "metadata": {
    "heading_collapsed": true
   },
   "source": [
    "## Load keywords"
   ]
  },
  {
   "cell_type": "markdown",
   "id": "serial-boundary",
   "metadata": {
    "hidden": true
   },
   "source": [
    "### Keywords API"
   ]
  },
  {
   "cell_type": "code",
   "execution_count": 32,
   "id": "automated-environment",
   "metadata": {
    "ExecuteTime": {
     "end_time": "2021-04-29T16:28:44.776070Z",
     "start_time": "2021-04-29T16:28:44.730981Z"
    },
    "hidden": true
   },
   "outputs": [
    {
     "data": {
      "text/html": [
       "<div>\n",
       "<style scoped>\n",
       "    .dataframe tbody tr th:only-of-type {\n",
       "        vertical-align: middle;\n",
       "    }\n",
       "\n",
       "    .dataframe tbody tr th {\n",
       "        vertical-align: top;\n",
       "    }\n",
       "\n",
       "    .dataframe thead th {\n",
       "        text-align: right;\n",
       "    }\n",
       "</style>\n",
       "<table border=\"1\" class=\"dataframe\">\n",
       "  <thead>\n",
       "    <tr style=\"text-align: right;\">\n",
       "      <th></th>\n",
       "      <th>interest_id</th>\n",
       "      <th>interest_type_id</th>\n",
       "      <th>descr</th>\n",
       "    </tr>\n",
       "  </thead>\n",
       "  <tbody>\n",
       "    <tr>\n",
       "      <th>0</th>\n",
       "      <td>36864</td>\n",
       "      <td>110</td>\n",
       "      <td>Vegetarians</td>\n",
       "    </tr>\n",
       "    <tr>\n",
       "      <th>1</th>\n",
       "      <td>77825</td>\n",
       "      <td>110</td>\n",
       "      <td>Small Business Administration Cares Act Resear...</td>\n",
       "    </tr>\n",
       "    <tr>\n",
       "      <th>2</th>\n",
       "      <td>1</td>\n",
       "      <td>110</td>\n",
       "      <td>Fitness Enthusiasts</td>\n",
       "    </tr>\n",
       "  </tbody>\n",
       "</table>\n",
       "</div>"
      ],
      "text/plain": [
       "   interest_id  interest_type_id  \\\n",
       "0        36864               110   \n",
       "1        77825               110   \n",
       "2            1               110   \n",
       "\n",
       "                                               descr  \n",
       "0                                        Vegetarians  \n",
       "1  Small Business Administration Cares Act Resear...  \n",
       "2                                Fitness Enthusiasts  "
      ]
     },
     "execution_count": 32,
     "metadata": {},
     "output_type": "execute_result"
    }
   ],
   "source": [
    "interests_df = pd.read_table(FILES['interests.tsv'],\n",
    "                             names=['interest_id','interest_type_id','descr'])\n",
    "\n",
    "interests_df.head(n=3)"
   ]
  },
  {
   "cell_type": "code",
   "execution_count": 33,
   "id": "disabled-extension",
   "metadata": {
    "ExecuteTime": {
     "end_time": "2021-04-29T16:28:45.792660Z",
     "start_time": "2021-04-29T16:28:45.619201Z"
    },
    "hidden": true
   },
   "outputs": [
    {
     "data": {
      "text/html": [
       "<div>\n",
       "<style scoped>\n",
       "    .dataframe tbody tr th:only-of-type {\n",
       "        vertical-align: middle;\n",
       "    }\n",
       "\n",
       "    .dataframe tbody tr th {\n",
       "        vertical-align: top;\n",
       "    }\n",
       "\n",
       "    .dataframe thead th {\n",
       "        text-align: right;\n",
       "    }\n",
       "</style>\n",
       "<table border=\"1\" class=\"dataframe\">\n",
       "  <thead>\n",
       "    <tr style=\"text-align: right;\">\n",
       "      <th></th>\n",
       "      <th>interest_id</th>\n",
       "      <th>keyword</th>\n",
       "      <th>n</th>\n",
       "    </tr>\n",
       "  </thead>\n",
       "  <tbody>\n",
       "    <tr>\n",
       "      <th>0</th>\n",
       "      <td>36864</td>\n",
       "      <td>desserts</td>\n",
       "      <td>13</td>\n",
       "    </tr>\n",
       "    <tr>\n",
       "      <th>1</th>\n",
       "      <td>36864</td>\n",
       "      <td>gluten</td>\n",
       "      <td>5</td>\n",
       "    </tr>\n",
       "    <tr>\n",
       "      <th>2</th>\n",
       "      <td>36864</td>\n",
       "      <td>quick</td>\n",
       "      <td>5</td>\n",
       "    </tr>\n",
       "  </tbody>\n",
       "</table>\n",
       "</div>"
      ],
      "text/plain": [
       "   interest_id   keyword   n\n",
       "0        36864  desserts  13\n",
       "1        36864    gluten   5\n",
       "2        36864     quick   5"
      ]
     },
     "execution_count": 33,
     "metadata": {},
     "output_type": "execute_result"
    }
   ],
   "source": [
    "keywords_from_api_df = pd.read_table(FILES['keywords.tsv'],\n",
    "                             names=['interest_id','keyword','n'])\n",
    "\n",
    "keywords_from_api_df.head(n=3)"
   ]
  },
  {
   "cell_type": "code",
   "execution_count": 34,
   "id": "controlling-yellow",
   "metadata": {
    "ExecuteTime": {
     "end_time": "2021-04-29T16:28:46.388916Z",
     "start_time": "2021-04-29T16:28:46.264685Z"
    },
    "hidden": true
   },
   "outputs": [
    {
     "data": {
      "text/html": [
       "<div>\n",
       "<style scoped>\n",
       "    .dataframe tbody tr th:only-of-type {\n",
       "        vertical-align: middle;\n",
       "    }\n",
       "\n",
       "    .dataframe tbody tr th {\n",
       "        vertical-align: top;\n",
       "    }\n",
       "\n",
       "    .dataframe thead th {\n",
       "        text-align: right;\n",
       "    }\n",
       "</style>\n",
       "<table border=\"1\" class=\"dataframe\">\n",
       "  <thead>\n",
       "    <tr style=\"text-align: right;\">\n",
       "      <th></th>\n",
       "      <th>interest_id</th>\n",
       "      <th>interest_type_id</th>\n",
       "      <th>descr</th>\n",
       "      <th>keyword</th>\n",
       "      <th>n</th>\n",
       "    </tr>\n",
       "  </thead>\n",
       "  <tbody>\n",
       "    <tr>\n",
       "      <th>0</th>\n",
       "      <td>36864</td>\n",
       "      <td>110</td>\n",
       "      <td>Vegetarians</td>\n",
       "      <td>desserts</td>\n",
       "      <td>13</td>\n",
       "    </tr>\n",
       "    <tr>\n",
       "      <th>1</th>\n",
       "      <td>36864</td>\n",
       "      <td>110</td>\n",
       "      <td>Vegetarians</td>\n",
       "      <td>gluten</td>\n",
       "      <td>5</td>\n",
       "    </tr>\n",
       "    <tr>\n",
       "      <th>2</th>\n",
       "      <td>36864</td>\n",
       "      <td>110</td>\n",
       "      <td>Vegetarians</td>\n",
       "      <td>quick</td>\n",
       "      <td>5</td>\n",
       "    </tr>\n",
       "    <tr>\n",
       "      <th>3</th>\n",
       "      <td>36864</td>\n",
       "      <td>110</td>\n",
       "      <td>Vegetarians</td>\n",
       "      <td>foods</td>\n",
       "      <td>14</td>\n",
       "    </tr>\n",
       "    <tr>\n",
       "      <th>4</th>\n",
       "      <td>36864</td>\n",
       "      <td>110</td>\n",
       "      <td>Vegetarians</td>\n",
       "      <td>wholesome</td>\n",
       "      <td>5</td>\n",
       "    </tr>\n",
       "  </tbody>\n",
       "</table>\n",
       "</div>"
      ],
      "text/plain": [
       "   interest_id  interest_type_id        descr    keyword   n\n",
       "0        36864               110  Vegetarians   desserts  13\n",
       "1        36864               110  Vegetarians     gluten   5\n",
       "2        36864               110  Vegetarians      quick   5\n",
       "3        36864               110  Vegetarians      foods  14\n",
       "4        36864               110  Vegetarians  wholesome   5"
      ]
     },
     "execution_count": 34,
     "metadata": {},
     "output_type": "execute_result"
    }
   ],
   "source": [
    "keyword_api_df = pd.merge(\n",
    "    interests_df,\n",
    "    keywords_from_api_df, on='interest_id', how='left')\n",
    "\n",
    "keyword_api_df.head()"
   ]
  },
  {
   "cell_type": "code",
   "execution_count": 35,
   "id": "structured-movie",
   "metadata": {
    "ExecuteTime": {
     "end_time": "2021-04-29T16:29:08.850423Z",
     "start_time": "2021-04-29T16:28:46.898278Z"
    },
    "hidden": true
   },
   "outputs": [],
   "source": [
    "keyword_api_dict = collections.defaultdict(dict)\n",
    "\n",
    "for i, r in keyword_api_df.iterrows():\n",
    "    keyword_api_dict[r['descr']][r['keyword']] = r['n']"
   ]
  },
  {
   "cell_type": "code",
   "execution_count": 36,
   "id": "municipal-cowboy",
   "metadata": {
    "ExecuteTime": {
     "end_time": "2021-04-29T16:29:08.975108Z",
     "start_time": "2021-04-29T16:29:08.854510Z"
    },
    "hidden": true
   },
   "outputs": [
    {
     "data": {
      "text/html": [
       "<div>\n",
       "<style scoped>\n",
       "    .dataframe tbody tr th:only-of-type {\n",
       "        vertical-align: middle;\n",
       "    }\n",
       "\n",
       "    .dataframe tbody tr th {\n",
       "        vertical-align: top;\n",
       "    }\n",
       "\n",
       "    .dataframe thead th {\n",
       "        text-align: right;\n",
       "    }\n",
       "</style>\n",
       "<table border=\"1\" class=\"dataframe\">\n",
       "  <thead>\n",
       "    <tr style=\"text-align: right;\">\n",
       "      <th></th>\n",
       "      <th>descr</th>\n",
       "      <th>keywords_json</th>\n",
       "      <th>interest_id</th>\n",
       "    </tr>\n",
       "  </thead>\n",
       "  <tbody>\n",
       "    <tr>\n",
       "      <th>0</th>\n",
       "      <td>Vegetarians</td>\n",
       "      <td>{\"desserts\": 13, \"gluten\": 5, \"quick\": 5, \"foo...</td>\n",
       "      <td>36864</td>\n",
       "    </tr>\n",
       "    <tr>\n",
       "      <th>1</th>\n",
       "      <td>Small Business Administration Cares Act Resear...</td>\n",
       "      <td>{\"capital\": 7, \"education\": 4, \"lawyers\": 4, \"...</td>\n",
       "      <td>77825</td>\n",
       "    </tr>\n",
       "    <tr>\n",
       "      <th>2</th>\n",
       "      <td>Fitness Enthusiasts</td>\n",
       "      <td>{\"celebrity\": 3, \"foods\": 5, \"beauty\": 5, \"str...</td>\n",
       "      <td>1</td>\n",
       "    </tr>\n",
       "  </tbody>\n",
       "</table>\n",
       "</div>"
      ],
      "text/plain": [
       "                                               descr  \\\n",
       "0                                        Vegetarians   \n",
       "1  Small Business Administration Cares Act Resear...   \n",
       "2                                Fitness Enthusiasts   \n",
       "\n",
       "                                       keywords_json  interest_id  \n",
       "0  {\"desserts\": 13, \"gluten\": 5, \"quick\": 5, \"foo...        36864  \n",
       "1  {\"capital\": 7, \"education\": 4, \"lawyers\": 4, \"...        77825  \n",
       "2  {\"celebrity\": 3, \"foods\": 5, \"beauty\": 5, \"str...            1  "
      ]
     },
     "execution_count": 36,
     "metadata": {},
     "output_type": "execute_result"
    }
   ],
   "source": [
    "keyword_api_json_df = (\n",
    "    pd.merge(\n",
    "        \n",
    "        pd.DataFrame([(k, json.dumps(keyword_api_dict[k])) for k in keyword_api_dict.keys()])\n",
    "        .rename(columns={0:'descr',1:'keywords_json'}),\n",
    "        \n",
    "        keyword_api_df[['interest_id','descr']].drop_duplicates(),\n",
    "        \n",
    "        on='descr',\n",
    "        how='left')\n",
    ")\n",
    "\n",
    "keyword_api_json_df.head(n=3)"
   ]
  },
  {
   "cell_type": "markdown",
   "id": "optional-paradise",
   "metadata": {
    "heading_collapsed": true,
    "hidden": true
   },
   "source": [
    "### Advanced Contextual"
   ]
  },
  {
   "cell_type": "code",
   "execution_count": 37,
   "id": "inappropriate-worst",
   "metadata": {
    "ExecuteTime": {
     "end_time": "2021-04-29T16:29:26.845745Z",
     "start_time": "2021-04-29T16:29:24.832938Z"
    },
    "hidden": true
   },
   "outputs": [
    {
     "name": "stdout",
     "output_type": "stream",
     "text": [
      "(4525, 10)\n"
     ]
    },
    {
     "data": {
      "text/html": [
       "<div>\n",
       "<style scoped>\n",
       "    .dataframe tbody tr th:only-of-type {\n",
       "        vertical-align: middle;\n",
       "    }\n",
       "\n",
       "    .dataframe tbody tr th {\n",
       "        vertical-align: top;\n",
       "    }\n",
       "\n",
       "    .dataframe thead th {\n",
       "        text-align: right;\n",
       "    }\n",
       "</style>\n",
       "<table border=\"1\" class=\"dataframe\">\n",
       "  <thead>\n",
       "    <tr style=\"text-align: right;\">\n",
       "      <th></th>\n",
       "      <th>interest_type_id</th>\n",
       "      <th>interest_id</th>\n",
       "      <th>entity_id</th>\n",
       "      <th>descr</th>\n",
       "      <th>summary</th>\n",
       "      <th>domains</th>\n",
       "      <th>content_id</th>\n",
       "      <th>n_url</th>\n",
       "      <th>keywords_json</th>\n",
       "      <th>keyword_list</th>\n",
       "    </tr>\n",
       "  </thead>\n",
       "  <tbody>\n",
       "    <tr>\n",
       "      <th>0</th>\n",
       "      <td>110</td>\n",
       "      <td>17744</td>\n",
       "      <td>46444</td>\n",
       "      <td>Vegans Q1 2018 (Oatly)</td>\n",
       "      <td>Vegans Q1 2018 (Oatly)</td>\n",
       "      <td>[blissfulbasil.com, rabbitandwolves.com, emili...</td>\n",
       "      <td>[1hv6i, 1lyy4, 1mj5v, 1mp53, 1qxr8, 1jc3a, 1ih...</td>\n",
       "      <td>3297</td>\n",
       "      <td>{\"vegan\": 344, \"sauce\": 306, \"recipe\": 254, \"t...</td>\n",
       "      <td>[vegan, sauce, recipe, tofu, soup, salad, rice...</td>\n",
       "    </tr>\n",
       "    <tr>\n",
       "      <th>1</th>\n",
       "      <td>110</td>\n",
       "      <td>56010</td>\n",
       "      <td>627953</td>\n",
       "      <td>Wedding Content Researchers DNU</td>\n",
       "      <td>Wedding Content Researchers DNU</td>\n",
       "      <td>[mywedding.com, travelfashiongirl.com, wedding...</td>\n",
       "      <td>[mjkp, 1l0k1, 1ncn8, 1dbyf, fhmi, 2xg, qwd1, 1...</td>\n",
       "      <td>21466</td>\n",
       "      <td>{\"wedding\": 3418, \"dress\": 702, \"venue\": 692, ...</td>\n",
       "      <td>[wedding, dress, venue, guests, wedding day, c...</td>\n",
       "    </tr>\n",
       "    <tr>\n",
       "      <th>2</th>\n",
       "      <td>112</td>\n",
       "      <td>11655</td>\n",
       "      <td>40981</td>\n",
       "      <td>Assorted Topics (This Audience Are Interested ...</td>\n",
       "      <td>People in this audience are interested in abbr...</td>\n",
       "      <td>[usingenglish.com, militaryfactory.com, online...</td>\n",
       "      <td>[d7x, my3s, u5u2, 1o3d4, kre2, 15d3i, unb1, u7...</td>\n",
       "      <td>1426</td>\n",
       "      <td>{\"cell\": 87, \"formula\": 72, \"cell range\": 48, ...</td>\n",
       "      <td>[cell, formula, cell range, array formula, exc...</td>\n",
       "    </tr>\n",
       "  </tbody>\n",
       "</table>\n",
       "</div>"
      ],
      "text/plain": [
       "   interest_type_id  interest_id  entity_id  \\\n",
       "0               110        17744      46444   \n",
       "1               110        56010     627953   \n",
       "2               112        11655      40981   \n",
       "\n",
       "                                               descr  \\\n",
       "0                             Vegans Q1 2018 (Oatly)   \n",
       "1                    Wedding Content Researchers DNU   \n",
       "2  Assorted Topics (This Audience Are Interested ...   \n",
       "\n",
       "                                             summary  \\\n",
       "0                             Vegans Q1 2018 (Oatly)   \n",
       "1                    Wedding Content Researchers DNU   \n",
       "2  People in this audience are interested in abbr...   \n",
       "\n",
       "                                             domains  \\\n",
       "0  [blissfulbasil.com, rabbitandwolves.com, emili...   \n",
       "1  [mywedding.com, travelfashiongirl.com, wedding...   \n",
       "2  [usingenglish.com, militaryfactory.com, online...   \n",
       "\n",
       "                                          content_id  n_url  \\\n",
       "0  [1hv6i, 1lyy4, 1mj5v, 1mp53, 1qxr8, 1jc3a, 1ih...   3297   \n",
       "1  [mjkp, 1l0k1, 1ncn8, 1dbyf, fhmi, 2xg, qwd1, 1...  21466   \n",
       "2  [d7x, my3s, u5u2, 1o3d4, kre2, 15d3i, unb1, u7...   1426   \n",
       "\n",
       "                                       keywords_json  \\\n",
       "0  {\"vegan\": 344, \"sauce\": 306, \"recipe\": 254, \"t...   \n",
       "1  {\"wedding\": 3418, \"dress\": 702, \"venue\": 692, ...   \n",
       "2  {\"cell\": 87, \"formula\": 72, \"cell range\": 48, ...   \n",
       "\n",
       "                                        keyword_list  \n",
       "0  [vegan, sauce, recipe, tofu, soup, salad, rice...  \n",
       "1  [wedding, dress, venue, guests, wedding day, c...  \n",
       "2  [cell, formula, cell range, array formula, exc...  "
      ]
     },
     "execution_count": 37,
     "metadata": {},
     "output_type": "execute_result"
    }
   ],
   "source": [
    "adv_cont_keywords_df = (\n",
    "    pd.read_parquet(FILES['mle4600_adv_contextual_keywords.parquet'])\n",
    "        .assign(keyword_list = lambda x: x['keywords_json'].apply(lambda y: list(json.loads(y).keys())))    \n",
    ")\n",
    "\n",
    "print(adv_cont_keywords_df.shape)\n",
    "\n",
    "# ensure each row is a unique interest\n",
    "assert adv_cont_keywords_df['interest_id'].nunique() == adv_cont_keywords_df.shape[0]\n",
    "\n",
    "adv_cont_keywords_df.head(n=3)"
   ]
  },
  {
   "cell_type": "markdown",
   "id": "dense-outdoors",
   "metadata": {
    "heading_collapsed": true,
    "hidden": true
   },
   "source": [
    "### Common Audiences"
   ]
  },
  {
   "cell_type": "code",
   "execution_count": 38,
   "id": "level-skill",
   "metadata": {
    "ExecuteTime": {
     "end_time": "2021-04-29T16:29:33.900434Z",
     "start_time": "2021-04-29T16:29:33.886545Z"
    },
    "hidden": true
   },
   "outputs": [
    {
     "data": {
      "text/plain": [
       "1991"
      ]
     },
     "execution_count": 38,
     "metadata": {},
     "output_type": "execute_result"
    }
   ],
   "source": [
    "common_audiences_list = list(\n",
    "    set(keyword_api_json_df['interest_id'].tolist())\n",
    "        .intersection(set(adv_cont_keywords_df['interest_id'].tolist()))\n",
    ")\n",
    "\n",
    "len(common_audiences_list)"
   ]
  },
  {
   "cell_type": "code",
   "execution_count": 39,
   "id": "conservative-holmes",
   "metadata": {
    "ExecuteTime": {
     "end_time": "2021-04-29T16:29:34.995314Z",
     "start_time": "2021-04-29T16:29:34.981450Z"
    },
    "hidden": true
   },
   "outputs": [
    {
     "data": {
      "text/plain": [
       "['Local & Travel England - East Midlands',\n",
       " 'Bird Watching',\n",
       " 'DIY Upcycle Home Project Planners',\n",
       " 'Russia Cluster',\n",
       " 'Parents of High School Students',\n",
       " 'Film Production',\n",
       " 'Credit Card Researchers',\n",
       " 'Peru Media',\n",
       " 'Canada Job Seekers Cluster',\n",
       " 'Writing Resources']"
      ]
     },
     "execution_count": 39,
     "metadata": {},
     "output_type": "execute_result"
    }
   ],
   "source": [
    "common_audiences = list(\n",
    "    set(keyword_api_json_df['descr'].tolist())\n",
    "        .intersection(set(adv_cont_keywords_df['descr'].tolist()))\n",
    ")[0:10]\n",
    "\n",
    "common_audiences"
   ]
  },
  {
   "cell_type": "code",
   "execution_count": 40,
   "id": "square-warehouse",
   "metadata": {
    "ExecuteTime": {
     "end_time": "2021-04-29T16:29:36.712307Z",
     "start_time": "2021-04-29T16:29:36.656607Z"
    },
    "hidden": true
   },
   "outputs": [
    {
     "data": {
      "text/html": [
       "<div>\n",
       "<style scoped>\n",
       "    .dataframe tbody tr th:only-of-type {\n",
       "        vertical-align: middle;\n",
       "    }\n",
       "\n",
       "    .dataframe tbody tr th {\n",
       "        vertical-align: top;\n",
       "    }\n",
       "\n",
       "    .dataframe thead th {\n",
       "        text-align: right;\n",
       "    }\n",
       "</style>\n",
       "<table border=\"1\" class=\"dataframe\">\n",
       "  <thead>\n",
       "    <tr style=\"text-align: right;\">\n",
       "      <th></th>\n",
       "      <th>interest_type_id</th>\n",
       "      <th>interest_id</th>\n",
       "      <th>entity_id</th>\n",
       "      <th>descr</th>\n",
       "      <th>summary</th>\n",
       "      <th>domains</th>\n",
       "      <th>content_id</th>\n",
       "      <th>n_url</th>\n",
       "      <th>keywords_json</th>\n",
       "      <th>keyword_list</th>\n",
       "    </tr>\n",
       "  </thead>\n",
       "  <tbody>\n",
       "    <tr>\n",
       "      <th>0</th>\n",
       "      <td>110</td>\n",
       "      <td>17744</td>\n",
       "      <td>46444</td>\n",
       "      <td>Vegans Q1 2018 (Oatly)</td>\n",
       "      <td>Vegans Q1 2018 (Oatly)</td>\n",
       "      <td>[blissfulbasil.com, rabbitandwolves.com, emili...</td>\n",
       "      <td>[1hv6i, 1lyy4, 1mj5v, 1mp53, 1qxr8, 1jc3a, 1ih...</td>\n",
       "      <td>3297</td>\n",
       "      <td>{\"vegan\": 344, \"sauce\": 306, \"recipe\": 254, \"t...</td>\n",
       "      <td>[vegan, sauce, recipe, tofu, soup, salad, rice...</td>\n",
       "    </tr>\n",
       "    <tr>\n",
       "      <th>1</th>\n",
       "      <td>110</td>\n",
       "      <td>56010</td>\n",
       "      <td>627953</td>\n",
       "      <td>Wedding Content Researchers DNU</td>\n",
       "      <td>Wedding Content Researchers DNU</td>\n",
       "      <td>[mywedding.com, travelfashiongirl.com, wedding...</td>\n",
       "      <td>[mjkp, 1l0k1, 1ncn8, 1dbyf, fhmi, 2xg, qwd1, 1...</td>\n",
       "      <td>21466</td>\n",
       "      <td>{\"wedding\": 3418, \"dress\": 702, \"venue\": 692, ...</td>\n",
       "      <td>[wedding, dress, venue, guests, wedding day, c...</td>\n",
       "    </tr>\n",
       "    <tr>\n",
       "      <th>2</th>\n",
       "      <td>112</td>\n",
       "      <td>11655</td>\n",
       "      <td>40981</td>\n",
       "      <td>Assorted Topics (This Audience Are Interested ...</td>\n",
       "      <td>People in this audience are interested in abbr...</td>\n",
       "      <td>[usingenglish.com, militaryfactory.com, online...</td>\n",
       "      <td>[d7x, my3s, u5u2, 1o3d4, kre2, 15d3i, unb1, u7...</td>\n",
       "      <td>1426</td>\n",
       "      <td>{\"cell\": 87, \"formula\": 72, \"cell range\": 48, ...</td>\n",
       "      <td>[cell, formula, cell range, array formula, exc...</td>\n",
       "    </tr>\n",
       "    <tr>\n",
       "      <th>3</th>\n",
       "      <td>110</td>\n",
       "      <td>94779</td>\n",
       "      <td>653665</td>\n",
       "      <td>Resort Vacationers</td>\n",
       "      <td>Resort Vacationers</td>\n",
       "      <td>[travelpulse.com, aviewfrommyseat.com, allhiph...</td>\n",
       "      <td>[mjkp, 12g0d, 1p4o4, 1nayh, 1k3bc, 1o59r, f9h5...</td>\n",
       "      <td>1047</td>\n",
       "      <td>{\"wedding\": 153, \"venue\": 88, \"guests\": 38, \"c...</td>\n",
       "      <td>[wedding, venue, guests, cruise, caribbean, pa...</td>\n",
       "    </tr>\n",
       "    <tr>\n",
       "      <th>4</th>\n",
       "      <td>112</td>\n",
       "      <td>11401</td>\n",
       "      <td>40727</td>\n",
       "      <td>Vermont Cluster</td>\n",
       "      <td>People in this audience are interested in a va...</td>\n",
       "      <td>[sevendaysvt.com, dailygazette.com, wwnytv.com...</td>\n",
       "      <td>[w68c, ssg4, epcs, fz2d, 10d5y, 1ggqg, cj9e, 1...</td>\n",
       "      <td>4642</td>\n",
       "      <td>{\"new hampshire\": 351, \"covid-19\": 345, \"polic...</td>\n",
       "      <td>[new hampshire, covid-19, police, haverhill, t...</td>\n",
       "    </tr>\n",
       "  </tbody>\n",
       "</table>\n",
       "</div>"
      ],
      "text/plain": [
       "   interest_type_id  interest_id  entity_id  \\\n",
       "0               110        17744      46444   \n",
       "1               110        56010     627953   \n",
       "2               112        11655      40981   \n",
       "3               110        94779     653665   \n",
       "4               112        11401      40727   \n",
       "\n",
       "                                               descr  \\\n",
       "0                             Vegans Q1 2018 (Oatly)   \n",
       "1                    Wedding Content Researchers DNU   \n",
       "2  Assorted Topics (This Audience Are Interested ...   \n",
       "3                                 Resort Vacationers   \n",
       "4                                    Vermont Cluster   \n",
       "\n",
       "                                             summary  \\\n",
       "0                             Vegans Q1 2018 (Oatly)   \n",
       "1                    Wedding Content Researchers DNU   \n",
       "2  People in this audience are interested in abbr...   \n",
       "3                                 Resort Vacationers   \n",
       "4  People in this audience are interested in a va...   \n",
       "\n",
       "                                             domains  \\\n",
       "0  [blissfulbasil.com, rabbitandwolves.com, emili...   \n",
       "1  [mywedding.com, travelfashiongirl.com, wedding...   \n",
       "2  [usingenglish.com, militaryfactory.com, online...   \n",
       "3  [travelpulse.com, aviewfrommyseat.com, allhiph...   \n",
       "4  [sevendaysvt.com, dailygazette.com, wwnytv.com...   \n",
       "\n",
       "                                          content_id  n_url  \\\n",
       "0  [1hv6i, 1lyy4, 1mj5v, 1mp53, 1qxr8, 1jc3a, 1ih...   3297   \n",
       "1  [mjkp, 1l0k1, 1ncn8, 1dbyf, fhmi, 2xg, qwd1, 1...  21466   \n",
       "2  [d7x, my3s, u5u2, 1o3d4, kre2, 15d3i, unb1, u7...   1426   \n",
       "3  [mjkp, 12g0d, 1p4o4, 1nayh, 1k3bc, 1o59r, f9h5...   1047   \n",
       "4  [w68c, ssg4, epcs, fz2d, 10d5y, 1ggqg, cj9e, 1...   4642   \n",
       "\n",
       "                                       keywords_json  \\\n",
       "0  {\"vegan\": 344, \"sauce\": 306, \"recipe\": 254, \"t...   \n",
       "1  {\"wedding\": 3418, \"dress\": 702, \"venue\": 692, ...   \n",
       "2  {\"cell\": 87, \"formula\": 72, \"cell range\": 48, ...   \n",
       "3  {\"wedding\": 153, \"venue\": 88, \"guests\": 38, \"c...   \n",
       "4  {\"new hampshire\": 351, \"covid-19\": 345, \"polic...   \n",
       "\n",
       "                                        keyword_list  \n",
       "0  [vegan, sauce, recipe, tofu, soup, salad, rice...  \n",
       "1  [wedding, dress, venue, guests, wedding day, c...  \n",
       "2  [cell, formula, cell range, array formula, exc...  \n",
       "3  [wedding, venue, guests, cruise, caribbean, pa...  \n",
       "4  [new hampshire, covid-19, police, haverhill, t...  "
      ]
     },
     "execution_count": 40,
     "metadata": {},
     "output_type": "execute_result"
    }
   ],
   "source": [
    "adv_cont_keywords_df.head()"
   ]
  },
  {
   "cell_type": "markdown",
   "id": "lesser-archives",
   "metadata": {
    "heading_collapsed": true
   },
   "source": [
    "## Test CCA build"
   ]
  },
  {
   "cell_type": "code",
   "execution_count": 41,
   "id": "sporting-shame",
   "metadata": {
    "ExecuteTime": {
     "end_time": "2021-04-29T16:30:44.159950Z",
     "start_time": "2021-04-29T16:30:44.037168Z"
    },
    "hidden": true
   },
   "outputs": [
    {
     "data": {
      "text/plain": [
       "15744"
      ]
     },
     "execution_count": 41,
     "metadata": {},
     "output_type": "execute_result"
    }
   ],
   "source": [
    "## See what dimensions the system can handle\n",
    "\n",
    "num_content = adv_cont_keywords_df.explode('content_id')['content_id'].nunique()\n",
    "\n",
    "num_content"
   ]
  },
  {
   "cell_type": "code",
   "execution_count": 42,
   "id": "flexible-recipient",
   "metadata": {
    "ExecuteTime": {
     "end_time": "2021-04-29T16:30:45.043657Z",
     "start_time": "2021-04-29T16:30:44.721444Z"
    },
    "hidden": true
   },
   "outputs": [
    {
     "data": {
      "text/plain": [
       "4700"
      ]
     },
     "execution_count": 42,
     "metadata": {},
     "output_type": "execute_result"
    }
   ],
   "source": [
    "keyword_api_words = keyword_api_json_df['keywords_json'].apply(lambda x: list(json.loads(x).keys())).explode().unique()\n",
    "\n",
    "num_keyword_api_words = keyword_api_json_df['keywords_json'].apply(lambda x: list(json.loads(x).keys())).explode().nunique()\n",
    "\n",
    "num_keyword_api_words"
   ]
  },
  {
   "cell_type": "code",
   "execution_count": 43,
   "id": "radical-offering",
   "metadata": {
    "ExecuteTime": {
     "end_time": "2021-04-29T16:30:53.846298Z",
     "start_time": "2021-04-29T16:30:52.350074Z"
    },
    "hidden": true
   },
   "outputs": [
    {
     "data": {
      "text/plain": [
       "120833"
      ]
     },
     "execution_count": 43,
     "metadata": {},
     "output_type": "execute_result"
    }
   ],
   "source": [
    "adv_cont_words = adv_cont_keywords_df['keywords_json'].apply(lambda x: list(json.loads(x).keys())).explode().unique()\n",
    "\n",
    "num_adv_cont_words = adv_cont_keywords_df['keywords_json'].apply(lambda x: list(json.loads(x).keys())).explode().nunique()\n",
    "\n",
    "num_adv_cont_words"
   ]
  },
  {
   "cell_type": "code",
   "execution_count": 44,
   "id": "bottom-diabetes",
   "metadata": {
    "ExecuteTime": {
     "end_time": "2021-04-29T16:31:14.526038Z",
     "start_time": "2021-04-29T16:31:09.810650Z"
    },
    "hidden": true
   },
   "outputs": [],
   "source": [
    "total_words = len(list(set(adv_cont_words).union(set(keyword_api_words))))\n",
    "total_words\n",
    "\n",
    "random_kw_moti_pairings = np.random.rand(655609, MOTI_WIDTH+FASTTEXT_WIDTH) # see if it blows up"
   ]
  },
  {
   "cell_type": "code",
   "execution_count": null,
   "id": "returning-provider",
   "metadata": {
    "ExecuteTime": {
     "end_time": "2021-04-27T21:13:52.279631Z",
     "start_time": "2021-04-27T21:13:52.274276Z"
    },
    "hidden": true
   },
   "outputs": [],
   "source": [
    "my_cca = CCA(n_components=3)\n",
    "\n",
    "my_cca.fit(random_kw_moti_pairings[:,128:], random_kw_moti_pairings[:,:128])\n",
    "\n",
    "random_kw_moti_pairings.shape"
   ]
  },
  {
   "cell_type": "markdown",
   "id": "black-welcome",
   "metadata": {
    "heading_collapsed": true
   },
   "source": [
    "## Build CCA"
   ]
  },
  {
   "cell_type": "markdown",
   "id": "working-decision",
   "metadata": {
    "hidden": true
   },
   "source": [
    "### Get keyword - site correspondences"
   ]
  },
  {
   "cell_type": "code",
   "execution_count": 45,
   "id": "veterinary-voluntary",
   "metadata": {
    "ExecuteTime": {
     "end_time": "2021-04-29T16:31:41.913140Z",
     "start_time": "2021-04-29T16:31:41.510974Z"
    },
    "hidden": true
   },
   "outputs": [],
   "source": [
    "JOBNAME = 'MLE-4661 - Try CCA'\n",
    "\n",
    "dist_archives = 'hdfs:///user/pmccarthy/conda/webtools37.zip#webtools37'\n",
    "\n",
    "# os.environ['SPARK_HOME'] = '/home/pmccarthy/nas/opt/spark-2.4.7-bin-hadoop2.7'\n",
    "os.environ['SPARK_HOME'] = '/opt/spark-hadrs2'\n",
    "os.environ['PYSPARK_PYTHON'] = './webtools37/webtools37/bin/python'\n",
    "\n",
    "sys.path.insert(0,os.path.join(os.environ['SPARK_HOME'],'python','lib','py4j-src.zip'))\n",
    "sys.path.append(os.path.join(os.environ['SPARK_HOME'],'python'))\n",
    "\n",
    "import pyspark\n",
    "from pyspark.sql import SparkSession\n",
    "from pyspark.sql import functions as F\n",
    "from pyspark.sql import types as T\n",
    "from pyspark.sql import window as W\n",
    "\n",
    "\n",
    "# spark = (SparkSession\n",
    "#          .builder\n",
    "#          .enableHiveSupport()\n",
    "#          .appName(f\"{os.uname()[1].split('.')[0]}: {JOBNAME}\")\n",
    "#          .config('spark.master','yarn')\n",
    "#          .config('spark.yarn.deployMode','client')\n",
    "#          .config('spark.executor.cores',1)\n",
    "#          .config('spark.executor.memory','2g')\n",
    "#          .config('spark.driver.memory','5g')\n",
    "#          .config('spark.dynamicAllocation.maxExecutors',1500)\n",
    "         \n",
    "#          .config('spark.yarn.dist.archives', dist_archives)\n",
    "         \n",
    "#          .config('spark.hadoop.mapreduce.fileoutputcommitter.algorithm.version','2')\n",
    "#          .config('spark.hadoop.parquet.enable.summary-metadata','false')\n",
    "#          .config('spark.sql.parquet.mergeSchema','false')\n",
    "#          .config('spark.sql.parquet.filterPushdown','true')\n",
    "#          .config('spark.sql.hive.metastorePartitionPruning','true')\n",
    "         \n",
    "#          .config('spark.sql.execution.arrow.enabled','true')\n",
    "#          .config('spark.sql.shuffle.partitions','4096')\n",
    "         \n",
    "#          .getOrCreate())"
   ]
  },
  {
   "cell_type": "code",
   "execution_count": 46,
   "id": "manufactured-africa",
   "metadata": {
    "ExecuteTime": {
     "end_time": "2021-04-29T16:31:47.716237Z",
     "start_time": "2021-04-29T16:31:47.703481Z"
    },
    "hidden": true
   },
   "outputs": [],
   "source": [
    "@F.pandas_udf(T.StringType(), F.PandasUDFType.SCALAR)\n",
    "def get_domain(url_series):\n",
    "    \"\"\"\n",
    "    Take in arbitrary URLs and produce a simple \"domain.tld\" string.\n",
    "    \"\"\"\n",
    "\n",
    "    import tldextract\n",
    "    import os\n",
    "    import pandas as pd\n",
    "    \n",
    "    # Necessary with Arrow > 0.14\n",
    "    os.environ['ARROW_PRE_0_15_IPC_FORMAT'] = '1'\n",
    "    \n",
    "    # tldextract wants to cache a file of valid TLDs, but this isn't\n",
    "    # straightforward on spark workers\n",
    "    no_cache_extract = tldextract.TLDExtract(cache_dir=False)\n",
    "    \n",
    "    def get_single_domain(url):\n",
    "        try:\n",
    "            ext = no_cache_extract(url)\n",
    "            return \".\".join([ext.domain,ext.suffix])\n",
    "        except:\n",
    "            return url\n",
    "    \n",
    "    return pd.Series(map(get_single_domain, url_series))\n",
    "    "
   ]
  },
  {
   "cell_type": "code",
   "execution_count": 48,
   "id": "beneficial-potato",
   "metadata": {
    "ExecuteTime": {
     "end_time": "2021-04-29T16:32:20.706928Z",
     "start_time": "2021-04-29T16:32:20.702695Z"
    },
    "hidden": true
   },
   "outputs": [],
   "source": [
    "# # Link of Interests to the content (websites) that index highly for them\n",
    "# audience_content_map = (\n",
    "#     spark.table(\"di_content_index.content_index_current\")\n",
    "#     .filter(F.col('indexee_interest_type_id').isin([110, 112, 230]))\n",
    "#     .withColumn('indexers_27', F.explode(F.col('indexers')[27]))\n",
    "    \n",
    "#     .select('indexee_interest_type_id','indexee_interest_id', 'indexers_27.*')\n",
    "#     .withColumn('index_score_rand', F.col('index_score') + (F.rand()/F.lit(1e6)))\n",
    "#     .withColumn('rnk', F.dense_rank().over(\n",
    "#         W.Window.partitionBy('indexee_interest_type_id','indexee_interest_id')\n",
    "#                 ## add a small random number to break ties\n",
    "#                 .orderBy(F.desc('index_score_rand'))\n",
    "#     ))\n",
    "#     .filter(F.col('rnk') <= NUM_CONTENT_PER_INSIGHT)\n",
    "    \n",
    "#     .select(F.col('indexee_interest_type_id').alias('interest_type_id'),\n",
    "#             F.col('indexee_interest_id').alias('interest_id'),\n",
    "#             F.col('content_id'))\n",
    "# )\n",
    "    \n",
    "# audience_content_map.show(n=3, truncate=False)"
   ]
  },
  {
   "cell_type": "code",
   "execution_count": 49,
   "id": "automated-belize",
   "metadata": {
    "ExecuteTime": {
     "end_time": "2021-04-29T16:32:22.006360Z",
     "start_time": "2021-04-29T16:32:22.001197Z"
    },
    "hidden": true
   },
   "outputs": [],
   "source": [
    "# # List of known, enumerated content and the domains they represent\n",
    "# macro_content_domains = (\n",
    "    \n",
    "#     spark.table(\"ds.macro_content\")\n",
    "    \n",
    "#     .join(\n",
    "#         F.broadcast(\n",
    "#             audience_content_map\n",
    "#             .select('content_id')\n",
    "#             .distinct()), on='content_id', how='inner')\n",
    "    \n",
    "#     .select('content_id',\n",
    "#             get_domain('hostname').alias('domain'))    \n",
    "#     .distinct()\n",
    "    \n",
    "# ).cache()\n",
    "\n",
    "# macro_content_domains.show(n=3)"
   ]
  },
  {
   "cell_type": "code",
   "execution_count": 50,
   "id": "toxic-possible",
   "metadata": {
    "ExecuteTime": {
     "end_time": "2021-04-29T16:32:26.932769Z",
     "start_time": "2021-04-29T16:32:26.922537Z"
    },
    "hidden": true
   },
   "outputs": [],
   "source": [
    "# @F.pandas_udf(T.StringType(), F.PandasUDFType.SCALAR)\n",
    "# def count_keywords(keywords_series: pd.Series) -> pd.Series:\n",
    "#     \"\"\"\n",
    "#     Given an array of keywords, produce a map of\n",
    "    \n",
    "#         {keyword: num_occurrences}\n",
    "    \n",
    "#     serialized to json.\n",
    "#     \"\"\"\n",
    "\n",
    "#     from collections import defaultdict\n",
    "#     import json\n",
    "#     import os\n",
    "#     import numpy as np    \n",
    "    \n",
    "#     # Necessary with Arrow > 0.14\n",
    "#     os.environ['ARROW_PRE_0_15_IPC_FORMAT'] = '1'\n",
    "    \n",
    "#     def single_keyword_array_count(keyword_array):\n",
    "\n",
    "#         # instantiate with a tiny random value so we can break ties\n",
    "#         word_count = defaultdict(lambda: np.random.rand() / float(1e6))\n",
    "\n",
    "#         for word in keyword_array:\n",
    "#             word_count[word] += 1\n",
    "\n",
    "#         # sort counts largest to smallest\n",
    "#         sorted_keys = sorted(word_count, key=word_count.get)[::-1]\n",
    "        \n",
    "#         if len(list(sorted_keys)) >= NUM_KEYWORDS_PER_CONTENT:        \n",
    "#             return json.dumps({k:int(np.floor(word_count[k])) for k in sorted_keys[0:NUM_KEYWORDS_PER_CONTENT]})\n",
    "#         else:\n",
    "#             return json.dumps({k:int(np.floor(word_count[k])) for k in sorted_keys})\n",
    "            \n",
    "    \n",
    "#     return pd.Series(map(single_keyword_array_count, keywords_series))"
   ]
  },
  {
   "cell_type": "code",
   "execution_count": 51,
   "id": "mounted-chemistry",
   "metadata": {
    "ExecuteTime": {
     "end_time": "2021-04-29T16:32:31.751619Z",
     "start_time": "2021-04-29T16:32:31.745781Z"
    },
    "hidden": true
   },
   "outputs": [],
   "source": [
    "# host_keywords = (\n",
    "#     spark.table('awhite_spectrum.spectrum_response')\n",
    "#     .repartition(256)\n",
    "    \n",
    "#     .select('*', F.concat(F.lit('https://'),F.col('url')).alias('http_url'))\n",
    "#     .select('*', get_domain('http_url').alias('domain'))\n",
    "    \n",
    "#     .filter(F.col('url') != F.lit('url')) # get rid of a header        \n",
    "    \n",
    "#     .join(F.broadcast(macro_content_domains), on='domain', how='inner')\n",
    "    \n",
    "#     .join(F.broadcast(audience_content_map), on='content_id', how='inner')\n",
    "    \n",
    "#     .select('url', \n",
    "#             'domain',\n",
    "#             'interest_type_id',\n",
    "#             'interest_id',\n",
    "#             'content_id',\n",
    "            \n",
    "#             #collect non-empty keyword columns into an array\n",
    "#             F.array_remove(\n",
    "#                 F.array(*[F.lower(F.col(f'keyword_{x}')) for x in range(1,11)]),\n",
    "#                 '').alias('keywords'))\n",
    "    \n",
    "#     .filter(F.size(F.col('keywords'))!=0)\n",
    "    \n",
    "#     .groupBy('content_id')\n",
    "#     .agg(F.flatten(F.collect_list(F.col('keywords'))).alias('keywords'))\n",
    "    \n",
    "#     .select('content_id', count_keywords('keywords').alias('keywords'))\n",
    "    \n",
    "# )\n",
    "\n",
    "# host_keywords_df = host_keywords.toPandas()\n",
    "# # host_keywords.printSchema()"
   ]
  },
  {
   "cell_type": "code",
   "execution_count": null,
   "id": "round-drama",
   "metadata": {
    "ExecuteTime": {
     "end_time": "2021-04-26T20:28:50.366677Z",
     "start_time": "2021-04-26T20:28:49.762847Z"
    },
    "hidden": true
   },
   "outputs": [],
   "source": [
    "# host_keywords_df.to_parquet('mle4611_host_top_keywords.parquet')"
   ]
  },
  {
   "cell_type": "code",
   "execution_count": 52,
   "id": "fifth-display",
   "metadata": {
    "ExecuteTime": {
     "end_time": "2021-04-29T16:32:35.042932Z",
     "start_time": "2021-04-29T16:32:34.914916Z"
    },
    "hidden": true
   },
   "outputs": [
    {
     "data": {
      "text/html": [
       "<div>\n",
       "<style scoped>\n",
       "    .dataframe tbody tr th:only-of-type {\n",
       "        vertical-align: middle;\n",
       "    }\n",
       "\n",
       "    .dataframe tbody tr th {\n",
       "        vertical-align: top;\n",
       "    }\n",
       "\n",
       "    .dataframe thead th {\n",
       "        text-align: right;\n",
       "    }\n",
       "</style>\n",
       "<table border=\"1\" class=\"dataframe\">\n",
       "  <thead>\n",
       "    <tr style=\"text-align: right;\">\n",
       "      <th></th>\n",
       "      <th>content_id</th>\n",
       "      <th>keywords</th>\n",
       "    </tr>\n",
       "  </thead>\n",
       "  <tbody>\n",
       "    <tr>\n",
       "      <th>0</th>\n",
       "      <td>w9n6</td>\n",
       "      <td>{\"weatherford\": 68, \"parker county\": 66, \"covi...</td>\n",
       "    </tr>\n",
       "    <tr>\n",
       "      <th>1</th>\n",
       "      <td>fsyt</td>\n",
       "      <td>{\"germany\": 10, \"dpa\": 4, \"germans\": 4, \"querg...</td>\n",
       "    </tr>\n",
       "    <tr>\n",
       "      <th>2</th>\n",
       "      <td>q2bl</td>\n",
       "      <td>{\"greece\": 7, \"greeks\": 4, \"greek\": 4, \"europe...</td>\n",
       "    </tr>\n",
       "  </tbody>\n",
       "</table>\n",
       "</div>"
      ],
      "text/plain": [
       "  content_id                                           keywords\n",
       "0       w9n6  {\"weatherford\": 68, \"parker county\": 66, \"covi...\n",
       "1       fsyt  {\"germany\": 10, \"dpa\": 4, \"germans\": 4, \"querg...\n",
       "2       q2bl  {\"greece\": 7, \"greeks\": 4, \"greek\": 4, \"europe..."
      ]
     },
     "execution_count": 52,
     "metadata": {},
     "output_type": "execute_result"
    }
   ],
   "source": [
    "host_keywords_df = pd.read_parquet('mle4611_host_top_keywords.parquet')\n",
    "\n",
    "host_keywords_df.head(n=3)"
   ]
  },
  {
   "cell_type": "code",
   "execution_count": 53,
   "id": "owned-france",
   "metadata": {
    "ExecuteTime": {
     "end_time": "2021-04-29T16:32:43.453970Z",
     "start_time": "2021-04-29T16:32:42.677608Z"
    },
    "hidden": true
   },
   "outputs": [],
   "source": [
    "host_keyword_pairs = (\n",
    "    host_keywords_df.assign(keywords_list = lambda x: x['keywords'].apply(lambda y: json.loads(y).keys()))\n",
    "    [['content_id','keywords_list']]\n",
    "    .explode('keywords_list')\n",
    ")"
   ]
  },
  {
   "cell_type": "code",
   "execution_count": 54,
   "id": "sought-piano",
   "metadata": {
    "ExecuteTime": {
     "end_time": "2021-04-29T16:32:44.572380Z",
     "start_time": "2021-04-29T16:32:44.552557Z"
    },
    "hidden": true
   },
   "outputs": [
    {
     "name": "stdout",
     "output_type": "stream",
     "text": [
      "(655609, 2)\n"
     ]
    },
    {
     "data": {
      "text/html": [
       "<div>\n",
       "<style scoped>\n",
       "    .dataframe tbody tr th:only-of-type {\n",
       "        vertical-align: middle;\n",
       "    }\n",
       "\n",
       "    .dataframe tbody tr th {\n",
       "        vertical-align: top;\n",
       "    }\n",
       "\n",
       "    .dataframe thead th {\n",
       "        text-align: right;\n",
       "    }\n",
       "</style>\n",
       "<table border=\"1\" class=\"dataframe\">\n",
       "  <thead>\n",
       "    <tr style=\"text-align: right;\">\n",
       "      <th></th>\n",
       "      <th>content_id</th>\n",
       "      <th>keywords_list</th>\n",
       "    </tr>\n",
       "  </thead>\n",
       "  <tbody>\n",
       "    <tr>\n",
       "      <th>0</th>\n",
       "      <td>w9n6</td>\n",
       "      <td>weatherford</td>\n",
       "    </tr>\n",
       "    <tr>\n",
       "      <th>0</th>\n",
       "      <td>w9n6</td>\n",
       "      <td>parker county</td>\n",
       "    </tr>\n",
       "    <tr>\n",
       "      <th>0</th>\n",
       "      <td>w9n6</td>\n",
       "      <td>covid-19</td>\n",
       "    </tr>\n",
       "  </tbody>\n",
       "</table>\n",
       "</div>"
      ],
      "text/plain": [
       "  content_id  keywords_list\n",
       "0       w9n6    weatherford\n",
       "0       w9n6  parker county\n",
       "0       w9n6       covid-19"
      ]
     },
     "execution_count": 54,
     "metadata": {},
     "output_type": "execute_result"
    }
   ],
   "source": [
    "print(host_keyword_pairs.shape)\n",
    "\n",
    "host_keyword_pairs.head(n=3)"
   ]
  },
  {
   "cell_type": "markdown",
   "id": "parallel-lancaster",
   "metadata": {
    "hidden": true
   },
   "source": [
    "### Load a recent MOTI"
   ]
  },
  {
   "cell_type": "code",
   "execution_count": 55,
   "id": "tropical-stephen",
   "metadata": {
    "ExecuteTime": {
     "end_time": "2021-04-29T16:33:01.740723Z",
     "start_time": "2021-04-29T16:33:01.736165Z"
    },
    "hidden": true
   },
   "outputs": [],
   "source": [
    "### Build an average word vector per "
   ]
  },
  {
   "cell_type": "code",
   "execution_count": 56,
   "id": "specified-harvey",
   "metadata": {
    "ExecuteTime": {
     "end_time": "2021-04-29T16:33:02.334356Z",
     "start_time": "2021-04-29T16:33:02.329764Z"
    },
    "hidden": true
   },
   "outputs": [],
   "source": [
    "# ! hadoop-hadprod2 fs -ls /user/moti/backups/ | tail"
   ]
  },
  {
   "cell_type": "code",
   "execution_count": 57,
   "id": "small-gnome",
   "metadata": {
    "ExecuteTime": {
     "end_time": "2021-04-29T16:33:02.739194Z",
     "start_time": "2021-04-29T16:33:02.734573Z"
    },
    "hidden": true
   },
   "outputs": [],
   "source": [
    "# ! hadoop-hadprod2 fs -get /user/moti/backups/20210426/embeddings/*.npy data/"
   ]
  },
  {
   "cell_type": "code",
   "execution_count": 58,
   "id": "chubby-video",
   "metadata": {
    "ExecuteTime": {
     "end_time": "2021-04-29T16:33:03.224895Z",
     "start_time": "2021-04-29T16:33:03.220518Z"
    },
    "hidden": true
   },
   "outputs": [],
   "source": [
    "# ! ls data/ | grep embedding"
   ]
  },
  {
   "cell_type": "code",
   "execution_count": 59,
   "id": "christian-porter",
   "metadata": {
    "ExecuteTime": {
     "end_time": "2021-04-29T16:33:05.449771Z",
     "start_time": "2021-04-29T16:33:04.365523Z"
    },
    "hidden": true
   },
   "outputs": [],
   "source": [
    "moti = np.load(FILES['embeddings_20210426_153704.npy'])"
   ]
  },
  {
   "cell_type": "code",
   "execution_count": 60,
   "id": "patient-vancouver",
   "metadata": {
    "ExecuteTime": {
     "end_time": "2021-04-29T16:33:07.222269Z",
     "start_time": "2021-04-29T16:33:07.215480Z"
    },
    "hidden": true
   },
   "outputs": [],
   "source": [
    "def moti_id(content_id):\n",
    "    return mmh3.hash(f\"27:{content_id}\", seed=0, signed=False) % 2500000"
   ]
  },
  {
   "cell_type": "code",
   "execution_count": 61,
   "id": "automatic-bailey",
   "metadata": {
    "ExecuteTime": {
     "end_time": "2021-04-29T16:33:17.450381Z",
     "start_time": "2021-04-29T16:33:14.450359Z"
    },
    "hidden": true
   },
   "outputs": [
    {
     "data": {
      "text/plain": [
       "(655609, 128)"
      ]
     },
     "execution_count": 61,
     "metadata": {},
     "output_type": "execute_result"
    }
   ],
   "source": [
    "embeddings_mat = np.vstack([moti[moti_id(content_id)] for content_id in host_keyword_pairs['content_id']])\n",
    "\n",
    "embeddings_mat.shape"
   ]
  },
  {
   "cell_type": "markdown",
   "id": "compatible-heating",
   "metadata": {
    "hidden": true
   },
   "source": [
    "### Load fasttext"
   ]
  },
  {
   "cell_type": "code",
   "execution_count": 62,
   "id": "specific-payday",
   "metadata": {
    "ExecuteTime": {
     "end_time": "2021-04-29T16:33:51.370341Z",
     "start_time": "2021-04-29T16:33:21.431217Z"
    },
    "hidden": true
   },
   "outputs": [],
   "source": [
    "ft_model = fasttext.load_model(FILES['wiki.en.bin'])"
   ]
  },
  {
   "cell_type": "code",
   "execution_count": 63,
   "id": "reduced-marble",
   "metadata": {
    "ExecuteTime": {
     "end_time": "2021-04-29T16:34:23.418860Z",
     "start_time": "2021-04-29T16:33:51.373349Z"
    },
    "hidden": true
   },
   "outputs": [],
   "source": [
    "keywords_mat = np.vstack([ft_model.get_sentence_vector(keyword) for keyword in host_keyword_pairs['keywords_list']])"
   ]
  },
  {
   "cell_type": "code",
   "execution_count": 64,
   "id": "authentic-empire",
   "metadata": {
    "ExecuteTime": {
     "end_time": "2021-04-29T16:34:23.432053Z",
     "start_time": "2021-04-29T16:34:23.426937Z"
    },
    "hidden": true
   },
   "outputs": [
    {
     "data": {
      "text/plain": [
       "(655609, 300)"
      ]
     },
     "execution_count": 64,
     "metadata": {},
     "output_type": "execute_result"
    }
   ],
   "source": [
    "keywords_mat.shape"
   ]
  },
  {
   "cell_type": "markdown",
   "id": "diagnostic-scope",
   "metadata": {
    "heading_collapsed": true,
    "hidden": true
   },
   "source": [
    "### Train CCA"
   ]
  },
  {
   "cell_type": "code",
   "execution_count": 65,
   "id": "understood-thong",
   "metadata": {
    "ExecuteTime": {
     "end_time": "2021-04-29T16:34:23.661165Z",
     "start_time": "2021-04-29T16:34:23.435772Z"
    },
    "hidden": true
   },
   "outputs": [],
   "source": [
    "cca_model_10 = CCA(n_components=10)\n",
    "\n",
    "# cca_model_10.fit(keywords_mat, embeddings_mat)\n",
    "\n",
    "# joblib.dump(cca_model_10,FILES['cca_model_10.joblib'])\n",
    "\n",
    "cca_model_10 = joblib.load(FILES['cca_model_10.joblib'])"
   ]
  },
  {
   "cell_type": "code",
   "execution_count": 66,
   "id": "thrown-might",
   "metadata": {
    "ExecuteTime": {
     "end_time": "2021-04-29T16:35:47.670246Z",
     "start_time": "2021-04-29T16:35:40.057023Z"
    },
    "hidden": true
   },
   "outputs": [
    {
     "data": {
      "text/plain": [
       "[0.7520190270729683,\n",
       " 0.6732104091764609,\n",
       " 0.5903660894150398,\n",
       " 0.5271246318363852,\n",
       " 0.4973232551055605,\n",
       " 0.46759320770347157,\n",
       " 0.449453900238123,\n",
       " 0.4311072046932265,\n",
       " 0.4241671323538605,\n",
       " 0.3812952534229086]"
      ]
     },
     "execution_count": 66,
     "metadata": {},
     "output_type": "execute_result"
    }
   ],
   "source": [
    "keywords_latent, embeddings_latent  = cca_model_10.transform(keywords_mat, embeddings_mat)\n",
    "dims_10 = []\n",
    "\n",
    "# correlations look like this: \n",
    "# [[1.         0.75201897]\n",
    "#  [0.75201897 1.        ]]\n",
    "\n",
    "for i in range(10):\n",
    "    dims_10.append(np.corrcoef(keywords_latent[:,i],embeddings_latent[:,i])[0,1])\n",
    "    \n",
    "dims_10    "
   ]
  },
  {
   "cell_type": "code",
   "execution_count": 67,
   "id": "impressive-google",
   "metadata": {
    "ExecuteTime": {
     "end_time": "2021-04-29T16:51:26.987752Z",
     "start_time": "2021-04-29T16:51:26.474977Z"
    },
    "hidden": true
   },
   "outputs": [],
   "source": [
    "cca_model_30 = CCA(n_components=30)\n",
    "\n",
    "# cca_model_30.fit(keywords_mat, embeddings_mat)\n",
    "\n",
    "# joblib.dump(cca_model_30,FILES['cca_model_30.joblib'])\n",
    "\n",
    "cca_model_30 = joblib.load(FILES['cca_model_30.joblib'])"
   ]
  },
  {
   "cell_type": "code",
   "execution_count": 68,
   "id": "spanish-guess",
   "metadata": {
    "ExecuteTime": {
     "end_time": "2021-04-29T16:51:57.132963Z",
     "start_time": "2021-04-29T16:51:48.678002Z"
    },
    "hidden": true
   },
   "outputs": [],
   "source": [
    "keywords_latent30, embeddings_latent30  = cca_model_30.transform(keywords_mat, embeddings_mat)\n",
    "dims_30 = []\n",
    "\n",
    "# correlations look like this: \n",
    "# [[1.         0.75201897]\n",
    "#  [0.75201897 1.        ]]"
   ]
  },
  {
   "cell_type": "code",
   "execution_count": 69,
   "id": "encouraging-bikini",
   "metadata": {
    "ExecuteTime": {
     "end_time": "2021-04-29T16:51:58.194660Z",
     "start_time": "2021-04-29T16:51:57.135978Z"
    },
    "hidden": true,
    "scrolled": true
   },
   "outputs": [
    {
     "data": {
      "text/plain": [
       "[0.7520190270729682,\n",
       " 0.6732104091764606,\n",
       " 0.5903660894150391,\n",
       " 0.5271246318363846,\n",
       " 0.4973232551055622,\n",
       " 0.4675932077034714,\n",
       " 0.4494539002381234,\n",
       " 0.43110720469322683,\n",
       " 0.42416713235385983,\n",
       " 0.38129525342290904,\n",
       " 0.3626088685258137,\n",
       " 0.3477262060632406,\n",
       " 0.3234853361749992,\n",
       " 0.31853845073205717,\n",
       " 0.29299088179725985,\n",
       " 0.28067806186335237,\n",
       " 0.2730449220512182,\n",
       " 0.25734642079267683,\n",
       " 0.25070761000449127,\n",
       " 0.2470090804371784,\n",
       " 0.24445711474248125,\n",
       " 0.2324977308978481,\n",
       " 0.22911418720844798,\n",
       " 0.22699666405592206,\n",
       " 0.21826793151950444,\n",
       " 0.2083356357747515,\n",
       " 0.20362862734354487,\n",
       " 0.1974585043780232,\n",
       " 0.18976066801154914,\n",
       " 0.18487384097540863]"
      ]
     },
     "execution_count": 69,
     "metadata": {},
     "output_type": "execute_result"
    }
   ],
   "source": [
    "for i in range(30):\n",
    "    dims_30.append(np.corrcoef(keywords_latent30[:,i],embeddings_latent30[:,i])[0,1])\n",
    "    \n",
    "dims_30    "
   ]
  },
  {
   "cell_type": "code",
   "execution_count": 70,
   "id": "waiting-dressing",
   "metadata": {
    "ExecuteTime": {
     "end_time": "2021-04-29T16:52:12.001276Z",
     "start_time": "2021-04-29T16:52:11.623166Z"
    },
    "hidden": true
   },
   "outputs": [
    {
     "data": {
      "image/png": "[encoded data removed]",
      "text/plain": [
       "<Figure size 640x480 with 1 Axes>"
      ]
     },
     "metadata": {},
     "output_type": "display_data"
    },
    {
     "data": {
      "text/plain": [
       "<ggplot: (8749867856901)>"
      ]
     },
     "execution_count": 70,
     "metadata": {},
     "output_type": "execute_result"
    }
   ],
   "source": [
    "(\n",
    "    ggplot(\n",
    "        pd.DataFrame({\"component\":range(30),\"correlation\":dims_30}),\n",
    "        aes(x='component',y='correlation')\n",
    "    ) \n",
    "    + geom_point()\n",
    "    + ggtitle(\"ρ(Keywords, MOTI) per component\")\n",
    "    + theme_bw()\n",
    "    + labs(x='Component',y='ρ')\n",
    ")"
   ]
  },
  {
   "cell_type": "markdown",
   "id": "formal-relationship",
   "metadata": {
    "heading_collapsed": true
   },
   "source": [
    "## Define transform for Fasttext and MOTI vectors"
   ]
  },
  {
   "cell_type": "code",
   "execution_count": 71,
   "id": "heavy-salmon",
   "metadata": {
    "ExecuteTime": {
     "end_time": "2021-04-29T16:55:29.068311Z",
     "start_time": "2021-04-29T16:55:29.054785Z"
    },
    "hidden": true
   },
   "outputs": [],
   "source": [
    "class TransformAndFasttext():\n",
    "    \n",
    "    def __init__(self, ft_model, sk_model):\n",
    "        \n",
    "        self.sk_model = sk_model\n",
    "        self.ft_model = ft_model\n",
    "    \n",
    "    def get_sentence_vector(self, X):\n",
    "        \"\"\"\n",
    "        Take in a string and do the CCA transform after getting\n",
    "        the fasttext vector back\n",
    "        \"\"\"\n",
    "        \n",
    "        return self.sk_model.transform(np.expand_dims(\n",
    "            self.ft_model.get_sentence_vector(X)\n",
    "            ,0))\n",
    "    \n",
    "    def get_content_vector(self, Y):\n",
    "        \"\"\"\n",
    "        Take in a numpy array of moti vectors and do the\n",
    "        CCA transform. \n",
    "        \n",
    "        Average the matrix down to a 1d vector before returning.\n",
    "        \n",
    "        I'm fitting MOTI in the second 'block'\n",
    "        of CCA and sklearn needs an input X to fit an input Y,\n",
    "        so we generate a dummy input X that gets thrown away.\n",
    "        \"\"\"\n",
    "    \n",
    "        dummy_X = np.zeros((Y.shape[0], self.sk_model.x_rotations_.shape[0]))\n",
    "\n",
    "        _, y_transformed = self.sk_model.transform(dummy_X, Y)\n",
    "\n",
    "        return np.mean(y_transformed, axis=0, keepdims=True)\n",
    "        "
   ]
  },
  {
   "cell_type": "code",
   "execution_count": 72,
   "id": "black-native",
   "metadata": {
    "ExecuteTime": {
     "end_time": "2021-04-29T16:55:32.930400Z",
     "start_time": "2021-04-29T16:55:32.918659Z"
    },
    "hidden": true
   },
   "outputs": [
    {
     "data": {
      "text/plain": [
       "True"
      ]
     },
     "execution_count": 72,
     "metadata": {},
     "output_type": "execute_result"
    }
   ],
   "source": [
    "quick_brown_fox = ft_model.get_sentence_vector('quick brown fox')\n",
    "transformed_quick_brown_fox = cca_model_30.transform(np.expand_dims(quick_brown_fox,0))\n",
    "\n",
    "np.array_equal(\n",
    "    TransformAndFasttext(ft_model=ft_model, sk_model=cca_model_30).get_sentence_vector('quick brown fox'), \n",
    "    transformed_quick_brown_fox\n",
    ")"
   ]
  },
  {
   "cell_type": "code",
   "execution_count": 80,
   "id": "executive-upset",
   "metadata": {
    "ExecuteTime": {
     "end_time": "2021-04-29T16:58:39.923328Z",
     "start_time": "2021-04-29T16:58:39.908497Z"
    },
    "hidden": true
   },
   "outputs": [
    {
     "data": {
      "text/plain": [
       "True"
      ]
     },
     "execution_count": 80,
     "metadata": {},
     "output_type": "execute_result"
    }
   ],
   "source": [
    "_, transformed_moti_0 = cca_model_30.transform(np.zeros((1,300)),np.expand_dims(moti[0],axis=0))\n",
    "\n",
    "np.array_equal(\n",
    "    TransformAndFasttext(ft_model=ft_model, sk_model=cca_model_30).get_content_vector(np.expand_dims(moti[0],axis=0)),\n",
    "    transformed_moti_0\n",
    ")"
   ]
  },
  {
   "cell_type": "markdown",
   "id": "twenty-reserve",
   "metadata": {
    "heading_collapsed": true
   },
   "source": [
    "## Test transformed Fasttext space with benchmarks"
   ]
  },
  {
   "cell_type": "markdown",
   "id": "practical-nursing",
   "metadata": {
    "hidden": true
   },
   "source": [
    "### Load Gensim"
   ]
  },
  {
   "cell_type": "code",
   "execution_count": null,
   "id": "indonesian-boulder",
   "metadata": {
    "ExecuteTime": {
     "end_time": "2021-04-27T20:09:48.158908Z",
     "start_time": "2021-04-27T20:03:00.006151Z"
    },
    "hidden": true
   },
   "outputs": [],
   "source": [
    "# gensim_model = gensim.models.fasttext.load_facebook_vectors(FILES['wiki.en.bin'])\n",
    "\n",
    "## write to a gensim-native format to cut down on load times\n",
    "\n",
    "# gensim_model.save(FILES['gensim_fasttext.bin'])"
   ]
  },
  {
   "cell_type": "code",
   "execution_count": 81,
   "id": "binary-morocco",
   "metadata": {
    "ExecuteTime": {
     "end_time": "2021-04-29T16:59:31.044375Z",
     "start_time": "2021-04-29T16:59:10.290913Z"
    },
    "hidden": true
   },
   "outputs": [],
   "source": [
    "gensim_model = KeyedVectors.load(FILES['gensim_fasttext.bin'])"
   ]
  },
  {
   "cell_type": "code",
   "execution_count": 82,
   "id": "usual-denial",
   "metadata": {
    "ExecuteTime": {
     "end_time": "2021-04-29T16:59:31.111898Z",
     "start_time": "2021-04-29T16:59:31.048456Z"
    },
    "hidden": true
   },
   "outputs": [
    {
     "data": {
      "text/plain": [
       "0.6622028"
      ]
     },
     "execution_count": 82,
     "metadata": {},
     "output_type": "execute_result"
    }
   ],
   "source": [
    "gensim_model.similarity('banana','coconut')"
   ]
  },
  {
   "cell_type": "code",
   "execution_count": 83,
   "id": "protective-mount",
   "metadata": {
    "ExecuteTime": {
     "end_time": "2021-04-29T16:59:31.126244Z",
     "start_time": "2021-04-29T16:59:31.116814Z"
    },
    "hidden": true
   },
   "outputs": [
    {
     "data": {
      "text/plain": [
       "0.6622028"
      ]
     },
     "execution_count": 83,
     "metadata": {},
     "output_type": "execute_result"
    }
   ],
   "source": [
    "np.dot(gensim.matutils.unitvec(gensim_model['banana']),\n",
    "       gensim.matutils.unitvec(gensim_model['coconut']))"
   ]
  },
  {
   "cell_type": "code",
   "execution_count": 84,
   "id": "lightweight-speed",
   "metadata": {
    "ExecuteTime": {
     "end_time": "2021-04-29T16:59:31.142279Z",
     "start_time": "2021-04-29T16:59:31.130229Z"
    },
    "hidden": true
   },
   "outputs": [
    {
     "data": {
      "text/plain": [
       "0.8849729921425455"
      ]
     },
     "execution_count": 84,
     "metadata": {},
     "output_type": "execute_result"
    }
   ],
   "source": [
    "np.dot(np.squeeze(gensim.matutils.unitvec(cca_model_30.transform(np.expand_dims(gensim_model['banana'],0)))),\n",
    "       np.squeeze(gensim.matutils.unitvec(cca_model_30.transform(np.expand_dims(gensim_model['coconut'],0)))))"
   ]
  },
  {
   "cell_type": "code",
   "execution_count": 85,
   "id": "logical-gravity",
   "metadata": {
    "ExecuteTime": {
     "end_time": "2021-04-29T16:59:33.950842Z",
     "start_time": "2021-04-29T16:59:33.940145Z"
    },
    "hidden": true
   },
   "outputs": [],
   "source": [
    "def cca_similarity(gensim_model, cca_model, w1, w2):\n",
    "    \"\"\"Compute cosine similarity between two words.\n",
    "\n",
    "    Parameters\n",
    "    ----------\n",
    "    w1 : str\n",
    "        Input word.\n",
    "    w2 : str\n",
    "        Input word.\n",
    "\n",
    "    Returns\n",
    "    -------\n",
    "    float\n",
    "        Cosine similarity between `w1` and `w2`.\n",
    "\n",
    "    \"\"\"    \n",
    "\n",
    "    return np.dot(np.squeeze(gensim.matutils.unitvec(cca_model_30.transform(np.expand_dims(gensim_model[w1],0)))),\n",
    "               np.squeeze(gensim.matutils.unitvec(cca_model_30.transform(np.expand_dims(gensim_model[w2],0)))))"
   ]
  },
  {
   "cell_type": "code",
   "execution_count": 86,
   "id": "affecting-steal",
   "metadata": {
    "ExecuteTime": {
     "end_time": "2021-04-29T16:59:36.531392Z",
     "start_time": "2021-04-29T16:59:36.414167Z"
    },
    "hidden": true
   },
   "outputs": [],
   "source": [
    "def evaluate_word_pairs_cca(model, cca_model, pairs, delimiter='\\t', restrict_vocab=300000,\n",
    "                        case_insensitive=True, dummy4unknown=False):\n",
    "    original_vocab = model.vocab\n",
    "    \n",
    "    try:\n",
    "        ok_vocab = [(w, model.vocab[w]) for w in model.index2word[:restrict_vocab]]\n",
    "        ok_vocab = {w.upper(): v for w, v in reversed(ok_vocab)} if case_insensitive else dict(ok_vocab)\n",
    "\n",
    "        similarity_gold = []\n",
    "        similarity_model = []\n",
    "        oov = 0\n",
    "        \n",
    "        model.vocab = ok_vocab\n",
    "        \n",
    "        with gensim.utils.open(pairs, 'rb') as fin:\n",
    "            for line_no, line in enumerate(fin):\n",
    "                line = gensim.utils.to_unicode(line)\n",
    "                if line.startswith('#'):\n",
    "                    # May be a comment\n",
    "                    continue\n",
    "                else:\n",
    "                    try:\n",
    "                        if case_insensitive:\n",
    "                            a, b, sim = [word.upper() for word in line.split(delimiter)]\n",
    "                        else:\n",
    "                            a, b, sim = [word for word in line.split(delimiter)]\n",
    "                        sim = float(sim)\n",
    "                    except (ValueError, TypeError):\n",
    "#                         logger.info('Skipping invalid line #%d in %s', line_no, pairs)\n",
    "                        continue\n",
    "                    if a not in ok_vocab or b not in ok_vocab:\n",
    "                        oov += 1\n",
    "                        if dummy4unknown:\n",
    "#                             logger.debug('Zero similarity for line #%d with OOV words: %s', line_no, line.strip())\n",
    "                            similarity_model.append(0.0)\n",
    "                            similarity_gold.append(sim)\n",
    "                            continue\n",
    "                        else:\n",
    "#                             logger.debug('Skipping line #%d with OOV words: %s', line_no, line.strip())\n",
    "                            continue\n",
    "                    similarity_gold.append(sim)  # Similarity from the dataset\n",
    "                    similarity_model.append(cca_similarity(model, cca_model, a, b))  # Similarity from the model        \n",
    "                \n",
    "    finally:\n",
    "        model.vocab = original_vocab\n",
    "        \n",
    "    spearman = stats.spearmanr(similarity_gold, similarity_model)\n",
    "    pearson = stats.pearsonr(similarity_gold, similarity_model)\n",
    "    if dummy4unknown:\n",
    "        oov_ratio = float(oov) / len(similarity_gold) * 100\n",
    "    else:\n",
    "        oov_ratio = float(oov) / (len(similarity_gold) + oov) * 100\n",
    "\n",
    "#     logger.debug('Pearson correlation coefficient against %s: %f with p-value %f', pairs, pearson[0], pearson[1])\n",
    "#     logger.debug(\n",
    "#         'Spearman rank-order correlation coefficient against %s: %f with p-value %f',\n",
    "#         pairs, spearman[0], spearman[1]\n",
    "#     )\n",
    "#     logger.debug('Pairs with unknown words: %d', oov)\n",
    "#     self.log_evaluate_word_pairs(pearson, spearman, oov_ratio, pairs)\n",
    "    return pearson, spearman, oov_ratio"
   ]
  },
  {
   "cell_type": "code",
   "execution_count": 87,
   "id": "genetic-therapist",
   "metadata": {
    "ExecuteTime": {
     "end_time": "2021-04-29T16:59:47.544479Z",
     "start_time": "2021-04-29T16:59:42.009632Z"
    },
    "hidden": true
   },
   "outputs": [
    {
     "name": "stdout",
     "output_type": "stream",
     "text": [
      "0.0\n",
      "0.10010010010010009\n",
      "0.0\n",
      "0.10010010010010009\n",
      "0.0\n",
      "0.10010010010010009\n"
     ]
    }
   ],
   "source": [
    "embedding_tests={}\n",
    "\n",
    "embedding_tests['cca30_wordsim_pearson'],embedding_tests['cca30_wordsim_spearman'], oot = evaluate_word_pairs_cca(gensim_model, cca_model_30, datapath('wordsim353.tsv'))\n",
    "print(oot)\n",
    "\n",
    "embedding_tests['cca30_simlex_pearson'],embedding_tests['cca30_simlex_spearman'], oot  = evaluate_word_pairs_cca(gensim_model, cca_model_30, datapath('simlex999.txt'))\n",
    "print(oot)\n",
    "\n",
    "embedding_tests['ft_wordsim_pearson'],embedding_tests['ft_wordsim_spearman'], oot = gensim_model.evaluate_word_pairs(datapath('wordsim353.tsv'))\n",
    "print(oot)\n",
    "\n",
    "embedding_tests['ft_simlex_pearson'],embedding_tests['ft_simlex_spearman'], oot = gensim_model.evaluate_word_pairs(datapath('simlex999.txt'))\n",
    "print(oot)\n",
    "\n",
    "embedding_tests['cca10_wordsim_pearson'],embedding_tests['cca10_wordsim_spearman'], oot = evaluate_word_pairs_cca(gensim_model, cca_model_10, datapath('wordsim353.tsv'))\n",
    "print(oot)\n",
    "\n",
    "embedding_tests['cca10_simlex_pearson'],embedding_tests['cca10_simlex_spearman'], oot = evaluate_word_pairs_cca(gensim_model, cca_model_10, datapath('simlex999.txt'))\n",
    "print(oot)\n",
    "\n"
   ]
  },
  {
   "cell_type": "code",
   "execution_count": 88,
   "id": "received-blackberry",
   "metadata": {
    "ExecuteTime": {
     "end_time": "2021-04-29T16:59:47.559774Z",
     "start_time": "2021-04-29T16:59:47.547617Z"
    },
    "hidden": true
   },
   "outputs": [
    {
     "name": "stdout",
     "output_type": "stream",
     "text": [
      "('cca30_wordsim_pearson', (0.5828972977317846, 1.6505506953227976e-33))\n",
      "('cca30_wordsim_spearman', SpearmanrResult(correlation=0.5856087288496598, pvalue=7.063278901738242e-34))\n",
      "('cca30_simlex_pearson', (0.28730304834925974, 2.0292236748751222e-20))\n",
      "('cca30_simlex_spearman', SpearmanrResult(correlation=0.2684684053009126, pvalue=6.161992679922702e-18))\n",
      "('ft_wordsim_pearson', (0.6987674862566057, 5.237752153117423e-53))\n",
      "('ft_wordsim_spearman', SpearmanrResult(correlation=0.7388081960366618, pvalue=3.98104844873057e-62))\n",
      "('ft_simlex_pearson', (0.38691726621595274, 5.474274374454837e-37))\n",
      "('ft_simlex_spearman', SpearmanrResult(correlation=0.3822944375073409, pvalue=4.4265897336000715e-36))\n",
      "('cca10_wordsim_pearson', (0.5828972977317846, 1.6505506953227976e-33))\n",
      "('cca10_wordsim_spearman', SpearmanrResult(correlation=0.5856087288496598, pvalue=7.063278901738242e-34))\n",
      "('cca10_simlex_pearson', (0.28730304834925974, 2.0292236748751222e-20))\n",
      "('cca10_simlex_spearman', SpearmanrResult(correlation=0.2684684053009126, pvalue=6.161992679922702e-18))\n"
     ]
    }
   ],
   "source": [
    "for i in embedding_tests.items():\n",
    "    print(i)"
   ]
  },
  {
   "cell_type": "code",
   "execution_count": 89,
   "id": "green-pharmacology",
   "metadata": {
    "ExecuteTime": {
     "end_time": "2021-04-29T16:59:47.605225Z",
     "start_time": "2021-04-29T16:59:47.563048Z"
    },
    "hidden": true
   },
   "outputs": [
    {
     "data": {
      "text/html": [
       "<div>\n",
       "<style scoped>\n",
       "    .dataframe tbody tr th:only-of-type {\n",
       "        vertical-align: middle;\n",
       "    }\n",
       "\n",
       "    .dataframe tbody tr th {\n",
       "        vertical-align: top;\n",
       "    }\n",
       "\n",
       "    .dataframe thead th {\n",
       "        text-align: right;\n",
       "    }\n",
       "</style>\n",
       "<table border=\"1\" class=\"dataframe\">\n",
       "  <thead>\n",
       "    <tr style=\"text-align: right;\">\n",
       "      <th></th>\n",
       "      <th>index</th>\n",
       "      <th>variable</th>\n",
       "      <th>value</th>\n",
       "      <th>source</th>\n",
       "      <th>data</th>\n",
       "      <th>test</th>\n",
       "    </tr>\n",
       "  </thead>\n",
       "  <tbody>\n",
       "    <tr>\n",
       "      <th>0</th>\n",
       "      <td>cca30_wordsim_pearson</td>\n",
       "      <td>score</td>\n",
       "      <td>0.582897</td>\n",
       "      <td>cca30</td>\n",
       "      <td>wordsim</td>\n",
       "      <td>pearson</td>\n",
       "    </tr>\n",
       "    <tr>\n",
       "      <th>1</th>\n",
       "      <td>cca30_wordsim_spearman</td>\n",
       "      <td>score</td>\n",
       "      <td>0.585609</td>\n",
       "      <td>cca30</td>\n",
       "      <td>wordsim</td>\n",
       "      <td>spearman</td>\n",
       "    </tr>\n",
       "    <tr>\n",
       "      <th>2</th>\n",
       "      <td>cca30_simlex_pearson</td>\n",
       "      <td>score</td>\n",
       "      <td>0.287303</td>\n",
       "      <td>cca30</td>\n",
       "      <td>simlex</td>\n",
       "      <td>pearson</td>\n",
       "    </tr>\n",
       "    <tr>\n",
       "      <th>3</th>\n",
       "      <td>cca30_simlex_spearman</td>\n",
       "      <td>score</td>\n",
       "      <td>0.268468</td>\n",
       "      <td>cca30</td>\n",
       "      <td>simlex</td>\n",
       "      <td>spearman</td>\n",
       "    </tr>\n",
       "    <tr>\n",
       "      <th>4</th>\n",
       "      <td>ft_wordsim_pearson</td>\n",
       "      <td>score</td>\n",
       "      <td>0.698767</td>\n",
       "      <td>ft</td>\n",
       "      <td>wordsim</td>\n",
       "      <td>pearson</td>\n",
       "    </tr>\n",
       "    <tr>\n",
       "      <th>5</th>\n",
       "      <td>ft_wordsim_spearman</td>\n",
       "      <td>score</td>\n",
       "      <td>0.738808</td>\n",
       "      <td>ft</td>\n",
       "      <td>wordsim</td>\n",
       "      <td>spearman</td>\n",
       "    </tr>\n",
       "    <tr>\n",
       "      <th>6</th>\n",
       "      <td>ft_simlex_pearson</td>\n",
       "      <td>score</td>\n",
       "      <td>0.386917</td>\n",
       "      <td>ft</td>\n",
       "      <td>simlex</td>\n",
       "      <td>pearson</td>\n",
       "    </tr>\n",
       "    <tr>\n",
       "      <th>7</th>\n",
       "      <td>ft_simlex_spearman</td>\n",
       "      <td>score</td>\n",
       "      <td>0.382294</td>\n",
       "      <td>ft</td>\n",
       "      <td>simlex</td>\n",
       "      <td>spearman</td>\n",
       "    </tr>\n",
       "    <tr>\n",
       "      <th>8</th>\n",
       "      <td>cca10_wordsim_pearson</td>\n",
       "      <td>score</td>\n",
       "      <td>0.582897</td>\n",
       "      <td>cca10</td>\n",
       "      <td>wordsim</td>\n",
       "      <td>pearson</td>\n",
       "    </tr>\n",
       "    <tr>\n",
       "      <th>9</th>\n",
       "      <td>cca10_wordsim_spearman</td>\n",
       "      <td>score</td>\n",
       "      <td>0.585609</td>\n",
       "      <td>cca10</td>\n",
       "      <td>wordsim</td>\n",
       "      <td>spearman</td>\n",
       "    </tr>\n",
       "    <tr>\n",
       "      <th>10</th>\n",
       "      <td>cca10_simlex_pearson</td>\n",
       "      <td>score</td>\n",
       "      <td>0.287303</td>\n",
       "      <td>cca10</td>\n",
       "      <td>simlex</td>\n",
       "      <td>pearson</td>\n",
       "    </tr>\n",
       "    <tr>\n",
       "      <th>11</th>\n",
       "      <td>cca10_simlex_spearman</td>\n",
       "      <td>score</td>\n",
       "      <td>0.268468</td>\n",
       "      <td>cca10</td>\n",
       "      <td>simlex</td>\n",
       "      <td>spearman</td>\n",
       "    </tr>\n",
       "  </tbody>\n",
       "</table>\n",
       "</div>"
      ],
      "text/plain": [
       "                     index variable     value source     data      test\n",
       "0    cca30_wordsim_pearson    score  0.582897  cca30  wordsim   pearson\n",
       "1   cca30_wordsim_spearman    score  0.585609  cca30  wordsim  spearman\n",
       "2     cca30_simlex_pearson    score  0.287303  cca30   simlex   pearson\n",
       "3    cca30_simlex_spearman    score  0.268468  cca30   simlex  spearman\n",
       "4       ft_wordsim_pearson    score  0.698767     ft  wordsim   pearson\n",
       "5      ft_wordsim_spearman    score  0.738808     ft  wordsim  spearman\n",
       "6        ft_simlex_pearson    score  0.386917     ft   simlex   pearson\n",
       "7       ft_simlex_spearman    score  0.382294     ft   simlex  spearman\n",
       "8    cca10_wordsim_pearson    score  0.582897  cca10  wordsim   pearson\n",
       "9   cca10_wordsim_spearman    score  0.585609  cca10  wordsim  spearman\n",
       "10    cca10_simlex_pearson    score  0.287303  cca10   simlex   pearson\n",
       "11   cca10_simlex_spearman    score  0.268468  cca10   simlex  spearman"
      ]
     },
     "execution_count": 89,
     "metadata": {},
     "output_type": "execute_result"
    }
   ],
   "source": [
    "word_pairs_df = (\n",
    "    pd.DataFrame(embedding_tests)\n",
    "    .transpose()\n",
    "    .rename(columns={0:'score',1:'p'})\n",
    "    .reset_index()\n",
    "    .pipe(lambda x: pd.melt(x, id_vars='index'))\n",
    "    .assign(source = lambda x: x['index'].str.split('_',expand=True)[0],\n",
    "           data = lambda x: x['index'].str.split('_',expand=True)[1],\n",
    "           test = lambda x: x['index'].str.split('_',expand=True)[2])\n",
    "    .query('variable == \"score\"')\n",
    ")\n",
    "\n",
    "word_pairs_df"
   ]
  },
  {
   "cell_type": "code",
   "execution_count": 90,
   "id": "allied-basic",
   "metadata": {
    "ExecuteTime": {
     "end_time": "2021-04-29T16:59:48.535792Z",
     "start_time": "2021-04-29T16:59:47.608698Z"
    },
    "hidden": true
   },
   "outputs": [
    {
     "data": {
      "image/png": "[encoded data removed]",
      "text/plain": [
       "<Figure size 640x480 with 2 Axes>"
      ]
     },
     "metadata": {},
     "output_type": "display_data"
    },
    {
     "data": {
      "text/plain": [
       "<ggplot: (8749609064225)>"
      ]
     },
     "execution_count": 90,
     "metadata": {},
     "output_type": "execute_result"
    }
   ],
   "source": [
    "(\n",
    "    ggplot(word_pairs_df, aes(x='data',y='value',fill='source')) \n",
    "    + geom_bar(stat='identity',position='dodge') \n",
    "    + facet_wrap('test')\n",
    "    + ggtitle(\"Correlation tests, Wordsim-6535 and SimLex-999\")\n",
    "    + labs(x='',y='ρ (higher is better)')\n",
    ")"
   ]
  },
  {
   "cell_type": "markdown",
   "id": "moving-fault",
   "metadata": {},
   "source": [
    "## Self-distance tests"
   ]
  },
  {
   "cell_type": "code",
   "execution_count": 117,
   "id": "responsible-forum",
   "metadata": {
    "ExecuteTime": {
     "end_time": "2021-04-29T17:34:57.037989Z",
     "start_time": "2021-04-29T17:34:57.011855Z"
    }
   },
   "outputs": [],
   "source": [
    "distance_dfs = {}\n",
    "\n",
    "column_transformers = {}"
   ]
  },
  {
   "cell_type": "markdown",
   "id": "genuine-baking",
   "metadata": {},
   "source": [
    "### Pure fasttext"
   ]
  },
  {
   "cell_type": "code",
   "execution_count": 118,
   "id": "racial-guitar",
   "metadata": {
    "ExecuteTime": {
     "end_time": "2021-04-29T17:34:59.971681Z",
     "start_time": "2021-04-29T17:34:59.911557Z"
    }
   },
   "outputs": [
    {
     "data": {
      "text/html": [
       "<div>\n",
       "<style scoped>\n",
       "    .dataframe tbody tr th:only-of-type {\n",
       "        vertical-align: middle;\n",
       "    }\n",
       "\n",
       "    .dataframe tbody tr th {\n",
       "        vertical-align: top;\n",
       "    }\n",
       "\n",
       "    .dataframe thead th {\n",
       "        text-align: right;\n",
       "    }\n",
       "</style>\n",
       "<table border=\"1\" class=\"dataframe\">\n",
       "  <thead>\n",
       "    <tr style=\"text-align: right;\">\n",
       "      <th></th>\n",
       "      <th>interest_type_id</th>\n",
       "      <th>interest_id</th>\n",
       "      <th>entity_id</th>\n",
       "      <th>descr</th>\n",
       "      <th>summary</th>\n",
       "      <th>domains</th>\n",
       "      <th>content_id</th>\n",
       "      <th>n_url</th>\n",
       "      <th>keywords_json</th>\n",
       "      <th>keyword_list</th>\n",
       "    </tr>\n",
       "  </thead>\n",
       "  <tbody>\n",
       "    <tr>\n",
       "      <th>2</th>\n",
       "      <td>112</td>\n",
       "      <td>11655</td>\n",
       "      <td>40981</td>\n",
       "      <td>Assorted Topics (This Audience Are Interested ...</td>\n",
       "      <td>People in this audience are interested in abbr...</td>\n",
       "      <td>[usingenglish.com, militaryfactory.com, online...</td>\n",
       "      <td>[d7x, my3s, u5u2, 1o3d4, kre2, 15d3i, unb1, u7...</td>\n",
       "      <td>1426</td>\n",
       "      <td>{\"cell\": 87, \"formula\": 72, \"cell range\": 48, ...</td>\n",
       "      <td>[cell, formula, cell range, array formula, exc...</td>\n",
       "    </tr>\n",
       "    <tr>\n",
       "      <th>4</th>\n",
       "      <td>112</td>\n",
       "      <td>11401</td>\n",
       "      <td>40727</td>\n",
       "      <td>Vermont Cluster</td>\n",
       "      <td>People in this audience are interested in a va...</td>\n",
       "      <td>[sevendaysvt.com, dailygazette.com, wwnytv.com...</td>\n",
       "      <td>[w68c, ssg4, epcs, fz2d, 10d5y, 1ggqg, cj9e, 1...</td>\n",
       "      <td>4642</td>\n",
       "      <td>{\"new hampshire\": 351, \"covid-19\": 345, \"polic...</td>\n",
       "      <td>[new hampshire, covid-19, police, haverhill, t...</td>\n",
       "    </tr>\n",
       "    <tr>\n",
       "      <th>6</th>\n",
       "      <td>110</td>\n",
       "      <td>6124</td>\n",
       "      <td>26055</td>\n",
       "      <td>Cloud Storage Provider Researchers</td>\n",
       "      <td>Consumers researching and comparing cloud stor...</td>\n",
       "      <td>[linuxgizmos.com, nakkheeran.in, esmagazine.co...</td>\n",
       "      <td>[emh2, o1ge, 1onmb, fglw, 1o7a8, s70o, 1h0sc, ...</td>\n",
       "      <td>352</td>\n",
       "      <td>{\"nvidia\": 27, \"intel\": 21, \"usb\": 15, \"fierce...</td>\n",
       "      <td>[nvidia, intel, usb, fiercetelecom, cookies, m...</td>\n",
       "    </tr>\n",
       "  </tbody>\n",
       "</table>\n",
       "</div>"
      ],
      "text/plain": [
       "   interest_type_id  interest_id  entity_id  \\\n",
       "2               112        11655      40981   \n",
       "4               112        11401      40727   \n",
       "6               110         6124      26055   \n",
       "\n",
       "                                               descr  \\\n",
       "2  Assorted Topics (This Audience Are Interested ...   \n",
       "4                                    Vermont Cluster   \n",
       "6                 Cloud Storage Provider Researchers   \n",
       "\n",
       "                                             summary  \\\n",
       "2  People in this audience are interested in abbr...   \n",
       "4  People in this audience are interested in a va...   \n",
       "6  Consumers researching and comparing cloud stor...   \n",
       "\n",
       "                                             domains  \\\n",
       "2  [usingenglish.com, militaryfactory.com, online...   \n",
       "4  [sevendaysvt.com, dailygazette.com, wwnytv.com...   \n",
       "6  [linuxgizmos.com, nakkheeran.in, esmagazine.co...   \n",
       "\n",
       "                                          content_id  n_url  \\\n",
       "2  [d7x, my3s, u5u2, 1o3d4, kre2, 15d3i, unb1, u7...   1426   \n",
       "4  [w68c, ssg4, epcs, fz2d, 10d5y, 1ggqg, cj9e, 1...   4642   \n",
       "6  [emh2, o1ge, 1onmb, fglw, 1o7a8, s70o, 1h0sc, ...    352   \n",
       "\n",
       "                                       keywords_json  \\\n",
       "2  {\"cell\": 87, \"formula\": 72, \"cell range\": 48, ...   \n",
       "4  {\"new hampshire\": 351, \"covid-19\": 345, \"polic...   \n",
       "6  {\"nvidia\": 27, \"intel\": 21, \"usb\": 15, \"fierce...   \n",
       "\n",
       "                                        keyword_list  \n",
       "2  [cell, formula, cell range, array formula, exc...  \n",
       "4  [new hampshire, covid-19, police, haverhill, t...  \n",
       "6  [nvidia, intel, usb, fiercetelecom, cookies, m...  "
      ]
     },
     "execution_count": 118,
     "metadata": {},
     "output_type": "execute_result"
    }
   ],
   "source": [
    "distance_dfs['Fasttext Keywords'] = adv_cont_keywords_df.copy().query('interest_id.isin(@common_audiences_list)')\n",
    "\n",
    "distance_dfs['Fasttext Keywords'].head(n=3)"
   ]
  },
  {
   "cell_type": "code",
   "execution_count": 119,
   "id": "activated-contract",
   "metadata": {
    "ExecuteTime": {
     "end_time": "2021-04-29T17:35:10.919711Z",
     "start_time": "2021-04-29T17:35:03.727018Z"
    }
   },
   "outputs": [],
   "source": [
    "column_transformers['Fasttext Keywords'] = ColumnComparison(basis_text   =distance_dfs['Fasttext Keywords']['descr'],\n",
    "                                                            compare_text =distance_dfs['Fasttext Keywords']['keyword_list'].apply(lambda x: ' '.join(x)),\n",
    "                                                            model        =ft_model)"
   ]
  },
  {
   "cell_type": "code",
   "execution_count": 120,
   "id": "noble-minimum",
   "metadata": {
    "ExecuteTime": {
     "end_time": "2021-04-29T17:35:12.262590Z",
     "start_time": "2021-04-29T17:35:10.922982Z"
    }
   },
   "outputs": [
    {
     "data": {
      "text/html": [
       "<div>\n",
       "<style scoped>\n",
       "    .dataframe tbody tr th:only-of-type {\n",
       "        vertical-align: middle;\n",
       "    }\n",
       "\n",
       "    .dataframe tbody tr th {\n",
       "        vertical-align: top;\n",
       "    }\n",
       "\n",
       "    .dataframe thead th {\n",
       "        text-align: right;\n",
       "    }\n",
       "</style>\n",
       "<table border=\"1\" class=\"dataframe\">\n",
       "  <thead>\n",
       "    <tr style=\"text-align: right;\">\n",
       "      <th></th>\n",
       "      <th>interest_type_id</th>\n",
       "      <th>interest_id</th>\n",
       "      <th>entity_id</th>\n",
       "      <th>descr</th>\n",
       "      <th>summary</th>\n",
       "      <th>domains</th>\n",
       "      <th>content_id</th>\n",
       "      <th>n_url</th>\n",
       "      <th>keywords_json</th>\n",
       "      <th>keyword_list</th>\n",
       "      <th>self_distance</th>\n",
       "      <th>closest_to_name_dist</th>\n",
       "      <th>best_keywords</th>\n",
       "      <th>best_interest_name</th>\n",
       "      <th>self_search_rank</th>\n",
       "    </tr>\n",
       "  </thead>\n",
       "  <tbody>\n",
       "    <tr>\n",
       "      <th>2</th>\n",
       "      <td>112</td>\n",
       "      <td>11655</td>\n",
       "      <td>40981</td>\n",
       "      <td>Assorted Topics (This Audience Are Interested ...</td>\n",
       "      <td>People in this audience are interested in abbr...</td>\n",
       "      <td>[usingenglish.com, militaryfactory.com, online...</td>\n",
       "      <td>[d7x, my3s, u5u2, 1o3d4, kre2, 15d3i, unb1, u7...</td>\n",
       "      <td>1426</td>\n",
       "      <td>{\"cell\": 87, \"formula\": 72, \"cell range\": 48, ...</td>\n",
       "      <td>[cell, formula, cell range, array formula, exc...</td>\n",
       "      <td>0.263239</td>\n",
       "      <td>0.215517</td>\n",
       "      <td>project excel apqc template charter project ma...</td>\n",
       "      <td>Assorted Topics (Weather, Movie Studios, Peopl...</td>\n",
       "      <td>4.0</td>\n",
       "    </tr>\n",
       "    <tr>\n",
       "      <th>4</th>\n",
       "      <td>112</td>\n",
       "      <td>11401</td>\n",
       "      <td>40727</td>\n",
       "      <td>Vermont Cluster</td>\n",
       "      <td>People in this audience are interested in a va...</td>\n",
       "      <td>[sevendaysvt.com, dailygazette.com, wwnytv.com...</td>\n",
       "      <td>[w68c, ssg4, epcs, fz2d, 10d5y, 1ggqg, cj9e, 1...</td>\n",
       "      <td>4642</td>\n",
       "      <td>{\"new hampshire\": 351, \"covid-19\": 345, \"polic...</td>\n",
       "      <td>[new hampshire, covid-19, police, haverhill, t...</td>\n",
       "      <td>0.483111</td>\n",
       "      <td>0.398884</td>\n",
       "      <td>paris pageoptions france enquiry pr parisbytra...</td>\n",
       "      <td>Washington County and Local Fair Visitors</td>\n",
       "      <td>794.0</td>\n",
       "    </tr>\n",
       "    <tr>\n",
       "      <th>6</th>\n",
       "      <td>110</td>\n",
       "      <td>6124</td>\n",
       "      <td>26055</td>\n",
       "      <td>Cloud Storage Provider Researchers</td>\n",
       "      <td>Consumers researching and comparing cloud stor...</td>\n",
       "      <td>[linuxgizmos.com, nakkheeran.in, esmagazine.co...</td>\n",
       "      <td>[emh2, o1ge, 1onmb, fglw, 1o7a8, s70o, 1h0sc, ...</td>\n",
       "      <td>352</td>\n",
       "      <td>{\"nvidia\": 27, \"intel\": 21, \"usb\": 15, \"fierce...</td>\n",
       "      <td>[nvidia, intel, usb, fiercetelecom, cookies, m...</td>\n",
       "      <td>0.344463</td>\n",
       "      <td>0.312387</td>\n",
       "      <td>partners cloud-like solutions malware iso chan...</td>\n",
       "      <td>Computer Processor and Data Center Decision Ma...</td>\n",
       "      <td>109.0</td>\n",
       "    </tr>\n",
       "  </tbody>\n",
       "</table>\n",
       "</div>"
      ],
      "text/plain": [
       "   interest_type_id  interest_id  entity_id  \\\n",
       "2               112        11655      40981   \n",
       "4               112        11401      40727   \n",
       "6               110         6124      26055   \n",
       "\n",
       "                                               descr  \\\n",
       "2  Assorted Topics (This Audience Are Interested ...   \n",
       "4                                    Vermont Cluster   \n",
       "6                 Cloud Storage Provider Researchers   \n",
       "\n",
       "                                             summary  \\\n",
       "2  People in this audience are interested in abbr...   \n",
       "4  People in this audience are interested in a va...   \n",
       "6  Consumers researching and comparing cloud stor...   \n",
       "\n",
       "                                             domains  \\\n",
       "2  [usingenglish.com, militaryfactory.com, online...   \n",
       "4  [sevendaysvt.com, dailygazette.com, wwnytv.com...   \n",
       "6  [linuxgizmos.com, nakkheeran.in, esmagazine.co...   \n",
       "\n",
       "                                          content_id  n_url  \\\n",
       "2  [d7x, my3s, u5u2, 1o3d4, kre2, 15d3i, unb1, u7...   1426   \n",
       "4  [w68c, ssg4, epcs, fz2d, 10d5y, 1ggqg, cj9e, 1...   4642   \n",
       "6  [emh2, o1ge, 1onmb, fglw, 1o7a8, s70o, 1h0sc, ...    352   \n",
       "\n",
       "                                       keywords_json  \\\n",
       "2  {\"cell\": 87, \"formula\": 72, \"cell range\": 48, ...   \n",
       "4  {\"new hampshire\": 351, \"covid-19\": 345, \"polic...   \n",
       "6  {\"nvidia\": 27, \"intel\": 21, \"usb\": 15, \"fierce...   \n",
       "\n",
       "                                        keyword_list  self_distance  \\\n",
       "2  [cell, formula, cell range, array formula, exc...       0.263239   \n",
       "4  [new hampshire, covid-19, police, haverhill, t...       0.483111   \n",
       "6  [nvidia, intel, usb, fiercetelecom, cookies, m...       0.344463   \n",
       "\n",
       "   closest_to_name_dist                                      best_keywords  \\\n",
       "2              0.215517  project excel apqc template charter project ma...   \n",
       "4              0.398884  paris pageoptions france enquiry pr parisbytra...   \n",
       "6              0.312387  partners cloud-like solutions malware iso chan...   \n",
       "\n",
       "                                  best_interest_name  self_search_rank  \n",
       "2  Assorted Topics (Weather, Movie Studios, Peopl...               4.0  \n",
       "4          Washington County and Local Fair Visitors             794.0  \n",
       "6  Computer Processor and Data Center Decision Ma...             109.0  "
      ]
     },
     "execution_count": 120,
     "metadata": {},
     "output_type": "execute_result"
    }
   ],
   "source": [
    "distance_dfs['Fasttext Keywords'].loc[:,'self_distance']        = column_transformers['Fasttext Keywords'].self_distance\n",
    "distance_dfs['Fasttext Keywords'].loc[:,'closest_to_name_dist'] = column_transformers['Fasttext Keywords'].best_basis_compare_distance\n",
    "distance_dfs['Fasttext Keywords'].loc[:,'best_keywords']        = column_transformers['Fasttext Keywords'].best_compare_for_basis\n",
    "distance_dfs['Fasttext Keywords'].loc[:,'best_interest_name']   = column_transformers['Fasttext Keywords'].basis_of_best_compare\n",
    "distance_dfs['Fasttext Keywords'].loc[:,'self_search_rank']     = column_transformers['Fasttext Keywords'].basis_self_rank\n",
    "\n",
    "distance_dfs['Fasttext Keywords'].head(n=3)"
   ]
  },
  {
   "cell_type": "markdown",
   "id": "retained-classroom",
   "metadata": {},
   "source": [
    "### Fasttext + cca transform"
   ]
  },
  {
   "cell_type": "code",
   "execution_count": 121,
   "id": "perceived-samuel",
   "metadata": {
    "ExecuteTime": {
     "end_time": "2021-04-29T17:40:50.608613Z",
     "start_time": "2021-04-29T17:40:50.540473Z"
    }
   },
   "outputs": [
    {
     "data": {
      "text/html": [
       "<div>\n",
       "<style scoped>\n",
       "    .dataframe tbody tr th:only-of-type {\n",
       "        vertical-align: middle;\n",
       "    }\n",
       "\n",
       "    .dataframe tbody tr th {\n",
       "        vertical-align: top;\n",
       "    }\n",
       "\n",
       "    .dataframe thead th {\n",
       "        text-align: right;\n",
       "    }\n",
       "</style>\n",
       "<table border=\"1\" class=\"dataframe\">\n",
       "  <thead>\n",
       "    <tr style=\"text-align: right;\">\n",
       "      <th></th>\n",
       "      <th>interest_type_id</th>\n",
       "      <th>interest_id</th>\n",
       "      <th>entity_id</th>\n",
       "      <th>descr</th>\n",
       "      <th>summary</th>\n",
       "      <th>domains</th>\n",
       "      <th>content_id</th>\n",
       "      <th>n_url</th>\n",
       "      <th>keywords_json</th>\n",
       "      <th>keyword_list</th>\n",
       "    </tr>\n",
       "  </thead>\n",
       "  <tbody>\n",
       "    <tr>\n",
       "      <th>2</th>\n",
       "      <td>112</td>\n",
       "      <td>11655</td>\n",
       "      <td>40981</td>\n",
       "      <td>Assorted Topics (This Audience Are Interested ...</td>\n",
       "      <td>People in this audience are interested in abbr...</td>\n",
       "      <td>[usingenglish.com, militaryfactory.com, online...</td>\n",
       "      <td>[d7x, my3s, u5u2, 1o3d4, kre2, 15d3i, unb1, u7...</td>\n",
       "      <td>1426</td>\n",
       "      <td>{\"cell\": 87, \"formula\": 72, \"cell range\": 48, ...</td>\n",
       "      <td>[cell, formula, cell range, array formula, exc...</td>\n",
       "    </tr>\n",
       "    <tr>\n",
       "      <th>4</th>\n",
       "      <td>112</td>\n",
       "      <td>11401</td>\n",
       "      <td>40727</td>\n",
       "      <td>Vermont Cluster</td>\n",
       "      <td>People in this audience are interested in a va...</td>\n",
       "      <td>[sevendaysvt.com, dailygazette.com, wwnytv.com...</td>\n",
       "      <td>[w68c, ssg4, epcs, fz2d, 10d5y, 1ggqg, cj9e, 1...</td>\n",
       "      <td>4642</td>\n",
       "      <td>{\"new hampshire\": 351, \"covid-19\": 345, \"polic...</td>\n",
       "      <td>[new hampshire, covid-19, police, haverhill, t...</td>\n",
       "    </tr>\n",
       "    <tr>\n",
       "      <th>6</th>\n",
       "      <td>110</td>\n",
       "      <td>6124</td>\n",
       "      <td>26055</td>\n",
       "      <td>Cloud Storage Provider Researchers</td>\n",
       "      <td>Consumers researching and comparing cloud stor...</td>\n",
       "      <td>[linuxgizmos.com, nakkheeran.in, esmagazine.co...</td>\n",
       "      <td>[emh2, o1ge, 1onmb, fglw, 1o7a8, s70o, 1h0sc, ...</td>\n",
       "      <td>352</td>\n",
       "      <td>{\"nvidia\": 27, \"intel\": 21, \"usb\": 15, \"fierce...</td>\n",
       "      <td>[nvidia, intel, usb, fiercetelecom, cookies, m...</td>\n",
       "    </tr>\n",
       "  </tbody>\n",
       "</table>\n",
       "</div>"
      ],
      "text/plain": [
       "   interest_type_id  interest_id  entity_id  \\\n",
       "2               112        11655      40981   \n",
       "4               112        11401      40727   \n",
       "6               110         6124      26055   \n",
       "\n",
       "                                               descr  \\\n",
       "2  Assorted Topics (This Audience Are Interested ...   \n",
       "4                                    Vermont Cluster   \n",
       "6                 Cloud Storage Provider Researchers   \n",
       "\n",
       "                                             summary  \\\n",
       "2  People in this audience are interested in abbr...   \n",
       "4  People in this audience are interested in a va...   \n",
       "6  Consumers researching and comparing cloud stor...   \n",
       "\n",
       "                                             domains  \\\n",
       "2  [usingenglish.com, militaryfactory.com, online...   \n",
       "4  [sevendaysvt.com, dailygazette.com, wwnytv.com...   \n",
       "6  [linuxgizmos.com, nakkheeran.in, esmagazine.co...   \n",
       "\n",
       "                                          content_id  n_url  \\\n",
       "2  [d7x, my3s, u5u2, 1o3d4, kre2, 15d3i, unb1, u7...   1426   \n",
       "4  [w68c, ssg4, epcs, fz2d, 10d5y, 1ggqg, cj9e, 1...   4642   \n",
       "6  [emh2, o1ge, 1onmb, fglw, 1o7a8, s70o, 1h0sc, ...    352   \n",
       "\n",
       "                                       keywords_json  \\\n",
       "2  {\"cell\": 87, \"formula\": 72, \"cell range\": 48, ...   \n",
       "4  {\"new hampshire\": 351, \"covid-19\": 345, \"polic...   \n",
       "6  {\"nvidia\": 27, \"intel\": 21, \"usb\": 15, \"fierce...   \n",
       "\n",
       "                                        keyword_list  \n",
       "2  [cell, formula, cell range, array formula, exc...  \n",
       "4  [new hampshire, covid-19, police, haverhill, t...  \n",
       "6  [nvidia, intel, usb, fiercetelecom, cookies, m...  "
      ]
     },
     "execution_count": 121,
     "metadata": {},
     "output_type": "execute_result"
    }
   ],
   "source": [
    "distance_dfs['CCA-Fasttext Keywords'] = adv_cont_keywords_df.copy().query('interest_id.isin(@common_audiences_list)')\n",
    "\n",
    "distance_dfs['CCA-Fasttext Keywords'].head(n=3)"
   ]
  },
  {
   "cell_type": "code",
   "execution_count": 122,
   "id": "optical-uruguay",
   "metadata": {
    "ExecuteTime": {
     "end_time": "2021-04-29T17:41:20.548100Z",
     "start_time": "2021-04-29T17:41:12.885191Z"
    }
   },
   "outputs": [],
   "source": [
    "cca_transform_model30 = TransformAndFasttext(ft_model=ft_model, sk_model=cca_model_30)\n",
    "\n",
    "column_transformers['CCA-Fasttext Keywords'] = ColumnComparison(basis_text   =distance_dfs['CCA-Fasttext Keywords']['descr'],\n",
    "                                                                compare_text =distance_dfs['CCA-Fasttext Keywords']['keyword_list'].apply(lambda x: ' '.join(x)),\n",
    "                                                                model        =cca_transform_model30)"
   ]
  },
  {
   "cell_type": "code",
   "execution_count": 123,
   "id": "cosmetic-lancaster",
   "metadata": {
    "ExecuteTime": {
     "end_time": "2021-04-29T17:41:21.636180Z",
     "start_time": "2021-04-29T17:41:20.552156Z"
    },
    "scrolled": true
   },
   "outputs": [
    {
     "data": {
      "text/html": [
       "<div>\n",
       "<style scoped>\n",
       "    .dataframe tbody tr th:only-of-type {\n",
       "        vertical-align: middle;\n",
       "    }\n",
       "\n",
       "    .dataframe tbody tr th {\n",
       "        vertical-align: top;\n",
       "    }\n",
       "\n",
       "    .dataframe thead th {\n",
       "        text-align: right;\n",
       "    }\n",
       "</style>\n",
       "<table border=\"1\" class=\"dataframe\">\n",
       "  <thead>\n",
       "    <tr style=\"text-align: right;\">\n",
       "      <th></th>\n",
       "      <th>interest_type_id</th>\n",
       "      <th>interest_id</th>\n",
       "      <th>entity_id</th>\n",
       "      <th>descr</th>\n",
       "      <th>summary</th>\n",
       "      <th>domains</th>\n",
       "      <th>content_id</th>\n",
       "      <th>n_url</th>\n",
       "      <th>keywords_json</th>\n",
       "      <th>keyword_list</th>\n",
       "      <th>self_distance</th>\n",
       "      <th>closest_to_name_dist</th>\n",
       "      <th>best_keywords</th>\n",
       "      <th>best_interest_name</th>\n",
       "      <th>self_search_rank</th>\n",
       "    </tr>\n",
       "  </thead>\n",
       "  <tbody>\n",
       "    <tr>\n",
       "      <th>2</th>\n",
       "      <td>112</td>\n",
       "      <td>11655</td>\n",
       "      <td>40981</td>\n",
       "      <td>Assorted Topics (This Audience Are Interested ...</td>\n",
       "      <td>People in this audience are interested in abbr...</td>\n",
       "      <td>[usingenglish.com, militaryfactory.com, online...</td>\n",
       "      <td>[d7x, my3s, u5u2, 1o3d4, kre2, 15d3i, unb1, u7...</td>\n",
       "      <td>1426</td>\n",
       "      <td>{\"cell\": 87, \"formula\": 72, \"cell range\": 48, ...</td>\n",
       "      <td>[cell, formula, cell range, array formula, exc...</td>\n",
       "      <td>0.251577</td>\n",
       "      <td>0.166249</td>\n",
       "      <td>project excel apqc template charter project ma...</td>\n",
       "      <td>Assorted Topics (Software Integration, Scrabbl...</td>\n",
       "      <td>4.0</td>\n",
       "    </tr>\n",
       "    <tr>\n",
       "      <th>4</th>\n",
       "      <td>112</td>\n",
       "      <td>11401</td>\n",
       "      <td>40727</td>\n",
       "      <td>Vermont Cluster</td>\n",
       "      <td>People in this audience are interested in a va...</td>\n",
       "      <td>[sevendaysvt.com, dailygazette.com, wwnytv.com...</td>\n",
       "      <td>[w68c, ssg4, epcs, fz2d, 10d5y, 1ggqg, cj9e, 1...</td>\n",
       "      <td>4642</td>\n",
       "      <td>{\"new hampshire\": 351, \"covid-19\": 345, \"polic...</td>\n",
       "      <td>[new hampshire, covid-19, police, haverhill, t...</td>\n",
       "      <td>0.868288</td>\n",
       "      <td>0.547738</td>\n",
       "      <td>revision member details server minecraft thema...</td>\n",
       "      <td>Federal Employees</td>\n",
       "      <td>482.0</td>\n",
       "    </tr>\n",
       "    <tr>\n",
       "      <th>6</th>\n",
       "      <td>110</td>\n",
       "      <td>6124</td>\n",
       "      <td>26055</td>\n",
       "      <td>Cloud Storage Provider Researchers</td>\n",
       "      <td>Consumers researching and comparing cloud stor...</td>\n",
       "      <td>[linuxgizmos.com, nakkheeran.in, esmagazine.co...</td>\n",
       "      <td>[emh2, o1ge, 1onmb, fglw, 1o7a8, s70o, 1h0sc, ...</td>\n",
       "      <td>352</td>\n",
       "      <td>{\"nvidia\": 27, \"intel\": 21, \"usb\": 15, \"fierce...</td>\n",
       "      <td>[nvidia, intel, usb, fiercetelecom, cookies, m...</td>\n",
       "      <td>0.408416</td>\n",
       "      <td>0.408416</td>\n",
       "      <td>nvidia intel usb fiercetelecom cookies mirrorl...</td>\n",
       "      <td>Computers</td>\n",
       "      <td>47.0</td>\n",
       "    </tr>\n",
       "  </tbody>\n",
       "</table>\n",
       "</div>"
      ],
      "text/plain": [
       "   interest_type_id  interest_id  entity_id  \\\n",
       "2               112        11655      40981   \n",
       "4               112        11401      40727   \n",
       "6               110         6124      26055   \n",
       "\n",
       "                                               descr  \\\n",
       "2  Assorted Topics (This Audience Are Interested ...   \n",
       "4                                    Vermont Cluster   \n",
       "6                 Cloud Storage Provider Researchers   \n",
       "\n",
       "                                             summary  \\\n",
       "2  People in this audience are interested in abbr...   \n",
       "4  People in this audience are interested in a va...   \n",
       "6  Consumers researching and comparing cloud stor...   \n",
       "\n",
       "                                             domains  \\\n",
       "2  [usingenglish.com, militaryfactory.com, online...   \n",
       "4  [sevendaysvt.com, dailygazette.com, wwnytv.com...   \n",
       "6  [linuxgizmos.com, nakkheeran.in, esmagazine.co...   \n",
       "\n",
       "                                          content_id  n_url  \\\n",
       "2  [d7x, my3s, u5u2, 1o3d4, kre2, 15d3i, unb1, u7...   1426   \n",
       "4  [w68c, ssg4, epcs, fz2d, 10d5y, 1ggqg, cj9e, 1...   4642   \n",
       "6  [emh2, o1ge, 1onmb, fglw, 1o7a8, s70o, 1h0sc, ...    352   \n",
       "\n",
       "                                       keywords_json  \\\n",
       "2  {\"cell\": 87, \"formula\": 72, \"cell range\": 48, ...   \n",
       "4  {\"new hampshire\": 351, \"covid-19\": 345, \"polic...   \n",
       "6  {\"nvidia\": 27, \"intel\": 21, \"usb\": 15, \"fierce...   \n",
       "\n",
       "                                        keyword_list  self_distance  \\\n",
       "2  [cell, formula, cell range, array formula, exc...       0.251577   \n",
       "4  [new hampshire, covid-19, police, haverhill, t...       0.868288   \n",
       "6  [nvidia, intel, usb, fiercetelecom, cookies, m...       0.408416   \n",
       "\n",
       "   closest_to_name_dist                                      best_keywords  \\\n",
       "2              0.166249  project excel apqc template charter project ma...   \n",
       "4              0.547738  revision member details server minecraft thema...   \n",
       "6              0.408416  nvidia intel usb fiercetelecom cookies mirrorl...   \n",
       "\n",
       "                                  best_interest_name  self_search_rank  \n",
       "2  Assorted Topics (Software Integration, Scrabbl...               4.0  \n",
       "4                                  Federal Employees             482.0  \n",
       "6                                          Computers              47.0  "
      ]
     },
     "execution_count": 123,
     "metadata": {},
     "output_type": "execute_result"
    }
   ],
   "source": [
    "distance_dfs['CCA-Fasttext Keywords'].loc[:,'self_distance']        = column_transformers['CCA-Fasttext Keywords'].self_distance\n",
    "distance_dfs['CCA-Fasttext Keywords'].loc[:,'closest_to_name_dist'] = column_transformers['CCA-Fasttext Keywords'].best_basis_compare_distance\n",
    "distance_dfs['CCA-Fasttext Keywords'].loc[:,'best_keywords']        = column_transformers['CCA-Fasttext Keywords'].best_compare_for_basis\n",
    "distance_dfs['CCA-Fasttext Keywords'].loc[:,'best_interest_name']   = column_transformers['CCA-Fasttext Keywords'].basis_of_best_compare\n",
    "distance_dfs['CCA-Fasttext Keywords'].loc[:,'self_search_rank']     = column_transformers['CCA-Fasttext Keywords'].basis_self_rank\n",
    "\n",
    "distance_dfs['CCA-Fasttext Keywords'].head(n=3)"
   ]
  },
  {
   "cell_type": "code",
   "execution_count": 124,
   "id": "homeless-chosen",
   "metadata": {
    "ExecuteTime": {
     "end_time": "2021-04-29T17:41:28.478454Z",
     "start_time": "2021-04-29T17:41:28.351047Z"
    },
    "scrolled": false
   },
   "outputs": [
    {
     "data": {
      "text/html": [
       "<div>\n",
       "<style scoped>\n",
       "    .dataframe tbody tr th:only-of-type {\n",
       "        vertical-align: middle;\n",
       "    }\n",
       "\n",
       "    .dataframe tbody tr th {\n",
       "        vertical-align: top;\n",
       "    }\n",
       "\n",
       "    .dataframe thead th {\n",
       "        text-align: right;\n",
       "    }\n",
       "</style>\n",
       "<table border=\"1\" class=\"dataframe\">\n",
       "  <thead>\n",
       "    <tr style=\"text-align: right;\">\n",
       "      <th></th>\n",
       "      <th>descr</th>\n",
       "      <th>keyword_list</th>\n",
       "      <th>self_distance</th>\n",
       "      <th>best_keywords</th>\n",
       "      <th>best_interest_name</th>\n",
       "      <th>self_search_rank</th>\n",
       "    </tr>\n",
       "  </thead>\n",
       "  <tbody>\n",
       "    <tr>\n",
       "      <th>2</th>\n",
       "      <td>Assorted Topics (This Audience Are Interested ...</td>\n",
       "      <td>[cell, formula, cell range, array formula, exc...</td>\n",
       "      <td>0.251577</td>\n",
       "      <td>project excel apqc template charter project ma...</td>\n",
       "      <td>Assorted Topics (Software Integration, Scrabbl...</td>\n",
       "      <td>4.0</td>\n",
       "    </tr>\n",
       "    <tr>\n",
       "      <th>4</th>\n",
       "      <td>Vermont Cluster</td>\n",
       "      <td>[new hampshire, covid-19, police, haverhill, t...</td>\n",
       "      <td>0.868288</td>\n",
       "      <td>revision member details server minecraft thema...</td>\n",
       "      <td>Federal Employees</td>\n",
       "      <td>482.0</td>\n",
       "    </tr>\n",
       "    <tr>\n",
       "      <th>6</th>\n",
       "      <td>Cloud Storage Provider Researchers</td>\n",
       "      <td>[nvidia, intel, usb, fiercetelecom, cookies, m...</td>\n",
       "      <td>0.408416</td>\n",
       "      <td>nvidia intel usb fiercetelecom cookies mirrorl...</td>\n",
       "      <td>Computers</td>\n",
       "      <td>47.0</td>\n",
       "    </tr>\n",
       "    <tr>\n",
       "      <th>10</th>\n",
       "      <td>Rochester New York Cluster</td>\n",
       "      <td>[buffalo, new york, capitol, covid-19, vaccine...</td>\n",
       "      <td>0.925664</td>\n",
       "      <td>revision member details server minecraft thema...</td>\n",
       "      <td>Wisconsin County and Local Fair Visitors</td>\n",
       "      <td>696.0</td>\n",
       "    </tr>\n",
       "    <tr>\n",
       "      <th>11</th>\n",
       "      <td>Readers of Puerto Rican Content</td>\n",
       "      <td>[puerto rico, venezuela, para, por, gobierno, ...</td>\n",
       "      <td>0.778752</td>\n",
       "      <td>pollen genus pollen grains iqvia asthma blood ...</td>\n",
       "      <td>Cinco de Mayo Celebrators</td>\n",
       "      <td>104.0</td>\n",
       "    </tr>\n",
       "    <tr>\n",
       "      <th>15</th>\n",
       "      <td>European Museums, Restaurants &amp; Events</td>\n",
       "      <td>[florida, museum, park, cook, beach, resort, f...</td>\n",
       "      <td>0.634240</td>\n",
       "      <td>paris pageoptions france enquiry pr parisbytra...</td>\n",
       "      <td>Sightseeing Travelers</td>\n",
       "      <td>61.0</td>\n",
       "    </tr>\n",
       "    <tr>\n",
       "      <th>16</th>\n",
       "      <td>Nintendo Enthusiasts</td>\n",
       "      <td>[pokémon, game, japan, nintendo, app store, pc...</td>\n",
       "      <td>0.283525</td>\n",
       "      <td>game app store mirrorlessrumors switcharcade r...</td>\n",
       "      <td>Roleplay &amp; Fantasy Games</td>\n",
       "      <td>5.0</td>\n",
       "    </tr>\n",
       "    <tr>\n",
       "      <th>18</th>\n",
       "      <td>Premier League Fans</td>\n",
       "      <td>[arsenal, manchester, manchester city, tottenh...</td>\n",
       "      <td>0.243930</td>\n",
       "      <td>manchester chelsea manchester united solskjaer...</td>\n",
       "      <td>Arsenal Fans</td>\n",
       "      <td>2.0</td>\n",
       "    </tr>\n",
       "    <tr>\n",
       "      <th>20</th>\n",
       "      <td>Joint Pain Sufferers</td>\n",
       "      <td>[pain, arthritis, gout, rheumatoid arthritis, ...</td>\n",
       "      <td>0.483383</td>\n",
       "      <td>patients covid-19 pain symptoms vaccine united...</td>\n",
       "      <td>Arthritis Sufferers</td>\n",
       "      <td>34.0</td>\n",
       "    </tr>\n",
       "    <tr>\n",
       "      <th>21</th>\n",
       "      <td>WWE and Pro Wrestling Fans</td>\n",
       "      <td>[wwe, aew, match, wrestling, ring, nxt, vince ...</td>\n",
       "      <td>0.571739</td>\n",
       "      <td>devices roku nwca flosports app iowa houston t...</td>\n",
       "      <td>Soccer Fans</td>\n",
       "      <td>24.0</td>\n",
       "    </tr>\n",
       "    <tr>\n",
       "      <th>22</th>\n",
       "      <td>Italy Cluster</td>\n",
       "      <td>[fodor, covid-19, likes, italy, europe, pandem...</td>\n",
       "      <td>1.226389</td>\n",
       "      <td>blizzard macro pvp dps addon damage shadowland...</td>\n",
       "      <td>Caribbean Destination Reopening Researchers</td>\n",
       "      <td>1822.0</td>\n",
       "    </tr>\n",
       "    <tr>\n",
       "      <th>25</th>\n",
       "      <td>Acura Vehicle Shoppers</td>\n",
       "      <td>[honda, turbo, likes, tranny, relay, battery, ...</td>\n",
       "      <td>0.571933</td>\n",
       "      <td>signature camper rv hitch roof cruiser patriot...</td>\n",
       "      <td>Infiniti Vehicle Shoppers</td>\n",
       "      <td>83.0</td>\n",
       "    </tr>\n",
       "    <tr>\n",
       "      <th>29</th>\n",
       "      <td>Health and Fitness Book Readers</td>\n",
       "      <td>[aspen, muscle, patients, shoulders, workouts,...</td>\n",
       "      <td>0.645997</td>\n",
       "      <td>pr city british columbia guests such program e...</td>\n",
       "      <td>Nutrition &amp; Diabetic Living</td>\n",
       "      <td>139.0</td>\n",
       "    </tr>\n",
       "    <tr>\n",
       "      <th>31</th>\n",
       "      <td>Bed &amp; Bath Shoppers</td>\n",
       "      <td>[yelp, search, address, yelp page, window that...</td>\n",
       "      <td>0.628356</td>\n",
       "      <td>avas flowers flowers arrangement service fee s...</td>\n",
       "      <td>Software Directory Researchers</td>\n",
       "      <td>296.0</td>\n",
       "    </tr>\n",
       "    <tr>\n",
       "      <th>36</th>\n",
       "      <td>Insurance Professionals</td>\n",
       "      <td>[aon, freeerisa, valid email, council, valid e...</td>\n",
       "      <td>0.267208</td>\n",
       "      <td>mba bankmobile personal information elfa infor...</td>\n",
       "      <td>Corporate Employment Pages</td>\n",
       "      <td>28.0</td>\n",
       "    </tr>\n",
       "    <tr>\n",
       "      <th>37</th>\n",
       "      <td>Poetry Fans</td>\n",
       "      <td>[poem, grade, middle school grade, speaker, pr...</td>\n",
       "      <td>0.511339</td>\n",
       "      <td>advertisement jesus christ leonardo apostles m...</td>\n",
       "      <td>Foreign Language Education</td>\n",
       "      <td>91.0</td>\n",
       "    </tr>\n",
       "    <tr>\n",
       "      <th>39</th>\n",
       "      <td>Canadian Universities</td>\n",
       "      <td>[covid-19, canada, toronto, vaccine, vos, arti...</td>\n",
       "      <td>0.702833</td>\n",
       "      <td>united states china russia israel covid-19 egy...</td>\n",
       "      <td>Canadian Healthcare</td>\n",
       "      <td>296.0</td>\n",
       "    </tr>\n",
       "    <tr>\n",
       "      <th>42</th>\n",
       "      <td>East Texas Cluster</td>\n",
       "      <td>[covid-19, capitol, texas, trump, donald trump...</td>\n",
       "      <td>1.052471</td>\n",
       "      <td>movie online barbie wizards download magic pat...</td>\n",
       "      <td>Federal Employees</td>\n",
       "      <td>1225.0</td>\n",
       "    </tr>\n",
       "    <tr>\n",
       "      <th>45</th>\n",
       "      <td>Heart Surgery Researchers</td>\n",
       "      <td>[streaming format, instructors, bls course vid...</td>\n",
       "      <td>0.570870</td>\n",
       "      <td>ebsco orthopaedic surgeons american academy of...</td>\n",
       "      <td>Online Education Resource Researchers</td>\n",
       "      <td>170.0</td>\n",
       "    </tr>\n",
       "    <tr>\n",
       "      <th>46</th>\n",
       "      <td>Streaming Video Fans</td>\n",
       "      <td>[game, app store, switcharcade round-up, star ...</td>\n",
       "      <td>0.527736</td>\n",
       "      <td>game theringreport.com app store switcharcade ...</td>\n",
       "      <td>Roleplay &amp; Fantasy Games</td>\n",
       "      <td>74.0</td>\n",
       "    </tr>\n",
       "    <tr>\n",
       "      <th>48</th>\n",
       "      <td>Assorted Topics (Cooking, Recipes, Hollywood, ...</td>\n",
       "      <td>[bag, bags, paint, chanel, louis vuitton, chri...</td>\n",
       "      <td>0.833982</td>\n",
       "      <td>india uscis quikrhomes recipe house sale mouse...</td>\n",
       "      <td>Home Décor, Furniture, &amp; Decorating</td>\n",
       "      <td>266.0</td>\n",
       "    </tr>\n",
       "    <tr>\n",
       "      <th>49</th>\n",
       "      <td>Netherlands Trip Planners</td>\n",
       "      <td>[europe, paris, london, berlin, the netherland...</td>\n",
       "      <td>0.642353</td>\n",
       "      <td>united states students earth new york water en...</td>\n",
       "      <td>Summer Festivals and Fairs Visitors</td>\n",
       "      <td>248.0</td>\n",
       "    </tr>\n",
       "    <tr>\n",
       "      <th>53</th>\n",
       "      <td>Data Centers</td>\n",
       "      <td>[microsoft, windows, intel, amd, nvidia, pc, c...</td>\n",
       "      <td>0.870948</td>\n",
       "      <td>olight air force training airmen army nato mar...</td>\n",
       "      <td>Computers</td>\n",
       "      <td>811.0</td>\n",
       "    </tr>\n",
       "    <tr>\n",
       "      <th>54</th>\n",
       "      <td>Kansas City Royals Fans</td>\n",
       "      <td>[kansas city, royals, kc, kc royals, kansas, g...</td>\n",
       "      <td>0.648394</td>\n",
       "      <td>united states china new york pandemic covid-19...</td>\n",
       "      <td>Dallas Cowboys Fans</td>\n",
       "      <td>155.0</td>\n",
       "    </tr>\n",
       "    <tr>\n",
       "      <th>56</th>\n",
       "      <td>Paleo Eaters</td>\n",
       "      <td>[paleo, chicken, recipe, sauce, instant pot, k...</td>\n",
       "      <td>1.246233</td>\n",
       "      <td>seattle washington mount vernon covid-19 orego...</td>\n",
       "      <td>Cooking Recipe &amp; Ingredient Researchers</td>\n",
       "      <td>1363.0</td>\n",
       "    </tr>\n",
       "    <tr>\n",
       "      <th>57</th>\n",
       "      <td>Pet Health and Nutrition Researchers</td>\n",
       "      <td>[cat, cats, dog, dogs, puppy, breed, puppies, ...</td>\n",
       "      <td>0.902661</td>\n",
       "      <td>pdf cornell reader acrobat students united sta...</td>\n",
       "      <td>Veterinarians</td>\n",
       "      <td>571.0</td>\n",
       "    </tr>\n",
       "    <tr>\n",
       "      <th>60</th>\n",
       "      <td>Wine Lovers</td>\n",
       "      <td>[derry, cake, longford, ireland, lake district...</td>\n",
       "      <td>0.906241</td>\n",
       "      <td>prop visible purple light weed guard tombstone...</td>\n",
       "      <td>Cooking Recipe &amp; Ingredient Researchers</td>\n",
       "      <td>280.0</td>\n",
       "    </tr>\n",
       "    <tr>\n",
       "      <th>61</th>\n",
       "      <td>Amateur Radios</td>\n",
       "      <td>[ford, engine, boat, fuel, battery, oil, truck...</td>\n",
       "      <td>0.941403</td>\n",
       "      <td>europe paris london berlin madrid barcelona ho...</td>\n",
       "      <td>Volkswagen Vehicle Shopper</td>\n",
       "      <td>733.0</td>\n",
       "    </tr>\n",
       "    <tr>\n",
       "      <th>63</th>\n",
       "      <td>Whiskey Lovers</td>\n",
       "      <td>[bourbon, distillery, pappy van winkle, bottle...</td>\n",
       "      <td>0.579296</td>\n",
       "      <td>protected document document open document pdf ...</td>\n",
       "      <td>Horse Race Enthusiasts</td>\n",
       "      <td>37.0</td>\n",
       "    </tr>\n",
       "    <tr>\n",
       "      <th>64</th>\n",
       "      <td>Adult Acne Sufferers</td>\n",
       "      <td>[qualified healthcare professional, bodybuildi...</td>\n",
       "      <td>0.708575</td>\n",
       "      <td>practice dental practice dental practices henr...</td>\n",
       "      <td>Orthopedic Health Researchers</td>\n",
       "      <td>346.0</td>\n",
       "    </tr>\n",
       "  </tbody>\n",
       "</table>\n",
       "</div>"
      ],
      "text/plain": [
       "                                                descr  \\\n",
       "2   Assorted Topics (This Audience Are Interested ...   \n",
       "4                                     Vermont Cluster   \n",
       "6                  Cloud Storage Provider Researchers   \n",
       "10                         Rochester New York Cluster   \n",
       "11                    Readers of Puerto Rican Content   \n",
       "15             European Museums, Restaurants & Events   \n",
       "16                               Nintendo Enthusiasts   \n",
       "18                                Premier League Fans   \n",
       "20                               Joint Pain Sufferers   \n",
       "21                         WWE and Pro Wrestling Fans   \n",
       "22                                      Italy Cluster   \n",
       "25                             Acura Vehicle Shoppers   \n",
       "29                    Health and Fitness Book Readers   \n",
       "31                                Bed & Bath Shoppers   \n",
       "36                            Insurance Professionals   \n",
       "37                                        Poetry Fans   \n",
       "39                              Canadian Universities   \n",
       "42                                 East Texas Cluster   \n",
       "45                          Heart Surgery Researchers   \n",
       "46                               Streaming Video Fans   \n",
       "48  Assorted Topics (Cooking, Recipes, Hollywood, ...   \n",
       "49                          Netherlands Trip Planners   \n",
       "53                                       Data Centers   \n",
       "54                            Kansas City Royals Fans   \n",
       "56                                       Paleo Eaters   \n",
       "57               Pet Health and Nutrition Researchers   \n",
       "60                                        Wine Lovers   \n",
       "61                                     Amateur Radios   \n",
       "63                                     Whiskey Lovers   \n",
       "64                               Adult Acne Sufferers   \n",
       "\n",
       "                                         keyword_list  self_distance  \\\n",
       "2   [cell, formula, cell range, array formula, exc...       0.251577   \n",
       "4   [new hampshire, covid-19, police, haverhill, t...       0.868288   \n",
       "6   [nvidia, intel, usb, fiercetelecom, cookies, m...       0.408416   \n",
       "10  [buffalo, new york, capitol, covid-19, vaccine...       0.925664   \n",
       "11  [puerto rico, venezuela, para, por, gobierno, ...       0.778752   \n",
       "15  [florida, museum, park, cook, beach, resort, f...       0.634240   \n",
       "16  [pokémon, game, japan, nintendo, app store, pc...       0.283525   \n",
       "18  [arsenal, manchester, manchester city, tottenh...       0.243930   \n",
       "20  [pain, arthritis, gout, rheumatoid arthritis, ...       0.483383   \n",
       "21  [wwe, aew, match, wrestling, ring, nxt, vince ...       0.571739   \n",
       "22  [fodor, covid-19, likes, italy, europe, pandem...       1.226389   \n",
       "25  [honda, turbo, likes, tranny, relay, battery, ...       0.571933   \n",
       "29  [aspen, muscle, patients, shoulders, workouts,...       0.645997   \n",
       "31  [yelp, search, address, yelp page, window that...       0.628356   \n",
       "36  [aon, freeerisa, valid email, council, valid e...       0.267208   \n",
       "37  [poem, grade, middle school grade, speaker, pr...       0.511339   \n",
       "39  [covid-19, canada, toronto, vaccine, vos, arti...       0.702833   \n",
       "42  [covid-19, capitol, texas, trump, donald trump...       1.052471   \n",
       "45  [streaming format, instructors, bls course vid...       0.570870   \n",
       "46  [game, app store, switcharcade round-up, star ...       0.527736   \n",
       "48  [bag, bags, paint, chanel, louis vuitton, chri...       0.833982   \n",
       "49  [europe, paris, london, berlin, the netherland...       0.642353   \n",
       "53  [microsoft, windows, intel, amd, nvidia, pc, c...       0.870948   \n",
       "54  [kansas city, royals, kc, kc royals, kansas, g...       0.648394   \n",
       "56  [paleo, chicken, recipe, sauce, instant pot, k...       1.246233   \n",
       "57  [cat, cats, dog, dogs, puppy, breed, puppies, ...       0.902661   \n",
       "60  [derry, cake, longford, ireland, lake district...       0.906241   \n",
       "61  [ford, engine, boat, fuel, battery, oil, truck...       0.941403   \n",
       "63  [bourbon, distillery, pappy van winkle, bottle...       0.579296   \n",
       "64  [qualified healthcare professional, bodybuildi...       0.708575   \n",
       "\n",
       "                                        best_keywords  \\\n",
       "2   project excel apqc template charter project ma...   \n",
       "4   revision member details server minecraft thema...   \n",
       "6   nvidia intel usb fiercetelecom cookies mirrorl...   \n",
       "10  revision member details server minecraft thema...   \n",
       "11  pollen genus pollen grains iqvia asthma blood ...   \n",
       "15  paris pageoptions france enquiry pr parisbytra...   \n",
       "16  game app store mirrorlessrumors switcharcade r...   \n",
       "18  manchester chelsea manchester united solskjaer...   \n",
       "20  patients covid-19 pain symptoms vaccine united...   \n",
       "21  devices roku nwca flosports app iowa houston t...   \n",
       "22  blizzard macro pvp dps addon damage shadowland...   \n",
       "25  signature camper rv hitch roof cruiser patriot...   \n",
       "29  pr city british columbia guests such program e...   \n",
       "31  avas flowers flowers arrangement service fee s...   \n",
       "36  mba bankmobile personal information elfa infor...   \n",
       "37  advertisement jesus christ leonardo apostles m...   \n",
       "39  united states china russia israel covid-19 egy...   \n",
       "42  movie online barbie wizards download magic pat...   \n",
       "45  ebsco orthopaedic surgeons american academy of...   \n",
       "46  game theringreport.com app store switcharcade ...   \n",
       "48  india uscis quikrhomes recipe house sale mouse...   \n",
       "49  united states students earth new york water en...   \n",
       "53  olight air force training airmen army nato mar...   \n",
       "54  united states china new york pandemic covid-19...   \n",
       "56  seattle washington mount vernon covid-19 orego...   \n",
       "57  pdf cornell reader acrobat students united sta...   \n",
       "60  prop visible purple light weed guard tombstone...   \n",
       "61  europe paris london berlin madrid barcelona ho...   \n",
       "63  protected document document open document pdf ...   \n",
       "64  practice dental practice dental practices henr...   \n",
       "\n",
       "                                   best_interest_name  self_search_rank  \n",
       "2   Assorted Topics (Software Integration, Scrabbl...               4.0  \n",
       "4                                   Federal Employees             482.0  \n",
       "6                                           Computers              47.0  \n",
       "10           Wisconsin County and Local Fair Visitors             696.0  \n",
       "11                          Cinco de Mayo Celebrators             104.0  \n",
       "15                              Sightseeing Travelers              61.0  \n",
       "16                           Roleplay & Fantasy Games               5.0  \n",
       "18                                       Arsenal Fans               2.0  \n",
       "20                                Arthritis Sufferers              34.0  \n",
       "21                                        Soccer Fans              24.0  \n",
       "22        Caribbean Destination Reopening Researchers            1822.0  \n",
       "25                          Infiniti Vehicle Shoppers              83.0  \n",
       "29                        Nutrition & Diabetic Living             139.0  \n",
       "31                     Software Directory Researchers             296.0  \n",
       "36                         Corporate Employment Pages              28.0  \n",
       "37                         Foreign Language Education              91.0  \n",
       "39                                Canadian Healthcare             296.0  \n",
       "42                                  Federal Employees            1225.0  \n",
       "45              Online Education Resource Researchers             170.0  \n",
       "46                           Roleplay & Fantasy Games              74.0  \n",
       "48                Home Décor, Furniture, & Decorating             266.0  \n",
       "49                Summer Festivals and Fairs Visitors             248.0  \n",
       "53                                          Computers             811.0  \n",
       "54                                Dallas Cowboys Fans             155.0  \n",
       "56            Cooking Recipe & Ingredient Researchers            1363.0  \n",
       "57                                      Veterinarians             571.0  \n",
       "60            Cooking Recipe & Ingredient Researchers             280.0  \n",
       "61                         Volkswagen Vehicle Shopper             733.0  \n",
       "63                             Horse Race Enthusiasts              37.0  \n",
       "64                      Orthopedic Health Researchers             346.0  "
      ]
     },
     "execution_count": 124,
     "metadata": {},
     "output_type": "execute_result"
    }
   ],
   "source": [
    "distance_dfs['CCA-Fasttext Keywords'].head(n=30)[['descr','keyword_list','self_distance','best_keywords','best_interest_name','self_search_rank']]"
   ]
  },
  {
   "cell_type": "markdown",
   "id": "multiple-dairy",
   "metadata": {},
   "source": [
    "### MOTI + CCA"
   ]
  },
  {
   "cell_type": "code",
   "execution_count": 125,
   "id": "boxed-correlation",
   "metadata": {
    "ExecuteTime": {
     "end_time": "2021-04-29T17:42:21.241184Z",
     "start_time": "2021-04-29T17:42:21.174339Z"
    }
   },
   "outputs": [
    {
     "data": {
      "text/html": [
       "<div>\n",
       "<style scoped>\n",
       "    .dataframe tbody tr th:only-of-type {\n",
       "        vertical-align: middle;\n",
       "    }\n",
       "\n",
       "    .dataframe tbody tr th {\n",
       "        vertical-align: top;\n",
       "    }\n",
       "\n",
       "    .dataframe thead th {\n",
       "        text-align: right;\n",
       "    }\n",
       "</style>\n",
       "<table border=\"1\" class=\"dataframe\">\n",
       "  <thead>\n",
       "    <tr style=\"text-align: right;\">\n",
       "      <th></th>\n",
       "      <th>interest_type_id</th>\n",
       "      <th>interest_id</th>\n",
       "      <th>entity_id</th>\n",
       "      <th>descr</th>\n",
       "      <th>summary</th>\n",
       "      <th>domains</th>\n",
       "      <th>content_id</th>\n",
       "      <th>n_url</th>\n",
       "      <th>keywords_json</th>\n",
       "      <th>keyword_list</th>\n",
       "    </tr>\n",
       "  </thead>\n",
       "  <tbody>\n",
       "    <tr>\n",
       "      <th>2</th>\n",
       "      <td>112</td>\n",
       "      <td>11655</td>\n",
       "      <td>40981</td>\n",
       "      <td>Assorted Topics (This Audience Are Interested ...</td>\n",
       "      <td>People in this audience are interested in abbr...</td>\n",
       "      <td>[usingenglish.com, militaryfactory.com, online...</td>\n",
       "      <td>[d7x, my3s, u5u2, 1o3d4, kre2, 15d3i, unb1, u7...</td>\n",
       "      <td>1426</td>\n",
       "      <td>{\"cell\": 87, \"formula\": 72, \"cell range\": 48, ...</td>\n",
       "      <td>[cell, formula, cell range, array formula, exc...</td>\n",
       "    </tr>\n",
       "    <tr>\n",
       "      <th>4</th>\n",
       "      <td>112</td>\n",
       "      <td>11401</td>\n",
       "      <td>40727</td>\n",
       "      <td>Vermont Cluster</td>\n",
       "      <td>People in this audience are interested in a va...</td>\n",
       "      <td>[sevendaysvt.com, dailygazette.com, wwnytv.com...</td>\n",
       "      <td>[w68c, ssg4, epcs, fz2d, 10d5y, 1ggqg, cj9e, 1...</td>\n",
       "      <td>4642</td>\n",
       "      <td>{\"new hampshire\": 351, \"covid-19\": 345, \"polic...</td>\n",
       "      <td>[new hampshire, covid-19, police, haverhill, t...</td>\n",
       "    </tr>\n",
       "    <tr>\n",
       "      <th>6</th>\n",
       "      <td>110</td>\n",
       "      <td>6124</td>\n",
       "      <td>26055</td>\n",
       "      <td>Cloud Storage Provider Researchers</td>\n",
       "      <td>Consumers researching and comparing cloud stor...</td>\n",
       "      <td>[linuxgizmos.com, nakkheeran.in, esmagazine.co...</td>\n",
       "      <td>[emh2, o1ge, 1onmb, fglw, 1o7a8, s70o, 1h0sc, ...</td>\n",
       "      <td>352</td>\n",
       "      <td>{\"nvidia\": 27, \"intel\": 21, \"usb\": 15, \"fierce...</td>\n",
       "      <td>[nvidia, intel, usb, fiercetelecom, cookies, m...</td>\n",
       "    </tr>\n",
       "  </tbody>\n",
       "</table>\n",
       "</div>"
      ],
      "text/plain": [
       "   interest_type_id  interest_id  entity_id  \\\n",
       "2               112        11655      40981   \n",
       "4               112        11401      40727   \n",
       "6               110         6124      26055   \n",
       "\n",
       "                                               descr  \\\n",
       "2  Assorted Topics (This Audience Are Interested ...   \n",
       "4                                    Vermont Cluster   \n",
       "6                 Cloud Storage Provider Researchers   \n",
       "\n",
       "                                             summary  \\\n",
       "2  People in this audience are interested in abbr...   \n",
       "4  People in this audience are interested in a va...   \n",
       "6  Consumers researching and comparing cloud stor...   \n",
       "\n",
       "                                             domains  \\\n",
       "2  [usingenglish.com, militaryfactory.com, online...   \n",
       "4  [sevendaysvt.com, dailygazette.com, wwnytv.com...   \n",
       "6  [linuxgizmos.com, nakkheeran.in, esmagazine.co...   \n",
       "\n",
       "                                          content_id  n_url  \\\n",
       "2  [d7x, my3s, u5u2, 1o3d4, kre2, 15d3i, unb1, u7...   1426   \n",
       "4  [w68c, ssg4, epcs, fz2d, 10d5y, 1ggqg, cj9e, 1...   4642   \n",
       "6  [emh2, o1ge, 1onmb, fglw, 1o7a8, s70o, 1h0sc, ...    352   \n",
       "\n",
       "                                       keywords_json  \\\n",
       "2  {\"cell\": 87, \"formula\": 72, \"cell range\": 48, ...   \n",
       "4  {\"new hampshire\": 351, \"covid-19\": 345, \"polic...   \n",
       "6  {\"nvidia\": 27, \"intel\": 21, \"usb\": 15, \"fierce...   \n",
       "\n",
       "                                        keyword_list  \n",
       "2  [cell, formula, cell range, array formula, exc...  \n",
       "4  [new hampshire, covid-19, police, haverhill, t...  \n",
       "6  [nvidia, intel, usb, fiercetelecom, cookies, m...  "
      ]
     },
     "execution_count": 125,
     "metadata": {},
     "output_type": "execute_result"
    }
   ],
   "source": [
    "distance_dfs['CCA-MOTI'] = adv_cont_keywords_df.copy().query('interest_id.isin(@common_audiences_list)')\n",
    "\n",
    "distance_dfs['CCA-MOTI'].head(n=3)"
   ]
  },
  {
   "cell_type": "code",
   "execution_count": 126,
   "id": "recreational-aquarium",
   "metadata": {
    "ExecuteTime": {
     "end_time": "2021-04-29T17:42:37.965758Z",
     "start_time": "2021-04-29T17:42:37.830643Z"
    }
   },
   "outputs": [],
   "source": [
    "null_embedding = 0 * moti[0]\n",
    "\n",
    "content_id_lookup = collections.defaultdict(lambda: null_embedding,\n",
    "                                            {x: moti[moti_id(x)] for x in host_keyword_pairs['content_id'].unique()})"
   ]
  },
  {
   "cell_type": "code",
   "execution_count": 127,
   "id": "objective-therapist",
   "metadata": {
    "ExecuteTime": {
     "end_time": "2021-04-29T17:42:47.555493Z",
     "start_time": "2021-04-29T17:42:45.285011Z"
    }
   },
   "outputs": [],
   "source": [
    "cca_transform_model30 = TransformAndFasttext(ft_model=ft_model, sk_model=cca_model_30)\n",
    "\n",
    "column_transformers['CCA-MOTI'] = MOTIColumnComparison(basis_text   =distance_dfs['CCA-MOTI']['descr'],\n",
    "                                                       compare_text =distance_dfs['CCA-MOTI']['content_id'].apply(lambda x: np.vstack([content_id_lookup[content_id] for content_id in x])),\n",
    "                                                       model        =cca_transform_model30)"
   ]
  },
  {
   "cell_type": "code",
   "execution_count": 128,
   "id": "weekly-evening",
   "metadata": {
    "ExecuteTime": {
     "end_time": "2021-04-29T17:42:48.850703Z",
     "start_time": "2021-04-29T17:42:47.559028Z"
    },
    "scrolled": true
   },
   "outputs": [
    {
     "data": {
      "text/html": [
       "<div>\n",
       "<style scoped>\n",
       "    .dataframe tbody tr th:only-of-type {\n",
       "        vertical-align: middle;\n",
       "    }\n",
       "\n",
       "    .dataframe tbody tr th {\n",
       "        vertical-align: top;\n",
       "    }\n",
       "\n",
       "    .dataframe thead th {\n",
       "        text-align: right;\n",
       "    }\n",
       "</style>\n",
       "<table border=\"1\" class=\"dataframe\">\n",
       "  <thead>\n",
       "    <tr style=\"text-align: right;\">\n",
       "      <th></th>\n",
       "      <th>interest_type_id</th>\n",
       "      <th>interest_id</th>\n",
       "      <th>entity_id</th>\n",
       "      <th>descr</th>\n",
       "      <th>summary</th>\n",
       "      <th>domains</th>\n",
       "      <th>content_id</th>\n",
       "      <th>n_url</th>\n",
       "      <th>keywords_json</th>\n",
       "      <th>keyword_list</th>\n",
       "      <th>self_distance</th>\n",
       "      <th>closest_to_name_dist</th>\n",
       "      <th>best_keywords</th>\n",
       "      <th>best_interest_name</th>\n",
       "      <th>self_search_rank</th>\n",
       "    </tr>\n",
       "  </thead>\n",
       "  <tbody>\n",
       "    <tr>\n",
       "      <th>2</th>\n",
       "      <td>112</td>\n",
       "      <td>11655</td>\n",
       "      <td>40981</td>\n",
       "      <td>Assorted Topics (This Audience Are Interested ...</td>\n",
       "      <td>People in this audience are interested in abbr...</td>\n",
       "      <td>[usingenglish.com, militaryfactory.com, online...</td>\n",
       "      <td>[d7x, my3s, u5u2, 1o3d4, kre2, 15d3i, unb1, u7...</td>\n",
       "      <td>1426</td>\n",
       "      <td>{\"cell\": 87, \"formula\": 72, \"cell range\": 48, ...</td>\n",
       "      <td>[cell, formula, cell range, array formula, exc...</td>\n",
       "      <td>0.266307</td>\n",
       "      <td>0.223140</td>\n",
       "      <td>[[0.020915745, -0.11653055, 0.03368042, -0.174...</td>\n",
       "      <td>Assorted Topics (This Audience Are Interested ...</td>\n",
       "      <td>1.0</td>\n",
       "    </tr>\n",
       "    <tr>\n",
       "      <th>4</th>\n",
       "      <td>112</td>\n",
       "      <td>11401</td>\n",
       "      <td>40727</td>\n",
       "      <td>Vermont Cluster</td>\n",
       "      <td>People in this audience are interested in a va...</td>\n",
       "      <td>[sevendaysvt.com, dailygazette.com, wwnytv.com...</td>\n",
       "      <td>[w68c, ssg4, epcs, fz2d, 10d5y, 1ggqg, cj9e, 1...</td>\n",
       "      <td>4642</td>\n",
       "      <td>{\"new hampshire\": 351, \"covid-19\": 345, \"polic...</td>\n",
       "      <td>[new hampshire, covid-19, police, haverhill, t...</td>\n",
       "      <td>0.845572</td>\n",
       "      <td>0.508454</td>\n",
       "      <td>[[-0.2422151, -0.11979058, 0.05833215, -0.0324...</td>\n",
       "      <td>Lawn &amp; Garden Enthusiasts</td>\n",
       "      <td>266.0</td>\n",
       "    </tr>\n",
       "    <tr>\n",
       "      <th>6</th>\n",
       "      <td>110</td>\n",
       "      <td>6124</td>\n",
       "      <td>26055</td>\n",
       "      <td>Cloud Storage Provider Researchers</td>\n",
       "      <td>Consumers researching and comparing cloud stor...</td>\n",
       "      <td>[linuxgizmos.com, nakkheeran.in, esmagazine.co...</td>\n",
       "      <td>[emh2, o1ge, 1onmb, fglw, 1o7a8, s70o, 1h0sc, ...</td>\n",
       "      <td>352</td>\n",
       "      <td>{\"nvidia\": 27, \"intel\": 21, \"usb\": 15, \"fierce...</td>\n",
       "      <td>[nvidia, intel, usb, fiercetelecom, cookies, m...</td>\n",
       "      <td>0.581519</td>\n",
       "      <td>0.435133</td>\n",
       "      <td>[[-0.0057829055, -0.16824645, -0.01733164, -0....</td>\n",
       "      <td>Computers</td>\n",
       "      <td>188.0</td>\n",
       "    </tr>\n",
       "  </tbody>\n",
       "</table>\n",
       "</div>"
      ],
      "text/plain": [
       "   interest_type_id  interest_id  entity_id  \\\n",
       "2               112        11655      40981   \n",
       "4               112        11401      40727   \n",
       "6               110         6124      26055   \n",
       "\n",
       "                                               descr  \\\n",
       "2  Assorted Topics (This Audience Are Interested ...   \n",
       "4                                    Vermont Cluster   \n",
       "6                 Cloud Storage Provider Researchers   \n",
       "\n",
       "                                             summary  \\\n",
       "2  People in this audience are interested in abbr...   \n",
       "4  People in this audience are interested in a va...   \n",
       "6  Consumers researching and comparing cloud stor...   \n",
       "\n",
       "                                             domains  \\\n",
       "2  [usingenglish.com, militaryfactory.com, online...   \n",
       "4  [sevendaysvt.com, dailygazette.com, wwnytv.com...   \n",
       "6  [linuxgizmos.com, nakkheeran.in, esmagazine.co...   \n",
       "\n",
       "                                          content_id  n_url  \\\n",
       "2  [d7x, my3s, u5u2, 1o3d4, kre2, 15d3i, unb1, u7...   1426   \n",
       "4  [w68c, ssg4, epcs, fz2d, 10d5y, 1ggqg, cj9e, 1...   4642   \n",
       "6  [emh2, o1ge, 1onmb, fglw, 1o7a8, s70o, 1h0sc, ...    352   \n",
       "\n",
       "                                       keywords_json  \\\n",
       "2  {\"cell\": 87, \"formula\": 72, \"cell range\": 48, ...   \n",
       "4  {\"new hampshire\": 351, \"covid-19\": 345, \"polic...   \n",
       "6  {\"nvidia\": 27, \"intel\": 21, \"usb\": 15, \"fierce...   \n",
       "\n",
       "                                        keyword_list  self_distance  \\\n",
       "2  [cell, formula, cell range, array formula, exc...       0.266307   \n",
       "4  [new hampshire, covid-19, police, haverhill, t...       0.845572   \n",
       "6  [nvidia, intel, usb, fiercetelecom, cookies, m...       0.581519   \n",
       "\n",
       "   closest_to_name_dist                                      best_keywords  \\\n",
       "2              0.223140  [[0.020915745, -0.11653055, 0.03368042, -0.174...   \n",
       "4              0.508454  [[-0.2422151, -0.11979058, 0.05833215, -0.0324...   \n",
       "6              0.435133  [[-0.0057829055, -0.16824645, -0.01733164, -0....   \n",
       "\n",
       "                                  best_interest_name  self_search_rank  \n",
       "2  Assorted Topics (This Audience Are Interested ...               1.0  \n",
       "4                          Lawn & Garden Enthusiasts             266.0  \n",
       "6                                          Computers             188.0  "
      ]
     },
     "execution_count": 128,
     "metadata": {},
     "output_type": "execute_result"
    }
   ],
   "source": [
    "distance_dfs['CCA-MOTI'].loc[:,'self_distance']        = column_transformers['CCA-MOTI'].self_distance\n",
    "distance_dfs['CCA-MOTI'].loc[:,'closest_to_name_dist'] = column_transformers['CCA-MOTI'].best_basis_compare_distance\n",
    "distance_dfs['CCA-MOTI'].loc[:,'best_keywords']        = column_transformers['CCA-MOTI'].best_compare_for_basis\n",
    "distance_dfs['CCA-MOTI'].loc[:,'best_interest_name']   = column_transformers['CCA-MOTI'].basis_of_best_compare\n",
    "distance_dfs['CCA-MOTI'].loc[:,'self_search_rank']     = column_transformers['CCA-MOTI'].basis_self_rank\n",
    "\n",
    "distance_dfs['CCA-MOTI'].head(n=3)"
   ]
  },
  {
   "cell_type": "markdown",
   "id": "architectural-ivory",
   "metadata": {},
   "source": [
    "### Aggregate results"
   ]
  },
  {
   "cell_type": "code",
   "execution_count": 129,
   "id": "generic-royalty",
   "metadata": {
    "ExecuteTime": {
     "end_time": "2021-04-29T17:42:54.530676Z",
     "start_time": "2021-04-29T17:42:54.486143Z"
    }
   },
   "outputs": [
    {
     "data": {
      "text/html": [
       "<div>\n",
       "<style scoped>\n",
       "    .dataframe tbody tr th:only-of-type {\n",
       "        vertical-align: middle;\n",
       "    }\n",
       "\n",
       "    .dataframe tbody tr th {\n",
       "        vertical-align: top;\n",
       "    }\n",
       "\n",
       "    .dataframe thead th {\n",
       "        text-align: right;\n",
       "    }\n",
       "</style>\n",
       "<table border=\"1\" class=\"dataframe\">\n",
       "  <thead>\n",
       "    <tr style=\"text-align: right;\">\n",
       "      <th></th>\n",
       "      <th>level_0</th>\n",
       "      <th>level_1</th>\n",
       "      <th>descr</th>\n",
       "      <th>self_search_rank</th>\n",
       "      <th>self_distance</th>\n",
       "    </tr>\n",
       "  </thead>\n",
       "  <tbody>\n",
       "    <tr>\n",
       "      <th>0</th>\n",
       "      <td>Fasttext Keywords</td>\n",
       "      <td>2</td>\n",
       "      <td>Assorted Topics (This Audience Are Interested ...</td>\n",
       "      <td>4.0</td>\n",
       "      <td>0.263239</td>\n",
       "    </tr>\n",
       "    <tr>\n",
       "      <th>1</th>\n",
       "      <td>Fasttext Keywords</td>\n",
       "      <td>4</td>\n",
       "      <td>Vermont Cluster</td>\n",
       "      <td>794.0</td>\n",
       "      <td>0.483111</td>\n",
       "    </tr>\n",
       "    <tr>\n",
       "      <th>2</th>\n",
       "      <td>Fasttext Keywords</td>\n",
       "      <td>6</td>\n",
       "      <td>Cloud Storage Provider Researchers</td>\n",
       "      <td>109.0</td>\n",
       "      <td>0.344463</td>\n",
       "    </tr>\n",
       "  </tbody>\n",
       "</table>\n",
       "</div>"
      ],
      "text/plain": [
       "             level_0  level_1  \\\n",
       "0  Fasttext Keywords        2   \n",
       "1  Fasttext Keywords        4   \n",
       "2  Fasttext Keywords        6   \n",
       "\n",
       "                                               descr  self_search_rank  \\\n",
       "0  Assorted Topics (This Audience Are Interested ...               4.0   \n",
       "1                                    Vermont Cluster             794.0   \n",
       "2                 Cloud Storage Provider Researchers             109.0   \n",
       "\n",
       "   self_distance  \n",
       "0       0.263239  \n",
       "1       0.483111  \n",
       "2       0.344463  "
      ]
     },
     "execution_count": 129,
     "metadata": {},
     "output_type": "execute_result"
    }
   ],
   "source": [
    "combine_dfs = pd.concat({x:distance_dfs[x][['descr','self_search_rank','self_distance']] for x in distance_dfs},axis=0).reset_index()\n",
    "\n",
    "combine_dfs.head(n=3)"
   ]
  },
  {
   "cell_type": "code",
   "execution_count": 130,
   "id": "understanding-kitty",
   "metadata": {
    "ExecuteTime": {
     "end_time": "2021-04-29T17:42:59.469707Z",
     "start_time": "2021-04-29T17:42:56.754126Z"
    }
   },
   "outputs": [
    {
     "data": {
      "image/png": "[encoded data removed]",
      "text/plain": [
       "<Figure size 640x480 with 1 Axes>"
      ]
     },
     "metadata": {},
     "output_type": "display_data"
    },
    {
     "data": {
      "text/plain": [
       "<ggplot: (8749859807985)>"
      ]
     },
     "execution_count": 130,
     "metadata": {},
     "output_type": "execute_result"
    }
   ],
   "source": [
    "(\n",
    "    ggplot(\n",
    "        combine_dfs, \n",
    "        aes(x='level_0',y='self_search_rank', fill='level_0'))\n",
    "    + geom_hline(yintercept=50,color='red')\n",
    "    + geom_violin()\n",
    "    + geom_boxplot(alpha=0.5)\n",
    "    + labs(x='Feature Space', y='Self Search Rank\\n(lower is better)',fill='Transformation')\n",
    "    + coord_flip()\n",
    "    + ggtitle(\"Self Search Rank with and without CCA\\n(Red at 50)\")\n",
    ")"
   ]
  },
  {
   "cell_type": "code",
   "execution_count": 131,
   "id": "functional-monitor",
   "metadata": {
    "ExecuteTime": {
     "end_time": "2021-04-29T17:43:10.698498Z",
     "start_time": "2021-04-29T17:43:08.099299Z"
    }
   },
   "outputs": [
    {
     "data": {
      "image/png": "[encoded data removed]",
      "text/plain": [
       "<Figure size 640x480 with 1 Axes>"
      ]
     },
     "metadata": {},
     "output_type": "display_data"
    },
    {
     "data": {
      "text/plain": [
       "<ggplot: (8749609216181)>"
      ]
     },
     "execution_count": 131,
     "metadata": {},
     "output_type": "execute_result"
    }
   ],
   "source": [
    "(\n",
    "    ggplot(\n",
    "        combine_dfs, \n",
    "        aes(x='level_0',y='self_distance', fill='level_0'))\n",
    "    + geom_violin()\n",
    "    + geom_boxplot(alpha=0.5)\n",
    "    + labs(x='Feature Space', y='Self Search Cosine Distance\\n(lower is better)',fill='Transformation')\n",
    "    + coord_flip()\n",
    "    + ggtitle(\"Self Search Cosine Distance with and without CCA\")\n",
    ")"
   ]
  },
  {
   "cell_type": "markdown",
   "id": "noticed-impossible",
   "metadata": {},
   "source": [
    "## Show fasttext space mutations"
   ]
  },
  {
   "cell_type": "markdown",
   "id": "following-affiliation",
   "metadata": {},
   "source": [
    "### Banana"
   ]
  },
  {
   "cell_type": "markdown",
   "id": "celtic-float",
   "metadata": {},
   "source": [
    "#### Kick the tires"
   ]
  },
  {
   "cell_type": "code",
   "execution_count": 132,
   "id": "reasonable-handbook",
   "metadata": {
    "ExecuteTime": {
     "end_time": "2021-04-29T17:43:35.175875Z",
     "start_time": "2021-04-29T17:43:35.152785Z"
    }
   },
   "outputs": [
    {
     "name": "stdout",
     "output_type": "stream",
     "text": [
      "11548\n"
     ]
    }
   ],
   "source": [
    "for i, elem in enumerate(gensim_model.vocab):\n",
    "\n",
    "    if elem == 'banana':\n",
    "        print(i)\n",
    "        break"
   ]
  },
  {
   "cell_type": "code",
   "execution_count": 133,
   "id": "married-symposium",
   "metadata": {
    "ExecuteTime": {
     "end_time": "2021-04-29T17:43:36.083680Z",
     "start_time": "2021-04-29T17:43:35.457976Z"
    }
   },
   "outputs": [
    {
     "data": {
      "text/plain": [
       "'banana'"
      ]
     },
     "execution_count": 133,
     "metadata": {},
     "output_type": "execute_result"
    }
   ],
   "source": [
    "list(gensim_model.vocab)[11548]"
   ]
  },
  {
   "cell_type": "code",
   "execution_count": 134,
   "id": "falling-disney",
   "metadata": {
    "ExecuteTime": {
     "end_time": "2021-04-29T17:43:36.093414Z",
     "start_time": "2021-04-29T17:43:36.086966Z"
    }
   },
   "outputs": [
    {
     "data": {
      "text/plain": [
       "True"
      ]
     },
     "execution_count": 134,
     "metadata": {},
     "output_type": "execute_result"
    }
   ],
   "source": [
    "np.array_equal(\n",
    "    gensim_model['banana'],\n",
    "    gensim_model.vectors[11548,:]\n",
    ")"
   ]
  },
  {
   "cell_type": "markdown",
   "id": "signed-darwin",
   "metadata": {},
   "source": [
    "#### See what's nearby"
   ]
  },
  {
   "cell_type": "code",
   "execution_count": 135,
   "id": "passing-rocket",
   "metadata": {
    "ExecuteTime": {
     "end_time": "2021-04-29T17:44:07.050262Z",
     "start_time": "2021-04-29T17:43:41.523955Z"
    }
   },
   "outputs": [
    {
     "data": {
      "text/plain": [
       "[('bananas', 0.7954647541046143),\n",
       " ('bananana', 0.7523448467254639),\n",
       " ('banana$', 0.7323664426803589),\n",
       " ('pineapples', 0.6949012875556946),\n",
       " ('pineapple', 0.6941430568695068),\n",
       " ('bananaa', 0.6828629970550537),\n",
       " ('#bananas', 0.6816799640655518),\n",
       " ('coconuts', 0.6764993667602539),\n",
       " ('coconut', 0.662202775478363),\n",
       " ('‘banana', 0.6594933271408081)]"
      ]
     },
     "execution_count": 135,
     "metadata": {},
     "output_type": "execute_result"
    }
   ],
   "source": [
    "gensim_model.most_similar('banana')"
   ]
  },
  {
   "cell_type": "code",
   "execution_count": 136,
   "id": "documentary-navigator",
   "metadata": {
    "ExecuteTime": {
     "end_time": "2021-04-29T17:44:07.065829Z",
     "start_time": "2021-04-29T17:44:07.054761Z"
    }
   },
   "outputs": [
    {
     "data": {
      "text/plain": [
       "array([[0.66220284]], dtype=float32)"
      ]
     },
     "execution_count": 136,
     "metadata": {},
     "output_type": "execute_result"
    }
   ],
   "source": [
    "cosine_similarity(\n",
    "    np.expand_dims(gensim_model.get_vector('banana'),0), \n",
    "    np.expand_dims(gensim_model.get_vector('coconut'),0))"
   ]
  },
  {
   "cell_type": "code",
   "execution_count": 137,
   "id": "macro-artwork",
   "metadata": {
    "ExecuteTime": {
     "end_time": "2021-04-29T17:44:17.439779Z",
     "start_time": "2021-04-29T17:44:07.070075Z"
    }
   },
   "outputs": [],
   "source": [
    "## look up nearest words 'by hand'\n",
    "banana_ft_sim = cosine_similarity(np.expand_dims(gensim_model.vectors[11548,:],0), gensim_model.vectors)"
   ]
  },
  {
   "cell_type": "code",
   "execution_count": 138,
   "id": "latin-alaska",
   "metadata": {
    "ExecuteTime": {
     "end_time": "2021-04-29T17:44:17.925492Z",
     "start_time": "2021-04-29T17:44:17.444075Z"
    }
   },
   "outputs": [],
   "source": [
    "ft_ranks = banana_ft_sim[0].argsort()"
   ]
  },
  {
   "cell_type": "code",
   "execution_count": 139,
   "id": "determined-fruit",
   "metadata": {
    "ExecuteTime": {
     "end_time": "2021-04-29T17:44:19.492842Z",
     "start_time": "2021-04-29T17:44:17.928577Z"
    }
   },
   "outputs": [
    {
     "name": "stdout",
     "output_type": "stream",
     "text": [
      "('banana', 1.0)\n",
      "('bananas', 0.7954648)\n",
      "('bananana', 0.75234485)\n",
      "('banana$', 0.73236644)\n",
      "('pineapples', 0.69490147)\n",
      "('pineapple', 0.6941432)\n",
      "('bananaa', 0.6828631)\n",
      "('#bananas', 0.68167996)\n",
      "('coconuts', 0.6764993)\n",
      "('coconut', 0.6622028)\n"
     ]
    }
   ],
   "source": [
    "for pair in [(list(gensim_model.vocab)[int(x)], banana_ft_sim[0][int(x)]) for x in ft_ranks[-10:][::-1]]:\n",
    "    print(pair)"
   ]
  },
  {
   "cell_type": "markdown",
   "id": "smart-painting",
   "metadata": {},
   "source": [
    "#### CCA Transform"
   ]
  },
  {
   "cell_type": "code",
   "execution_count": 141,
   "id": "neural-headset",
   "metadata": {
    "ExecuteTime": {
     "end_time": "2021-04-29T17:45:39.417583Z",
     "start_time": "2021-04-29T17:45:19.247408Z"
    }
   },
   "outputs": [],
   "source": [
    "altered_vectors = cca_model_30.transform(gensim_model.vectors)"
   ]
  },
  {
   "cell_type": "code",
   "execution_count": 142,
   "id": "promising-mount",
   "metadata": {
    "ExecuteTime": {
     "end_time": "2021-04-29T17:45:41.393592Z",
     "start_time": "2021-04-29T17:45:39.420611Z"
    }
   },
   "outputs": [],
   "source": [
    "banana_cca_sim = cosine_similarity(np.expand_dims(altered_vectors[11548,:],0),altered_vectors)"
   ]
  },
  {
   "cell_type": "code",
   "execution_count": 143,
   "id": "applicable-holiday",
   "metadata": {
    "ExecuteTime": {
     "end_time": "2021-04-29T17:45:41.941699Z",
     "start_time": "2021-04-29T17:45:41.397057Z"
    }
   },
   "outputs": [],
   "source": [
    "cca_ranks = banana_cca_sim[0].argsort()"
   ]
  },
  {
   "cell_type": "code",
   "execution_count": 144,
   "id": "mobile-statistics",
   "metadata": {
    "ExecuteTime": {
     "end_time": "2021-04-29T17:45:43.365386Z",
     "start_time": "2021-04-29T17:45:41.944816Z"
    }
   },
   "outputs": [
    {
     "name": "stdout",
     "output_type": "stream",
     "text": [
      "('banana', 1.0)\n",
      "('/pineapple', 0.9113843303291816)\n",
      "('cabbage', 0.9090392222972276)\n",
      "('pineapple', 0.9026439008584032)\n",
      "('bananas', 0.8976711035399517)\n",
      "('spinach', 0.8912134402821594)\n",
      "('coconut', 0.8849729921425457)\n",
      "('pineapples', 0.8803143340634272)\n",
      "('betelnuts', 0.8801714451334174)\n",
      "('coconutty', 0.8794712754736977)\n",
      "('beans', 0.8755867947747867)\n"
     ]
    }
   ],
   "source": [
    "for pair in [(list(gensim_model.vocab)[int(x)], banana_cca_sim[0][int(x)]) for x in cca_ranks[-11:][::-1]]:\n",
    "    print(pair)"
   ]
  },
  {
   "cell_type": "markdown",
   "id": "driven-increase",
   "metadata": {},
   "source": [
    "### Cuteness"
   ]
  },
  {
   "cell_type": "markdown",
   "id": "danish-pulse",
   "metadata": {},
   "source": [
    "#### Kick the tires"
   ]
  },
  {
   "cell_type": "code",
   "execution_count": 160,
   "id": "anticipated-section",
   "metadata": {
    "ExecuteTime": {
     "end_time": "2021-04-29T17:46:39.867379Z",
     "start_time": "2021-04-29T17:46:39.827083Z"
    }
   },
   "outputs": [
    {
     "name": "stdout",
     "output_type": "stream",
     "text": [
      "98326\n"
     ]
    }
   ],
   "source": [
    "for i, elem in enumerate(gensim_model.vocab):\n",
    "\n",
    "    if elem == 'cuteness':\n",
    "        print(i)\n",
    "        break"
   ]
  },
  {
   "cell_type": "code",
   "execution_count": 161,
   "id": "handmade-scout",
   "metadata": {
    "ExecuteTime": {
     "end_time": "2021-04-29T17:46:40.310647Z",
     "start_time": "2021-04-29T17:46:40.133260Z"
    }
   },
   "outputs": [
    {
     "data": {
      "text/plain": [
       "'cuteness'"
      ]
     },
     "execution_count": 161,
     "metadata": {},
     "output_type": "execute_result"
    }
   ],
   "source": [
    "list(gensim_model.vocab)[98326]"
   ]
  },
  {
   "cell_type": "code",
   "execution_count": 162,
   "id": "productive-permit",
   "metadata": {
    "ExecuteTime": {
     "end_time": "2021-04-29T17:46:40.441576Z",
     "start_time": "2021-04-29T17:46:40.432838Z"
    }
   },
   "outputs": [
    {
     "data": {
      "text/plain": [
       "True"
      ]
     },
     "execution_count": 162,
     "metadata": {},
     "output_type": "execute_result"
    }
   ],
   "source": [
    "np.array_equal(\n",
    "    gensim_model['cuteness'],\n",
    "    gensim_model.vectors[98326,:]\n",
    ")"
   ]
  },
  {
   "cell_type": "markdown",
   "id": "liberal-apparatus",
   "metadata": {},
   "source": [
    "#### See what's nearby"
   ]
  },
  {
   "cell_type": "code",
   "execution_count": 163,
   "id": "primary-sweden",
   "metadata": {
    "ExecuteTime": {
     "end_time": "2021-04-29T17:46:41.262264Z",
     "start_time": "2021-04-29T17:46:41.087920Z"
    }
   },
   "outputs": [
    {
     "data": {
      "text/plain": [
       "[('acuteness', 0.7553513050079346),\n",
       " ('adorability', 0.6737878322601318),\n",
       " ('cheekiness', 0.6707777976989746),\n",
       " ('cute', 0.6700284481048584),\n",
       " ('geekiness', 0.661678671836853),\n",
       " ('tomboyishness', 0.6574928760528564),\n",
       " ('wackiness', 0.6542987823486328),\n",
       " ('naiveness', 0.653169572353363),\n",
       " ('hirsuteness', 0.6520013809204102),\n",
       " ('playfulness', 0.6509924530982971)]"
      ]
     },
     "execution_count": 163,
     "metadata": {},
     "output_type": "execute_result"
    }
   ],
   "source": [
    "gensim_model.most_similar('cuteness')"
   ]
  },
  {
   "cell_type": "code",
   "execution_count": 166,
   "id": "insured-trash",
   "metadata": {
    "ExecuteTime": {
     "end_time": "2021-04-29T17:47:10.687666Z",
     "start_time": "2021-04-29T17:47:10.675318Z"
    }
   },
   "outputs": [
    {
     "data": {
      "text/plain": [
       "array([[0.66167873]], dtype=float32)"
      ]
     },
     "execution_count": 166,
     "metadata": {},
     "output_type": "execute_result"
    }
   ],
   "source": [
    "cosine_similarity(\n",
    "    np.expand_dims(gensim_model.get_vector('cuteness'),0), \n",
    "    np.expand_dims(gensim_model.get_vector('geekiness'),0))"
   ]
  },
  {
   "cell_type": "code",
   "execution_count": 167,
   "id": "minute-clause",
   "metadata": {
    "ExecuteTime": {
     "end_time": "2021-04-29T17:47:31.866860Z",
     "start_time": "2021-04-29T17:47:25.404230Z"
    }
   },
   "outputs": [],
   "source": [
    "## look up nearest words 'by hand'\n",
    "cuteness_ft_sim = cosine_similarity(np.expand_dims(gensim_model.vectors[98326,:],0), gensim_model.vectors)"
   ]
  },
  {
   "cell_type": "code",
   "execution_count": 168,
   "id": "transsexual-battery",
   "metadata": {
    "ExecuteTime": {
     "end_time": "2021-04-29T17:47:32.519773Z",
     "start_time": "2021-04-29T17:47:32.008789Z"
    }
   },
   "outputs": [],
   "source": [
    "ft_ranks = cuteness_ft_sim[0].argsort()"
   ]
  },
  {
   "cell_type": "code",
   "execution_count": 169,
   "id": "employed-doctor",
   "metadata": {
    "ExecuteTime": {
     "end_time": "2021-04-29T17:47:42.679405Z",
     "start_time": "2021-04-29T17:47:41.123562Z"
    }
   },
   "outputs": [
    {
     "name": "stdout",
     "output_type": "stream",
     "text": [
      "('cuteness', 1.0000002)\n",
      "('acuteness', 0.7553514)\n",
      "('adorability', 0.67378783)\n",
      "('cheekiness', 0.67077786)\n",
      "('cute', 0.67002857)\n",
      "('geekiness', 0.6616788)\n",
      "('tomboyishness', 0.6574929)\n",
      "('wackiness', 0.65429884)\n",
      "('naiveness', 0.6531697)\n",
      "('hirsuteness', 0.6520015)\n"
     ]
    }
   ],
   "source": [
    "for pair in [(list(gensim_model.vocab)[int(x)], cuteness_ft_sim[0][int(x)]) for x in ft_ranks[-10:][::-1]]:\n",
    "    print(pair)"
   ]
  },
  {
   "cell_type": "markdown",
   "id": "sunset-broadcast",
   "metadata": {},
   "source": [
    "#### CCA Transform"
   ]
  },
  {
   "cell_type": "code",
   "execution_count": 153,
   "id": "advanced-culture",
   "metadata": {
    "ExecuteTime": {
     "end_time": "2021-04-29T17:45:58.570444Z",
     "start_time": "2021-04-29T17:45:58.567418Z"
    }
   },
   "outputs": [],
   "source": [
    "# altered_vectors = cca_model_30.transform(gensim_model.vectors)"
   ]
  },
  {
   "cell_type": "code",
   "execution_count": 170,
   "id": "handed-architect",
   "metadata": {
    "ExecuteTime": {
     "end_time": "2021-04-29T17:47:51.234745Z",
     "start_time": "2021-04-29T17:47:49.627635Z"
    }
   },
   "outputs": [],
   "source": [
    "cuteness_cca_sim = cosine_similarity(np.expand_dims(altered_vectors[98326,:],0),altered_vectors)"
   ]
  },
  {
   "cell_type": "code",
   "execution_count": 171,
   "id": "broken-consultancy",
   "metadata": {
    "ExecuteTime": {
     "end_time": "2021-04-29T17:47:54.691952Z",
     "start_time": "2021-04-29T17:47:54.031961Z"
    }
   },
   "outputs": [],
   "source": [
    "cca_ranks = cuteness_cca_sim[0].argsort()"
   ]
  },
  {
   "cell_type": "code",
   "execution_count": 172,
   "id": "single-powell",
   "metadata": {
    "ExecuteTime": {
     "end_time": "2021-04-29T17:48:02.660298Z",
     "start_time": "2021-04-29T17:48:00.789194Z"
    }
   },
   "outputs": [
    {
     "name": "stdout",
     "output_type": "stream",
     "text": [
      "('cuteness', 1.0)\n",
      "('mannerisms', 0.8572540602332028)\n",
      "('geeky', 0.837268004553372)\n",
      "('tomboyishness', 0.8291835039444639)\n",
      "('geekiness', 0.8276438114958986)\n",
      "('kemonomimi', 0.8273368653695954)\n",
      "('resemblance', 0.8248549798795165)\n",
      "('nerd', 0.8170904135995668)\n",
      "('resemblances', 0.8086607307074036)\n",
      "('klutzy', 0.8080002780587143)\n",
      "('obsessed', 0.8046640468957967)\n"
     ]
    }
   ],
   "source": [
    "for pair in [(list(gensim_model.vocab)[int(x)], cuteness_cca_sim[0][int(x)]) for x in cca_ranks[-11:][::-1]]:\n",
    "    print(pair)"
   ]
  }
 ],
 "metadata": {
  "kernelspec": {
   "display_name": "Python 3.7 (MLE-4587)",
   "language": "python",
   "name": "mle-4587_3.7"
  },
  "language_info": {
   "codemirror_mode": {
    "name": "ipython",
    "version": 3
   },
   "file_extension": ".py",
   "mimetype": "text/x-python",
   "name": "python",
   "nbconvert_exporter": "python",
   "pygments_lexer": "ipython3",
   "version": "3.7.10"
  },
  "toc": {
   "base_numbering": 1,
   "nav_menu": {},
   "number_sections": true,
   "sideBar": true,
   "skip_h1_title": false,
   "title_cell": "Table of Contents",
   "title_sidebar": "Contents",
   "toc_cell": false,
   "toc_position": {},
   "toc_section_display": true,
   "toc_window_display": false
  }
 },
 "nbformat": 4,
 "nbformat_minor": 5
}
